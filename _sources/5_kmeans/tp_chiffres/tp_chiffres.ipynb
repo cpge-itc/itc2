{
 "cells": [
  {
   "attachments": {},
   "cell_type": "markdown",
   "metadata": {},
   "source": [
    "#  TP : Reconnaissance de chiffres\n",
    "\n",
    "Dans ce TP, nous voulons reconnaître des chiffres manuscrits en utilisant l'algorithme des $k$-moyennes.  \n",
    "**Remarque** : le jeu de données utilisé est normalement utilisé pour de la classification supervisée (puisque les classes sont déjà connues) mais il est quand même intéressant d'utiliser l'algorithme des $k$-moyennes (qui est non-supervisé) pour voir s'il arrive à trouver les classes correspondants aux chiffres.\n",
    "\n",
    "Commençons par charger les données :"
   ]
  },
  {
   "cell_type": "code",
   "execution_count": 182,
   "metadata": {},
   "outputs": [
    {
     "data": {
      "text/plain": [
       "(797, 8, 8)"
      ]
     },
     "execution_count": 182,
     "metadata": {},
     "output_type": "execute_result"
    }
   ],
   "source": [
    "import numpy as np\n",
    "from sklearn.datasets import load_digits\n",
    "from matplotlib import pyplot as plt\n",
    "\n",
    "digits = load_digits()\n",
    "digits_matrix = digits.images[1000:] \n",
    "digits_matrix.shape"
   ]
  },
  {
   "attachments": {},
   "cell_type": "markdown",
   "metadata": {},
   "source": [
    "`digits_matrix` est un tableau `numpy` de taille $1297\\times 8\\times 8$, c'est-à-dire $1297$ matrices de taille $8\\times 8$."
   ]
  },
  {
   "cell_type": "code",
   "execution_count": 183,
   "metadata": {},
   "outputs": [
    {
     "data": {
      "text/plain": [
       "array([[ 0.,  0.,  1., 14.,  2.,  0.,  0.,  0.],\n",
       "       [ 0.,  0.,  0., 16.,  5.,  0.,  0.,  0.],\n",
       "       [ 0.,  0.,  0., 14., 10.,  0.,  0.,  0.],\n",
       "       [ 0.,  0.,  0., 11., 16.,  1.,  0.,  0.],\n",
       "       [ 0.,  0.,  0.,  3., 14.,  6.,  0.,  0.],\n",
       "       [ 0.,  0.,  0.,  0.,  8., 12.,  0.,  0.],\n",
       "       [ 0.,  0., 10., 14., 13., 16.,  8.,  3.],\n",
       "       [ 0.,  0.,  2., 11., 12., 15., 16., 15.]])"
      ]
     },
     "execution_count": 183,
     "metadata": {},
     "output_type": "execute_result"
    }
   ],
   "source": [
    "digits_matrix[0] # la 1ère matrice"
   ]
  },
  {
   "attachments": {},
   "cell_type": "markdown",
   "metadata": {},
   "source": [
    "Chacune de ces matrices est en fait une image de $8\\times 8$ pixels, représentant un chiffre manuscrit.  \n",
    "Chaque élément de la matrice représente un niveau de gris entre $0$ (blanc) et $16$ (noir).  \n",
    "Par exemple, affichons l'image correspondant à la matrice ci-dessus :"
   ]
  },
  {
   "cell_type": "code",
   "execution_count": 184,
   "metadata": {},
   "outputs": [
    {
     "data": {
      "image/png": "[encoded data removed]",
      "text/plain": [
       "<Figure size 640x480 with 1 Axes>"
      ]
     },
     "metadata": {},
     "output_type": "display_data"
    }
   ],
   "source": [
    "plt.imshow(digits_matrix[0], cmap=plt.cm.gray_r)\n",
    "plt.show() # c'est manifestement un 8"
   ]
  },
  {
   "attachments": {},
   "cell_type": "markdown",
   "metadata": {},
   "source": [
    "## Redimensionner les images\n",
    "\n",
    "Pour appliquer l'algorithme des $k$-moyennes, il faut que les données soient des vecteurs. On transforme donc une matrice en vecteur en concaténant les lignes de la matrice :  \n",
    "$$\n",
    "\\begin{pmatrix}\n",
    "1 & 2 & 3 \\\\\n",
    "4 & 5 & 6 \\\\\n",
    "7 & 8 & 9\n",
    "\\end{pmatrix}\n",
    "\\longrightarrow\n",
    "\\begin{pmatrix}\n",
    "1 & 2 & 3 & 4 & 5 & 6 & 7 & 8 & 9\n",
    "\\end{pmatrix}\n",
    "$$"
   ]
  },
  {
   "attachments": {},
   "cell_type": "markdown",
   "metadata": {},
   "source": [
    "````{admonition} Question\n",
    " Écrire une fonction `to_vector(m)` qui prend en argument une matrice `m` et renvoie le vecteur correspondant, sous forme de liste.\n",
    "````"
   ]
  },
  {
   "cell_type": "code",
   "execution_count": 186,
   "metadata": {},
   "outputs": [],
   "source": [
    "assert len(to_vector(digits_matrix[0])) == 64 # les images 8*8 sont transformées en vecteur 64"
   ]
  },
  {
   "attachments": {},
   "cell_type": "markdown",
   "metadata": {},
   "source": [
    "````{admonition} Question\n",
    " Écrire une fonction `to_matrix(v)` qui prend en argument un vecteur `v` et renvoie la matrice correspondante, sous forme de liste de listes.\n",
    "````"
   ]
  },
  {
   "cell_type": "code",
   "execution_count": 188,
   "metadata": {},
   "outputs": [],
   "source": [
    "assert (to_matrix(to_vector(digits_matrix[0])) == digits_matrix[0]).all() \n",
    "# to_matrix et to_vector sont inverses l'une de l'autre"
   ]
  },
  {
   "attachments": {},
   "cell_type": "markdown",
   "metadata": {},
   "source": [
    "````{admonition} Question\n",
    " Définir une liste `X` contenant les vecteurs correspondant aux images dans `digits_matrix`. Cette variable `X` sera utilisée dans toute la suite.\n",
    "````"
   ]
  },
  {
   "cell_type": "code",
   "execution_count": 189,
   "metadata": {
    "tags": [
     "coor"
    ]
   },
   "outputs": [],
   "source": [
    "X = []\n",
    "for i in range(0, len(digits_matrix)):\n",
    "    X.append(to_vector(digits_matrix[i]))"
   ]
  },
  {
   "attachments": {},
   "cell_type": "markdown",
   "metadata": {},
   "source": [
    "## Algorithmes des $k$-moyennes"
   ]
  },
  {
   "attachments": {},
   "cell_type": "markdown",
   "metadata": {},
   "source": [
    "````{admonition} Question\n",
    " Écrire une fonction `d(u, v)` qui prend en argument deux vecteurs `u` et `v` et renvoie la distance euclidienne entre ces deux vecteurs.\n",
    "````"
   ]
  },
  {
   "cell_type": "code",
   "execution_count": 191,
   "metadata": {},
   "outputs": [
    {
     "data": {
      "text/plain": [
       "5.196152422706632"
      ]
     },
     "execution_count": 191,
     "metadata": {},
     "output_type": "execute_result"
    }
   ],
   "source": [
    "d([1, 2, 3], [4, 5, 6])"
   ]
  },
  {
   "attachments": {},
   "cell_type": "markdown",
   "metadata": {},
   "source": [
    "Comme dans le cours, nous utilisons une liste `centres` pour stocker les centres des classes. `centres[i]` est le centre de la classe $i$."
   ]
  },
  {
   "attachments": {},
   "cell_type": "markdown",
   "metadata": {},
   "source": [
    "````{admonition} Question\n",
    " Écrire une fonction `centres_aléatoires(X, k)` qui prend en argument une liste de vecteurs `X` et un entier `k` et renvoie une liste de `k` vecteurs aléatoires choisis dans `X`.  \n",
    "On utilisera `random.sample` dont [on pourra consulter la documentation ici](https://docs.python.org/3/library/random.html).\n",
    "````"
   ]
  },
  {
   "cell_type": "code",
   "execution_count": 193,
   "metadata": {},
   "outputs": [],
   "source": [
    "centres = centres_aléatoires(X, 10)\n",
    "assert len(centres) == 10 and len(centres[0]) == 64"
   ]
  },
  {
   "attachments": {},
   "cell_type": "markdown",
   "metadata": {},
   "source": [
    "````{admonition} Question\n",
    " Écrire une fonction `plus_proche(x, centres)` qui prend en argument un vecteur `x` et une liste de vecteurs `centres` et renvoie l'indice du centre le plus proche de `x`.\n",
    "````"
   ]
  },
  {
   "cell_type": "code",
   "execution_count": 195,
   "metadata": {},
   "outputs": [
    {
     "data": {
      "text/plain": [
       "1"
      ]
     },
     "execution_count": 195,
     "metadata": {},
     "output_type": "execute_result"
    }
   ],
   "source": [
    "plus_proche([1, 2], [[4, 5], [2, 3], [4, 0]])"
   ]
  },
  {
   "attachments": {},
   "cell_type": "markdown",
   "metadata": {},
   "source": [
    "**Contrairement à ce qui a été fait dans le cours, on utilise une liste `classes` telle que `classes[i]` est le numéro de classe de `X[i]` (dans le cours, `classes[i]` était la liste des vecteurs de la classe $i$).**"
   ]
  },
  {
   "attachments": {},
   "cell_type": "markdown",
   "metadata": {},
   "source": [
    "````{admonition} Question\n",
    " Écrire une fonction `calculer_classes(X, centres)` qui renvoie la liste `classes` correspondant à `X` et à `centres`.\n",
    "````"
   ]
  },
  {
   "cell_type": "code",
   "execution_count": 197,
   "metadata": {},
   "outputs": [],
   "source": [
    "classes = calculer_classes(X, centres_aléatoires(X, 10))\n",
    "assert len(classes) == len(X) and max(classes) < 10 and min(classes) >= 0"
   ]
  },
  {
   "attachments": {},
   "cell_type": "markdown",
   "metadata": {},
   "source": [
    "````{admonition} Question\n",
    " Écrire une fonction `centre(X, classes, i)` qui renvoie le centre de la classe $i$.\n",
    "````"
   ]
  },
  {
   "cell_type": "code",
   "execution_count": 199,
   "metadata": {},
   "outputs": [],
   "source": [
    "assert len(centre(X, classes, 0)) == 64"
   ]
  },
  {
   "attachments": {},
   "cell_type": "markdown",
   "metadata": {},
   "source": [
    "````{admonition} Question\n",
    " Écrire une fonction `calculer_centres(X, classes, k)` qui renvoie la liste `centres` correspondant à `X` et à `classes`.\n",
    "````"
   ]
  },
  {
   "cell_type": "code",
   "execution_count": 201,
   "metadata": {},
   "outputs": [],
   "source": [
    "classes = calculer_classes(X, centres_aléatoires(X, 10))\n",
    "assert len(calculer_centres(X, classes, 10)) == 10 and len(calculer_centres(X, classes, 10)[0]) == 64"
   ]
  },
  {
   "attachments": {},
   "cell_type": "markdown",
   "metadata": {},
   "source": [
    "````{admonition} Question\n",
    " Écrire une fonction `kmeans(X, centres, k)` qui, à partir de centres initiaux donnés en argument, applique l'algorithme des $k$-moyennes et renvoie un couple correspondant à la liste `(centres, classes)` obtenue à la fin de l'algorithme.\n",
    "````"
   ]
  },
  {
   "cell_type": "code",
   "execution_count": 205,
   "metadata": {},
   "outputs": [],
   "source": [
    "k = 10\n",
    "centres, classes = kmeans(X, centres_aléatoires(X, k), k) # ceci prend quelques secondes"
   ]
  },
  {
   "attachments": {},
   "cell_type": "markdown",
   "metadata": {},
   "source": [
    "## Calcul de l'inertie\n",
    "\n",
    "Dans cette partie, on réutilise les listes `centres` et `classes` obtenues précédemment par un appel à `kmeans`."
   ]
  },
  {
   "attachments": {},
   "cell_type": "markdown",
   "metadata": {},
   "source": [
    "````{admonition} Question\n",
    " Écrire une fonction `inertie(X, centres, classes)` qui renvoie l'inertie de la partition définie par `classes`. On rappelle que l'inertie d'une partition est la somme des distances au carré des points à leur centre de classe.\n",
    "````"
   ]
  },
  {
   "cell_type": "code",
   "execution_count": 121,
   "metadata": {},
   "outputs": [],
   "source": [
    "def inertie(X, centres, classes):\n",
    "    s = 0\n",
    "    for i in range(len(X)):\n",
    "        s += d(X[i], centres[classes[i]])**2\n",
    "    return s"
   ]
  },
  {
   "cell_type": "code",
   "execution_count": 79,
   "metadata": {},
   "outputs": [
    {
     "data": {
      "text/plain": [
       "44817.20740339294"
      ]
     },
     "execution_count": 79,
     "metadata": {},
     "output_type": "execute_result"
    }
   ],
   "source": [
    "inertie(X, centres, classes)"
   ]
  },
  {
   "attachments": {},
   "cell_type": "markdown",
   "metadata": {},
   "source": [
    "````{admonition} Question\n",
    " Réécrire la fonction `kmeans` précédente de façon à ce qu'elle renvoie aussi la liste des inerties obtenues à chaque itération de l'algorithme. Utiliser le code ci-dessous pour afficher aussi l'évolution de l'inertie au cours des itérations. Commenter.\n",
    "````"
   ]
  },
  {
   "cell_type": "code",
   "execution_count": 209,
   "metadata": {},
   "outputs": [
    {
     "data": {
      "image/png": "[encoded data removed]",
      "text/plain": [
       "<Figure size 640x480 with 1 Axes>"
      ]
     },
     "metadata": {},
     "output_type": "display_data"
    }
   ],
   "source": [
    "centres, classes, inerties = kmeans(X, centres_aléatoires(X, k), k) # ceci prend quelques secondes\n",
    "plt.plot(inerties)\n",
    "plt.show()"
   ]
  },
  {
   "attachments": {},
   "cell_type": "markdown",
   "metadata": {},
   "source": [
    "## Classification de nouvelles images"
   ]
  },
  {
   "attachments": {},
   "cell_type": "markdown",
   "metadata": {},
   "source": [
    "````{admonition} Question\n",
    " Exécuter le code suivant pour afficher le centre de chaque classe. Il s'agit donc, pour chaque classe, de l'image obtenue en faisant la moyenne (pixel par pixel) des images de la classe.\n",
    "````"
   ]
  },
  {
   "cell_type": "code",
   "execution_count": 220,
   "metadata": {},
   "outputs": [
    {
     "data": {
      "image/png": "[encoded data removed]",
      "text/plain": [
       "<Figure size 800x300 with 10 Axes>"
      ]
     },
     "metadata": {},
     "output_type": "display_data"
    }
   ],
   "source": [
    "fig, axes = plt.subplots(2, 5, figsize=(8, 3))\n",
    "for ax, center in zip(axes.ravel(), centres):\n",
    "    ax.matshow(np.array(to_matrix(center)).reshape((8, 8)), cmap=plt.cm.gray_r)\n",
    "    ax.axis('off')\n",
    "plt.show()"
   ]
  },
  {
   "attachments": {},
   "cell_type": "markdown",
   "metadata": {},
   "source": [
    "Sur l'image ci-dessus, les classes sont représentés dans l'ordre, de gauche à droite et de haut en bas. Par exemple, l'image en haut à gauche correspond à la classe $0$, celle juste à droite à la classe $1$..."
   ]
  },
  {
   "attachments": {},
   "cell_type": "markdown",
   "metadata": {},
   "source": [
    "````{admonition} Question\n",
    " Définir une liste `classe_to_chiffre` telle que `classe_to_chiffre[i]` est le chiffre que vous pouvez lire pour le centre de la classe $i$.\n",
    "````"
   ]
  },
  {
   "attachments": {},
   "cell_type": "markdown",
   "metadata": {},
   "source": [
    "````{admonition} Question\n",
    " Exécuter le code suivant pour stocker dans `X_test` les vecteurs correspondant aux images que l'on va essayer de classifier, en utilisant le résultat de `kmeans`.\n",
    "````"
   ]
  },
  {
   "cell_type": "code",
   "execution_count": 132,
   "metadata": {},
   "outputs": [],
   "source": [
    "X_test = list(map(to_vector, digits.images[:500]))"
   ]
  },
  {
   "attachments": {},
   "cell_type": "markdown",
   "metadata": {},
   "source": [
    "````{admonition} Exercice\n",
    "  \n",
    "1. Écrire une fonction `predict(x, centres, classe_to_chiffre)` qui renvoie le chiffre prédit pour l'image `x`. Il faut donc trouver la classe `i` la plus proche de `x` et renvoyer `classe_to_chiffre[i]`.  \n",
    "2. Exécuter le code suivant pour afficher des images de `X_test` et les chiffres prédits.\n",
    "````"
   ]
  },
  {
   "cell_type": "code",
   "execution_count": 224,
   "metadata": {},
   "outputs": [
    {
     "data": {
      "image/png": "[encoded data removed]",
      "text/plain": [
       "<Figure size 800x500 with 10 Axes>"
      ]
     },
     "metadata": {},
     "output_type": "display_data"
    }
   ],
   "source": [
    "fig, axes = plt.subplots(2, 5, figsize=(8, 5))\n",
    "for i, ax in enumerate(axes.ravel()):\n",
    "    ax.matshow(np.array(to_matrix(X[i])).reshape((8, 8)), cmap=plt.cm.gray_r)\n",
    "    ax.set_title(predict(X[i], centres, classe_to_chiffre))\n",
    "    ax.axis('off')\n",
    "plt.show()"
   ]
  },
  {
   "attachments": {},
   "cell_type": "markdown",
   "metadata": {},
   "source": [
    "````{admonition} Question\n",
    " Écrire une fonction `precision(centres)` qui renvoie la précision de cet algorithme de classification, sur les données de `X_test`. Pour cela, on compte la proportion de classe prédite pour `X_test[i]` égale à `digits.target[i]`.\n",
    "````"
   ]
  },
  {
   "cell_type": "code",
   "execution_count": 228,
   "metadata": {},
   "outputs": [
    {
     "data": {
      "text/plain": [
       "0.694"
      ]
     },
     "execution_count": 228,
     "metadata": {},
     "output_type": "execute_result"
    }
   ],
   "source": [
    "precision(centres)"
   ]
  },
  {
   "attachments": {},
   "cell_type": "markdown",
   "metadata": {},
   "source": [
    "## Avec les $k$ plus proches voisins"
   ]
  },
  {
   "attachments": {},
   "cell_type": "markdown",
   "metadata": {},
   "source": [
    "````{admonition} Question\n",
    " Implémenter l'algorithme des $k$ plus proches voisins et comparer la précision obtenue avec celle des $k$-moyennes`. Quel algorithme de classification semble le plus adapté ici ?\n",
    "````"
   ]
  }
 ],
 "metadata": {
  "kernelspec": {
   "display_name": "Python 3",
   "language": "python",
   "name": "python3"
  },
  "language_info": {
   "codemirror_mode": {
    "name": "ipython",
    "version": 3
   },
   "file_extension": ".py",
   "mimetype": "text/x-python",
   "name": "python",
   "nbconvert_exporter": "python",
   "pygments_lexer": "ipython3",
   "version": "3.9.2"
  },
  "vscode": {
   "interpreter": {
    "hash": "31f2aee4e71d21fbe5cf8b01ff0e069b9275f58929596ceb00d14d90e3e16cd6"
   }
  }
 },
 "nbformat": 4,
 "nbformat_minor": 2
}
