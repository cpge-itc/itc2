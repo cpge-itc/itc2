{
 "cells": [
  {
   "cell_type": "markdown",
   "metadata": {},
   "source": [
    "# Exemple : Pokémon\n",
    "\n",
    "[**Diagramme de la base de donnée**](https://dbdiagram.io/d/62853fe17f945876b6459548)\n",
    "\n",
    "Les données ont été obtenues sur [https://github.com/bthouverez/Pokemon-BDD](https://github.com/bthouverez/Pokemon-BDD)\n",
    "\n",
    "Voici une commande pour afficher le schéma de chaque table :"
   ]
  },
  {
   "cell_type": "code",
   "execution_count": null,
   "metadata": {},
   "outputs": [],
   "source": [
    ".schema"
   ]
  },
  {
   "cell_type": "markdown",
   "metadata": {},
   "source": [
    "Les clés primaires sont indiquées avec `PRIMARY KEY`.  \n",
    "Dans la table `evolue_en`, `FOREIGN KEY(pokemon_evol_id) REFERENCES pokemons(id)` indique que `pokemon_evol_id` est une clé étrangère de `evolue_en` et qu'elle fait référence à la clé primaire `id` de la table `pokemons`."
   ]
  },
  {
   "cell_type": "markdown",
   "metadata": {},
   "source": [
    "## Opérations ensemblistes\n",
    "\n",
    "### Union : UNION\n",
    "\n",
    "Pour obtenir une table contenant les pokémons et les dresseurs :"
   ]
  },
  {
   "cell_type": "code",
   "execution_count": null,
   "metadata": {},
   "outputs": [],
   "source": [
    "SELECT * FROM pokemons UNION SELECT * FROM dresseurs"
   ]
  },
  {
   "cell_type": "markdown",
   "metadata": {},
   "source": [
    "### Intersection : INTERSECT\n",
    "\n",
    "Il n'y a aucun pokémon qui est aussi un dresseur :"
   ]
  },
  {
   "cell_type": "code",
   "execution_count": null,
   "metadata": {},
   "outputs": [],
   "source": [
    "SELECT * FROM pokemons INTERSECT SELECT * FROM dresseurs"
   ]
  },
  {
   "cell_type": "markdown",
   "metadata": {},
   "source": [
    "### Différence : EXCEPT"
   ]
  },
  {
   "cell_type": "markdown",
   "metadata": {},
   "source": [
    "Comme aucun pokémon n'est un dresseur, prendre la différence renvoie la même table que `pokemons` :"
   ]
  },
  {
   "cell_type": "code",
   "execution_count": null,
   "metadata": {},
   "outputs": [],
   "source": [
    "SELECT * FROM pokemons EXCEPT SELECT * FROM dresseurs"
   ]
  },
  {
   "cell_type": "markdown",
   "metadata": {},
   "source": [
    "## Produit cartésien\n",
    "\n",
    "Un produit cartésien de deux tables R1 et R2 donne toutes les façons de combiner un enregistrement de R1 et un enregistrement de R2 :"
   ]
  },
  {
   "cell_type": "code",
   "execution_count": 6,
   "metadata": {},
   "outputs": [
    {
     "data": {
      "text/html": [
       "<table class=\"dataframe\" border=\"1\"><thead><tr style=\"text-align: right;\"><th>id</th><th>libelle</th><th>id</th><th>nom</th></tr></thead><tbody><tr><td>1</td><td>Combat</td><td>2</td><td>Pierre</td></tr><tr><td>1</td><td>Combat</td><td>3</td><td>Ondine</td></tr><tr><td>1</td><td>Combat</td><td>4</td><td>Major Bob</td></tr><tr><td>1</td><td>Combat</td><td>5</td><td>Erika</td></tr><tr><td>1</td><td>Combat</td><td>6</td><td>Koga</td></tr><tr><td>1</td><td>Combat</td><td>7</td><td>Morgane</td></tr><tr><td>1</td><td>Combat</td><td>8</td><td>Auguste</td></tr><tr><td>1</td><td>Combat</td><td>9</td><td>Giovanni</td></tr><tr><td>1</td><td>Combat</td><td>10</td><td>Olga</td></tr><tr><td>1</td><td>Combat</td><td>11</td><td>Aldo</td></tr><tr><td>1</td><td>Combat</td><td>12</td><td>Agatha</td></tr><tr><td>1</td><td>Combat</td><td>13</td><td>Peter</td></tr><tr><td>2</td><td>Dragon</td><td>2</td><td>Pierre</td></tr><tr><td>2</td><td>Dragon</td><td>3</td><td>Ondine</td></tr><tr><td>2</td><td>Dragon</td><td>4</td><td>Major Bob</td></tr><tr><td>2</td><td>Dragon</td><td>5</td><td>Erika</td></tr><tr><td>2</td><td>Dragon</td><td>6</td><td>Koga</td></tr><tr><td>2</td><td>Dragon</td><td>7</td><td>Morgane</td></tr><tr><td>2</td><td>Dragon</td><td>8</td><td>Auguste</td></tr><tr><td>2</td><td>Dragon</td><td>9</td><td>Giovanni</td></tr><tr><td>2</td><td>Dragon</td><td>10</td><td>Olga</td></tr><tr><td>2</td><td>Dragon</td><td>11</td><td>Aldo</td></tr><tr><td>2</td><td>Dragon</td><td>12</td><td>Agatha</td></tr><tr><td>2</td><td>Dragon</td><td>13</td><td>Peter</td></tr><tr><td>3</td><td>Eau</td><td>2</td><td>Pierre</td></tr><tr><td>3</td><td>Eau</td><td>3</td><td>Ondine</td></tr><tr><td>3</td><td>Eau</td><td>4</td><td>Major Bob</td></tr><tr><td>3</td><td>Eau</td><td>5</td><td>Erika</td></tr><tr><td>3</td><td>Eau</td><td>6</td><td>Koga</td></tr><tr><td>3</td><td>Eau</td><td>7</td><td>Morgane</td></tr><tr><td>3</td><td>Eau</td><td>8</td><td>Auguste</td></tr><tr><td>3</td><td>Eau</td><td>9</td><td>Giovanni</td></tr><tr><td>3</td><td>Eau</td><td>10</td><td>Olga</td></tr><tr><td>3</td><td>Eau</td><td>11</td><td>Aldo</td></tr><tr><td>3</td><td>Eau</td><td>12</td><td>Agatha</td></tr><tr><td>3</td><td>Eau</td><td>13</td><td>Peter</td></tr><tr><td>4</td><td>Electrique</td><td>2</td><td>Pierre</td></tr><tr><td>4</td><td>Electrique</td><td>3</td><td>Ondine</td></tr><tr><td>4</td><td>Electrique</td><td>4</td><td>Major Bob</td></tr><tr><td>4</td><td>Electrique</td><td>5</td><td>Erika</td></tr><tr><td>4</td><td>Electrique</td><td>6</td><td>Koga</td></tr><tr><td>4</td><td>Electrique</td><td>7</td><td>Morgane</td></tr><tr><td>4</td><td>Electrique</td><td>8</td><td>Auguste</td></tr><tr><td>4</td><td>Electrique</td><td>9</td><td>Giovanni</td></tr><tr><td>4</td><td>Electrique</td><td>10</td><td>Olga</td></tr><tr><td>4</td><td>Electrique</td><td>11</td><td>Aldo</td></tr><tr><td>4</td><td>Electrique</td><td>12</td><td>Agatha</td></tr><tr><td>4</td><td>Electrique</td><td>13</td><td>Peter</td></tr><tr><td>5</td><td>Feu</td><td>2</td><td>Pierre</td></tr><tr><td>5</td><td>Feu</td><td>3</td><td>Ondine</td></tr><tr><td>⋮ </td><td>⋮ </td><td>⋮ </td><td>⋮ </td></tr><tr><td>11</td><td>Psy</td><td>12</td><td>Agatha</td></tr><tr><td>11</td><td>Psy</td><td>13</td><td>Peter</td></tr><tr><td>12</td><td>Roche</td><td>2</td><td>Pierre</td></tr><tr><td>12</td><td>Roche</td><td>3</td><td>Ondine</td></tr><tr><td>12</td><td>Roche</td><td>4</td><td>Major Bob</td></tr><tr><td>12</td><td>Roche</td><td>5</td><td>Erika</td></tr><tr><td>12</td><td>Roche</td><td>6</td><td>Koga</td></tr><tr><td>12</td><td>Roche</td><td>7</td><td>Morgane</td></tr><tr><td>12</td><td>Roche</td><td>8</td><td>Auguste</td></tr><tr><td>12</td><td>Roche</td><td>9</td><td>Giovanni</td></tr><tr><td>12</td><td>Roche</td><td>10</td><td>Olga</td></tr><tr><td>12</td><td>Roche</td><td>11</td><td>Aldo</td></tr><tr><td>12</td><td>Roche</td><td>12</td><td>Agatha</td></tr><tr><td>12</td><td>Roche</td><td>13</td><td>Peter</td></tr><tr><td>13</td><td>Sol</td><td>2</td><td>Pierre</td></tr><tr><td>13</td><td>Sol</td><td>3</td><td>Ondine</td></tr><tr><td>13</td><td>Sol</td><td>4</td><td>Major Bob</td></tr><tr><td>13</td><td>Sol</td><td>5</td><td>Erika</td></tr><tr><td>13</td><td>Sol</td><td>6</td><td>Koga</td></tr><tr><td>13</td><td>Sol</td><td>7</td><td>Morgane</td></tr><tr><td>13</td><td>Sol</td><td>8</td><td>Auguste</td></tr><tr><td>13</td><td>Sol</td><td>9</td><td>Giovanni</td></tr><tr><td>13</td><td>Sol</td><td>10</td><td>Olga</td></tr><tr><td>13</td><td>Sol</td><td>11</td><td>Aldo</td></tr><tr><td>13</td><td>Sol</td><td>12</td><td>Agatha</td></tr><tr><td>13</td><td>Sol</td><td>13</td><td>Peter</td></tr><tr><td>14</td><td>Spectre</td><td>2</td><td>Pierre</td></tr><tr><td>14</td><td>Spectre</td><td>3</td><td>Ondine</td></tr><tr><td>14</td><td>Spectre</td><td>4</td><td>Major Bob</td></tr><tr><td>14</td><td>Spectre</td><td>5</td><td>Erika</td></tr><tr><td>14</td><td>Spectre</td><td>6</td><td>Koga</td></tr><tr><td>14</td><td>Spectre</td><td>7</td><td>Morgane</td></tr><tr><td>14</td><td>Spectre</td><td>8</td><td>Auguste</td></tr><tr><td>14</td><td>Spectre</td><td>9</td><td>Giovanni</td></tr><tr><td>14</td><td>Spectre</td><td>10</td><td>Olga</td></tr><tr><td>14</td><td>Spectre</td><td>11</td><td>Aldo</td></tr><tr><td>14</td><td>Spectre</td><td>12</td><td>Agatha</td></tr><tr><td>14</td><td>Spectre</td><td>13</td><td>Peter</td></tr><tr><td>15</td><td>Vol</td><td>2</td><td>Pierre</td></tr><tr><td>15</td><td>Vol</td><td>3</td><td>Ondine</td></tr><tr><td>15</td><td>Vol</td><td>4</td><td>Major Bob</td></tr><tr><td>15</td><td>Vol</td><td>5</td><td>Erika</td></tr><tr><td>15</td><td>Vol</td><td>6</td><td>Koga</td></tr><tr><td>15</td><td>Vol</td><td>7</td><td>Morgane</td></tr><tr><td>15</td><td>Vol</td><td>8</td><td>Auguste</td></tr><tr><td>15</td><td>Vol</td><td>9</td><td>Giovanni</td></tr><tr><td>15</td><td>Vol</td><td>10</td><td>Olga</td></tr><tr><td>15</td><td>Vol</td><td>11</td><td>Aldo</td></tr><tr><td>15</td><td>Vol</td><td>12</td><td>Agatha</td></tr><tr><td>15</td><td>Vol</td><td>13</td><td>Peter</td></tr></tbody></table>"
      ],
      "text/plain": [
       "id\tlibelle\tid\tnom\n",
       "1\tCombat\t2\tPierre\n",
       "1\tCombat\t3\tOndine\n",
       "1\tCombat\t4\tMajor Bob\n",
       "1\tCombat\t5\tErika\n",
       "1\tCombat\t6\tKoga\n",
       "1\tCombat\t7\tMorgane\n",
       "1\tCombat\t8\tAuguste\n",
       "1\tCombat\t9\tGiovanni\n",
       "1\tCombat\t10\tOlga\n",
       "1\tCombat\t11\tAldo\n",
       "1\tCombat\t12\tAgatha\n",
       "1\tCombat\t13\tPeter\n",
       "2\tDragon\t2\tPierre\n",
       "2\tDragon\t3\tOndine\n",
       "2\tDragon\t4\tMajor Bob\n",
       "2\tDragon\t5\tErika\n",
       "2\tDragon\t6\tKoga\n",
       "2\tDragon\t7\tMorgane\n",
       "2\tDragon\t8\tAuguste\n",
       "2\tDragon\t9\tGiovanni\n",
       "2\tDragon\t10\tOlga\n",
       "2\tDragon\t11\tAldo\n",
       "2\tDragon\t12\tAgatha\n",
       "2\tDragon\t13\tPeter\n",
       "3\tEau\t2\tPierre\n",
       "3\tEau\t3\tOndine\n",
       "3\tEau\t4\tMajor Bob\n",
       "3\tEau\t5\tErika\n",
       "3\tEau\t6\tKoga\n",
       "3\tEau\t7\tMorgane\n",
       "3\tEau\t8\tAuguste\n",
       "3\tEau\t9\tGiovanni\n",
       "3\tEau\t10\tOlga\n",
       "3\tEau\t11\tAldo\n",
       "3\tEau\t12\tAgatha\n",
       "3\tEau\t13\tPeter\n",
       "4\tElectrique\t2\tPierre\n",
       "4\tElectrique\t3\tOndine\n",
       "4\tElectrique\t4\tMajor Bob\n",
       "4\tElectrique\t5\tErika\n",
       "4\tElectrique\t6\tKoga\n",
       "4\tElectrique\t7\tMorgane\n",
       "4\tElectrique\t8\tAuguste\n",
       "4\tElectrique\t9\tGiovanni\n",
       "4\tElectrique\t10\tOlga\n",
       "4\tElectrique\t11\tAldo\n",
       "4\tElectrique\t12\tAgatha\n",
       "4\tElectrique\t13\tPeter\n",
       "5\tFeu\t2\tPierre\n",
       "5\tFeu\t3\tOndine\n",
       "⋮ \t⋮ \t⋮ \t⋮ \n",
       "11\tPsy\t12\tAgatha\n",
       "11\tPsy\t13\tPeter\n",
       "12\tRoche\t2\tPierre\n",
       "12\tRoche\t3\tOndine\n",
       "12\tRoche\t4\tMajor Bob\n",
       "12\tRoche\t5\tErika\n",
       "12\tRoche\t6\tKoga\n",
       "12\tRoche\t7\tMorgane\n",
       "12\tRoche\t8\tAuguste\n",
       "12\tRoche\t9\tGiovanni\n",
       "12\tRoche\t10\tOlga\n",
       "12\tRoche\t11\tAldo\n",
       "12\tRoche\t12\tAgatha\n",
       "12\tRoche\t13\tPeter\n",
       "13\tSol\t2\tPierre\n",
       "13\tSol\t3\tOndine\n",
       "13\tSol\t4\tMajor Bob\n",
       "13\tSol\t5\tErika\n",
       "13\tSol\t6\tKoga\n",
       "13\tSol\t7\tMorgane\n",
       "13\tSol\t8\tAuguste\n",
       "13\tSol\t9\tGiovanni\n",
       "13\tSol\t10\tOlga\n",
       "13\tSol\t11\tAldo\n",
       "13\tSol\t12\tAgatha\n",
       "13\tSol\t13\tPeter\n",
       "14\tSpectre\t2\tPierre\n",
       "14\tSpectre\t3\tOndine\n",
       "14\tSpectre\t4\tMajor Bob\n",
       "14\tSpectre\t5\tErika\n",
       "14\tSpectre\t6\tKoga\n",
       "14\tSpectre\t7\tMorgane\n",
       "14\tSpectre\t8\tAuguste\n",
       "14\tSpectre\t9\tGiovanni\n",
       "14\tSpectre\t10\tOlga\n",
       "14\tSpectre\t11\tAldo\n",
       "14\tSpectre\t12\tAgatha\n",
       "14\tSpectre\t13\tPeter\n",
       "15\tVol\t2\tPierre\n",
       "15\tVol\t3\tOndine\n",
       "15\tVol\t4\tMajor Bob\n",
       "15\tVol\t5\tErika\n",
       "15\tVol\t6\tKoga\n",
       "15\tVol\t7\tMorgane\n",
       "15\tVol\t8\tAuguste\n",
       "15\tVol\t9\tGiovanni\n",
       "15\tVol\t10\tOlga\n",
       "15\tVol\t11\tAldo\n",
       "15\tVol\t12\tAgatha\n",
       "15\tVol\t13\tPeter"
      ]
     },
     "execution_count": 6,
     "metadata": {},
     "output_type": "execute_result"
    }
   ],
   "source": [
    "SELECT * FROM types, dresseurs"
   ]
  },
  {
   "cell_type": "markdown",
   "metadata": {},
   "source": [
    "**Remarque** : La requête ci-dessus n'a aucun intérêt, c'est juste un exemple de produit cartésien..."
   ]
  },
  {
   "cell_type": "markdown",
   "metadata": {},
   "source": [
    "## Ambigüité\n",
    "\n",
    "Si la même colonne est présente dans plusieurs tables, il faut lever l'ambigüité en préfixant par le nom de la table :"
   ]
  },
  {
   "cell_type": "code",
   "execution_count": 7,
   "metadata": {},
   "outputs": [
    {
     "name": "stderr",
     "output_type": "stream",
     "text": [
      "Error: ambiguous column name: nom"
     ]
    },
    {
     "ename": "",
     "evalue": "",
     "output_type": "error",
     "traceback": []
    }
   ],
   "source": [
    "SELECT nom FROM pokemons, dresseurs -- nom est un attribut des 2 tables"
   ]
  },
  {
   "cell_type": "code",
   "execution_count": null,
   "metadata": {},
   "outputs": [],
   "source": [
    "SELECT pokemons.nom FROM pokemons, dresseurs -- ok"
   ]
  },
  {
   "cell_type": "markdown",
   "metadata": {},
   "source": [
    "## Jointure simple"
   ]
  },
  {
   "cell_type": "markdown",
   "metadata": {
    "tags": [
     "exo"
    ]
   },
   "source": [
    "**Exercice** : Écrire une requête SQL pour afficher le nom de chaque pokémon avec son niveau d'évolution."
   ]
  },
  {
   "cell_type": "code",
   "execution_count": 25,
   "metadata": {},
   "outputs": [
    {
     "name": "stderr",
     "output_type": "stream",
     "text": [
      "Error: RIGHT and FULL OUTER JOINs are not currently supported"
     ]
    },
    {
     "ename": "",
     "evalue": "",
     "output_type": "error",
     "traceback": []
    }
   ],
   "source": [
    "select nom, niveau from evolue_en right join pokemons\n",
    "on id = pokemon_base_id"
   ]
  },
  {
   "cell_type": "markdown",
   "metadata": {},
   "source": [
    "## Renommage\n",
    "\n",
    "Il est possible de renommer un attribut avec `AS` :"
   ]
  },
  {
   "cell_type": "code",
   "execution_count": 26,
   "metadata": {},
   "outputs": [
    {
     "data": {
      "text/html": [
       "<table class=\"dataframe\" border=\"1\"><thead><tr style=\"text-align: right;\"><th>nom</th><th>point_de_pouvoir</th></tr></thead><tbody><tr><td>Abîme</td><td>5</td></tr><tr><td>Acid'armure</td><td>40</td></tr><tr><td>Acide</td><td>30</td></tr><tr><td>Adaptation</td><td>40</td></tr><tr><td>Affûtage</td><td>30</td></tr><tr><td>Amnésie</td><td>20</td></tr><tr><td>Armure</td><td>30</td></tr><tr><td>Balayage</td><td>20</td></tr><tr><td>Bec Vrille</td><td>20</td></tr><tr><td>Bélier</td><td>20</td></tr><tr><td>Berceuse</td><td>15</td></tr><tr><td>Blizzard</td><td>5</td></tr><tr><td>Bomb'oeuf</td><td>10</td></tr><tr><td>Bouclier</td><td>30</td></tr><tr><td>Boul'armure</td><td>20</td></tr><tr><td>Brouillard</td><td>20</td></tr><tr><td>Brume</td><td>30</td></tr><tr><td>Buée noire</td><td>30</td></tr><tr><td>Bulles d'O</td><td>20</td></tr><tr><td>Cage éclair</td><td>20</td></tr><tr><td>Cascade</td><td>15</td></tr><tr><td>Charge</td><td>35</td></tr><tr><td>Choc mental</td><td>25</td></tr><tr><td>Claquoir</td><td>10</td></tr><tr><td>Clonage</td><td>10</td></tr><tr><td>Combo-griffes</td><td>15</td></tr><tr><td>Constriction</td><td>35</td></tr><tr><td>Copie</td><td>10</td></tr><tr><td>Coud'boule</td><td>15</td></tr><tr><td>Coud'krâne</td><td>15</td></tr><tr><td>Coupe</td><td>30</td></tr><tr><td>Coupe-vent</td><td>10</td></tr><tr><td>Croc de mort</td><td>15</td></tr><tr><td>Croc fatal</td><td>10</td></tr><tr><td>Croissance</td><td>40</td></tr><tr><td>Cru-aile</td><td>35</td></tr><tr><td>Cyclone</td><td>20</td></tr><tr><td>Damoclès</td><td>15</td></tr><tr><td>Danse-Flamme</td><td>15</td></tr><tr><td>Danse-Fleur</td><td>20</td></tr><tr><td>Danse-Lames</td><td>30</td></tr><tr><td>Dard-Nuée</td><td>20</td></tr><tr><td>Dard-Venin</td><td>35</td></tr><tr><td>Déflagration</td><td>5</td></tr><tr><td>Destruction</td><td>5</td></tr><tr><td>Détitrus</td><td>20</td></tr><tr><td>Dévorêve</td><td>15</td></tr><tr><td>Double-Dard</td><td>20</td></tr><tr><td>Double-Pied</td><td>30</td></tr><tr><td>Draco-Rage</td><td>10</td></tr><tr><td>⋮ </td><td>⋮ </td></tr><tr><td>Plaquage</td><td>15</td></tr><tr><td>Poing Comète</td><td>15</td></tr><tr><td>Poing de Feu</td><td>15</td></tr><tr><td>Poing Karaté</td><td>25</td></tr><tr><td>Poing Eclair</td><td>15</td></tr><tr><td>Poing Glace</td><td>15</td></tr><tr><td>Poudre Dodo</td><td>15</td></tr><tr><td>Poudre Toxik</td><td>35</td></tr><tr><td>Protection</td><td>20</td></tr><tr><td>Psyko</td><td>10</td></tr><tr><td>Puissance</td><td>30</td></tr><tr><td>Purédpois</td><td>20</td></tr><tr><td>Rafale Psy</td><td>20</td></tr><tr><td>Reflet</td><td>15</td></tr><tr><td>Repli</td><td>40</td></tr><tr><td>Repos</td><td>10</td></tr><tr><td>Riposte</td><td>20</td></tr><tr><td>Rugissement</td><td>10</td></tr><tr><td>Sacrifice</td><td>25</td></tr><tr><td>Sécrétion</td><td>40</td></tr><tr><td>Séisme</td><td>10</td></tr><tr><td>Soin</td><td>10</td></tr><tr><td>Sonicboom</td><td>20</td></tr><tr><td>Souplesse</td><td>20</td></tr><tr><td>Spore</td><td>15</td></tr><tr><td>Surf</td><td>15</td></tr><tr><td>Télékinésie</td><td>15</td></tr><tr><td>Téléport</td><td>20</td></tr><tr><td>Ténèbres</td><td>15</td></tr><tr><td>Tonnerre</td><td>15</td></tr><tr><td>Torgnoles</td><td>10</td></tr><tr><td>Tornade</td><td>35</td></tr><tr><td>Toxik</td><td>10</td></tr><tr><td>Tranche</td><td>20</td></tr><tr><td>Tranch'herbe</td><td>25</td></tr><tr><td>Trempette</td><td>40</td></tr><tr><td>Triplattaque</td><td>10</td></tr><tr><td>Tunnel</td><td>10</td></tr><tr><td>Ultimapoing</td><td>20</td></tr><tr><td>Ultimawashi</td><td>5</td></tr><tr><td>Ultralaser</td><td>5</td></tr><tr><td>Ultrason</td><td>20</td></tr><tr><td>Uppercut</td><td>10</td></tr><tr><td>Vague Psy</td><td>15</td></tr><tr><td>Vampigraine</td><td>10</td></tr><tr><td>Vampirisme</td><td>15</td></tr><tr><td>Vive Attaque</td><td>30</td></tr><tr><td>Vol</td><td>15</td></tr><tr><td>Vol-vie</td><td>20</td></tr><tr><td>Yoga</td><td>40</td></tr></tbody></table>"
      ],
      "text/plain": [
       "nom\tpoint_de_pouvoir\n",
       "Abîme\t5\n",
       "Acid'armure\t40\n",
       "Acide\t30\n",
       "Adaptation\t40\n",
       "Affûtage\t30\n",
       "Amnésie\t20\n",
       "Armure\t30\n",
       "Balayage\t20\n",
       "Bec Vrille\t20\n",
       "Bélier\t20\n",
       "Berceuse\t15\n",
       "Blizzard\t5\n",
       "Bomb'oeuf\t10\n",
       "Bouclier\t30\n",
       "Boul'armure\t20\n",
       "Brouillard\t20\n",
       "Brume\t30\n",
       "Buée noire\t30\n",
       "Bulles d'O\t20\n",
       "Cage éclair\t20\n",
       "Cascade\t15\n",
       "Charge\t35\n",
       "Choc mental\t25\n",
       "Claquoir\t10\n",
       "Clonage\t10\n",
       "Combo-griffes\t15\n",
       "Constriction\t35\n",
       "Copie\t10\n",
       "Coud'boule\t15\n",
       "Coud'krâne\t15\n",
       "Coupe\t30\n",
       "Coupe-vent\t10\n",
       "Croc de mort\t15\n",
       "Croc fatal\t10\n",
       "Croissance\t40\n",
       "Cru-aile\t35\n",
       "Cyclone\t20\n",
       "Damoclès\t15\n",
       "Danse-Flamme\t15\n",
       "Danse-Fleur\t20\n",
       "Danse-Lames\t30\n",
       "Dard-Nuée\t20\n",
       "Dard-Venin\t35\n",
       "Déflagration\t5\n",
       "Destruction\t5\n",
       "Détitrus\t20\n",
       "Dévorêve\t15\n",
       "Double-Dard\t20\n",
       "Double-Pied\t30\n",
       "Draco-Rage\t10\n",
       "⋮ \t⋮ \n",
       "Plaquage\t15\n",
       "Poing Comète\t15\n",
       "Poing de Feu\t15\n",
       "Poing Karaté\t25\n",
       "Poing Eclair\t15\n",
       "Poing Glace\t15\n",
       "Poudre Dodo\t15\n",
       "Poudre Toxik\t35\n",
       "Protection\t20\n",
       "Psyko\t10\n",
       "Puissance\t30\n",
       "Purédpois\t20\n",
       "Rafale Psy\t20\n",
       "Reflet\t15\n",
       "Repli\t40\n",
       "Repos\t10\n",
       "Riposte\t20\n",
       "Rugissement\t10\n",
       "Sacrifice\t25\n",
       "Sécrétion\t40\n",
       "Séisme\t10\n",
       "Soin\t10\n",
       "Sonicboom\t20\n",
       "Souplesse\t20\n",
       "Spore\t15\n",
       "Surf\t15\n",
       "Télékinésie\t15\n",
       "Téléport\t20\n",
       "Ténèbres\t15\n",
       "Tonnerre\t15\n",
       "Torgnoles\t10\n",
       "Tornade\t35\n",
       "Toxik\t10\n",
       "Tranche\t20\n",
       "Tranch'herbe\t25\n",
       "Trempette\t40\n",
       "Triplattaque\t10\n",
       "Tunnel\t10\n",
       "Ultimapoing\t20\n",
       "Ultimawashi\t5\n",
       "Ultralaser\t5\n",
       "Ultrason\t20\n",
       "Uppercut\t10\n",
       "Vague Psy\t15\n",
       "Vampigraine\t10\n",
       "Vampirisme\t15\n",
       "Vive Attaque\t30\n",
       "Vol\t15\n",
       "Vol-vie\t20\n",
       "Yoga\t40"
      ]
     },
     "execution_count": 26,
     "metadata": {},
     "output_type": "execute_result"
    }
   ],
   "source": [
    "SELECT libelle as nom, pp as point_de_pouvoir\n",
    "FROM attaques"
   ]
  },
  {
   "cell_type": "markdown",
   "metadata": {},
   "source": [
    "Si on renomme une colonne, il faut ensuite y faire référence avec le nouveau nom :"
   ]
  },
  {
   "cell_type": "code",
   "execution_count": 32,
   "metadata": {},
   "outputs": [
    {
     "data": {
      "text/html": [
       "<table class=\"dataframe\" border=\"1\"><thead><tr style=\"text-align: right;\"><th>nom</th><th>point_de_pouvoir</th></tr></thead><tbody><tr><td>Acid'armure</td><td>40</td></tr><tr><td>Adaptation</td><td>40</td></tr><tr><td>Croissance</td><td>40</td></tr><tr><td>Gaz Toxik</td><td>40</td></tr><tr><td>Grincement</td><td>40</td></tr><tr><td>Repli</td><td>40</td></tr><tr><td>Sécrétion</td><td>40</td></tr><tr><td>Trempette</td><td>40</td></tr><tr><td>Yoga</td><td>40</td></tr></tbody></table>"
      ],
      "text/plain": [
       "nom\tpoint_de_pouvoir\n",
       "Acid'armure\t40\n",
       "Adaptation\t40\n",
       "Croissance\t40\n",
       "Gaz Toxik\t40\n",
       "Grincement\t40\n",
       "Repli\t40\n",
       "Sécrétion\t40\n",
       "Trempette\t40\n",
       "Yoga\t40"
      ]
     },
     "execution_count": 32,
     "metadata": {},
     "output_type": "execute_result"
    }
   ],
   "source": [
    "SELECT libelle nom, pp point_de_pouvoir\n",
    "FROM attaques\n",
    "WHERE pp > 35"
   ]
  },
  {
   "cell_type": "markdown",
   "metadata": {},
   "source": [
    "On peut aussi renommer une table :"
   ]
  },
  {
   "cell_type": "code",
   "execution_count": 30,
   "metadata": {
    "scrolled": true
   },
   "outputs": [
    {
     "data": {
      "text/html": [
       "<table class=\"dataframe\" border=\"1\"><thead><tr style=\"text-align: right;\"><th>niveau</th></tr></thead><tbody><tr><td>12</td></tr><tr><td>14</td></tr><tr><td>18</td></tr><tr><td>21</td></tr><tr><td>21</td></tr><tr><td>18</td></tr><tr><td>24</td></tr><tr><td>29</td></tr><tr><td>24</td></tr><tr><td>29</td></tr><tr><td>37</td></tr><tr><td>39</td></tr><tr><td>37</td></tr><tr><td>43</td></tr><tr><td>38</td></tr><tr><td>37</td></tr><tr><td>38</td></tr><tr><td>43</td></tr><tr><td>42</td></tr><tr><td>40</td></tr><tr><td>42</td></tr><tr><td>47</td></tr><tr><td>42</td></tr><tr><td>42</td></tr><tr><td>44</td></tr><tr><td>45</td></tr><tr><td>50</td></tr><tr><td>54</td></tr><tr><td>53</td></tr><tr><td>54</td></tr><tr><td>56</td></tr><tr><td>56</td></tr><tr><td>53</td></tr><tr><td>55</td></tr><tr><td>55</td></tr><tr><td>56</td></tr><tr><td>58</td></tr><tr><td>56</td></tr><tr><td>56</td></tr><tr><td>55</td></tr><tr><td>58</td></tr><tr><td>60</td></tr><tr><td>58</td></tr><tr><td>56</td></tr><tr><td>56</td></tr><tr><td>60</td></tr><tr><td>62</td></tr></tbody></table>"
      ],
      "text/plain": [
       "niveau\n",
       "12\n",
       "14\n",
       "18\n",
       "21\n",
       "21\n",
       "18\n",
       "24\n",
       "29\n",
       "24\n",
       "29\n",
       "37\n",
       "39\n",
       "37\n",
       "43\n",
       "38\n",
       "37\n",
       "38\n",
       "43\n",
       "42\n",
       "40\n",
       "42\n",
       "47\n",
       "42\n",
       "42\n",
       "44\n",
       "45\n",
       "50\n",
       "54\n",
       "53\n",
       "54\n",
       "56\n",
       "56\n",
       "53\n",
       "55\n",
       "55\n",
       "56\n",
       "58\n",
       "56\n",
       "56\n",
       "55\n",
       "58\n",
       "60\n",
       "58\n",
       "56\n",
       "56\n",
       "60\n",
       "62"
      ]
     },
     "execution_count": 30,
     "metadata": {},
     "output_type": "execute_result"
    }
   ],
   "source": [
    "SELECT d.niveau FROM detient_pokemons d"
   ]
  },
  {
   "cell_type": "markdown",
   "metadata": {
    "tags": [
     "exo"
    ]
   },
   "source": [
    "**Exercice** : Écrire une requête SQL pour afficher le nom de chaque attaque avec son type."
   ]
  },
  {
   "cell_type": "code",
   "execution_count": 35,
   "metadata": {},
   "outputs": [
    {
     "data": {
      "text/html": [
       "<table class=\"dataframe\" border=\"1\"><thead><tr style=\"text-align: right;\"><th>libelle</th><th>libelle</th></tr></thead><tbody><tr><td>Sol</td><td>Abîme</td></tr><tr><td>Poison</td><td>Acid'armure</td></tr><tr><td>Poison</td><td>Acide</td></tr><tr><td>Normal</td><td>Adaptation</td></tr><tr><td>Normal</td><td>Affûtage</td></tr><tr><td>Psy</td><td>Amnésie</td></tr><tr><td>Normal</td><td>Armure</td></tr><tr><td>Combat</td><td>Balayage</td></tr><tr><td>Vol</td><td>Bec Vrille</td></tr><tr><td>Normal</td><td>Bélier</td></tr><tr><td>Normal</td><td>Berceuse</td></tr><tr><td>Glace</td><td>Blizzard</td></tr><tr><td>Normal</td><td>Bomb'oeuf</td></tr><tr><td>Psy</td><td>Bouclier</td></tr><tr><td>Normal</td><td>Boul'armure</td></tr><tr><td>Normal</td><td>Brouillard</td></tr><tr><td>Glace</td><td>Brume</td></tr><tr><td>Glace</td><td>Buée noire</td></tr><tr><td>Eau</td><td>Bulles d'O</td></tr><tr><td>Electrique</td><td>Cage éclair</td></tr><tr><td>Eau</td><td>Cascade</td></tr><tr><td>Normal</td><td>Charge</td></tr><tr><td>Psy</td><td>Choc mental</td></tr><tr><td>Eau</td><td>Claquoir</td></tr><tr><td>Normal</td><td>Clonage</td></tr><tr><td>Normal</td><td>Combo-griffes</td></tr><tr><td>Normal</td><td>Constriction</td></tr><tr><td>Normal</td><td>Copie</td></tr><tr><td>Normal</td><td>Coud'boule</td></tr><tr><td>Normal</td><td>Coud'krâne</td></tr><tr><td>Normal</td><td>Coupe</td></tr><tr><td>Normal</td><td>Coupe-vent</td></tr><tr><td>Normal</td><td>Croc de mort</td></tr><tr><td>Normal</td><td>Croc fatal</td></tr><tr><td>Normal</td><td>Croissance</td></tr><tr><td>Vol</td><td>Cru-aile</td></tr><tr><td>Normal</td><td>Cyclone</td></tr><tr><td>Normal</td><td>Damoclès</td></tr><tr><td>Feu</td><td>Danse-Flamme</td></tr><tr><td>Plante</td><td>Danse-Fleur</td></tr><tr><td>Normal</td><td>Danse-Lames</td></tr><tr><td>Insecte</td><td>Dard-Nuée</td></tr><tr><td>Poison</td><td>Dard-Venin</td></tr><tr><td>Feu</td><td>Déflagration</td></tr><tr><td>Normal</td><td>Destruction</td></tr><tr><td>Poison</td><td>Détitrus</td></tr><tr><td>Psy</td><td>Dévorêve</td></tr><tr><td>Insecte</td><td>Double-Dard</td></tr><tr><td>Combat</td><td>Double-Pied</td></tr><tr><td>Dragon</td><td>Draco-Rage</td></tr><tr><td>⋮ </td><td>⋮ </td></tr><tr><td>Normal</td><td>Plaquage</td></tr><tr><td>Normal</td><td>Poing Comète</td></tr><tr><td>Feu</td><td>Poing de Feu</td></tr><tr><td>Combat</td><td>Poing Karaté</td></tr><tr><td>Electrique</td><td>Poing Eclair</td></tr><tr><td>Glace</td><td>Poing Glace</td></tr><tr><td>Plante</td><td>Poudre Dodo</td></tr><tr><td>Poison</td><td>Poudre Toxik</td></tr><tr><td>Psy</td><td>Protection</td></tr><tr><td>Psy</td><td>Psyko</td></tr><tr><td>Normal</td><td>Puissance</td></tr><tr><td>Poison</td><td>Purédpois</td></tr><tr><td>Psy</td><td>Rafale Psy</td></tr><tr><td>Normal</td><td>Reflet</td></tr><tr><td>Eau</td><td>Repli</td></tr><tr><td>Psy</td><td>Repos</td></tr><tr><td>Combat</td><td>Riposte</td></tr><tr><td>Normal</td><td>Rugissement</td></tr><tr><td>Combat</td><td>Sacrifice</td></tr><tr><td>Insecte</td><td>Sécrétion</td></tr><tr><td>Sol</td><td>Séisme</td></tr><tr><td>Normal</td><td>Soin</td></tr><tr><td>Normal</td><td>Sonicboom</td></tr><tr><td>Normal</td><td>Souplesse</td></tr><tr><td>Plante</td><td>Spore</td></tr><tr><td>Eau</td><td>Surf</td></tr><tr><td>Psy</td><td>Télékinésie</td></tr><tr><td>Psy</td><td>Téléport</td></tr><tr><td>Spectre</td><td>Ténèbres</td></tr><tr><td>Electrique</td><td>Tonnerre</td></tr><tr><td>Normal</td><td>Torgnoles</td></tr><tr><td>Vol</td><td>Tornade</td></tr><tr><td>Poison</td><td>Toxik</td></tr><tr><td>Normal</td><td>Tranche</td></tr><tr><td>Plante</td><td>Tranch'herbe</td></tr><tr><td>Eau</td><td>Trempette</td></tr><tr><td>Normal</td><td>Triplattaque</td></tr><tr><td>Sol</td><td>Tunnel</td></tr><tr><td>Normal</td><td>Ultimapoing</td></tr><tr><td>Normal</td><td>Ultimawashi</td></tr><tr><td>Normal</td><td>Ultralaser</td></tr><tr><td>Normal</td><td>Ultrason</td></tr><tr><td>Normal</td><td>Uppercut</td></tr><tr><td>Psy</td><td>Vague Psy</td></tr><tr><td>Plante</td><td>Vampigraine</td></tr><tr><td>Insecte</td><td>Vampirisme</td></tr><tr><td>Normal</td><td>Vive Attaque</td></tr><tr><td>Vol</td><td>Vol</td></tr><tr><td>Plante</td><td>Vol-vie</td></tr><tr><td>Psy</td><td>Yoga</td></tr></tbody></table>"
      ],
      "text/plain": [
       "libelle\tlibelle\n",
       "Sol\tAbîme\n",
       "Poison\tAcid'armure\n",
       "Poison\tAcide\n",
       "Normal\tAdaptation\n",
       "Normal\tAffûtage\n",
       "Psy\tAmnésie\n",
       "Normal\tArmure\n",
       "Combat\tBalayage\n",
       "Vol\tBec Vrille\n",
       "Normal\tBélier\n",
       "Normal\tBerceuse\n",
       "Glace\tBlizzard\n",
       "Normal\tBomb'oeuf\n",
       "Psy\tBouclier\n",
       "Normal\tBoul'armure\n",
       "Normal\tBrouillard\n",
       "Glace\tBrume\n",
       "Glace\tBuée noire\n",
       "Eau\tBulles d'O\n",
       "Electrique\tCage éclair\n",
       "Eau\tCascade\n",
       "Normal\tCharge\n",
       "Psy\tChoc mental\n",
       "Eau\tClaquoir\n",
       "Normal\tClonage\n",
       "Normal\tCombo-griffes\n",
       "Normal\tConstriction\n",
       "Normal\tCopie\n",
       "Normal\tCoud'boule\n",
       "Normal\tCoud'krâne\n",
       "Normal\tCoupe\n",
       "Normal\tCoupe-vent\n",
       "Normal\tCroc de mort\n",
       "Normal\tCroc fatal\n",
       "Normal\tCroissance\n",
       "Vol\tCru-aile\n",
       "Normal\tCyclone\n",
       "Normal\tDamoclès\n",
       "Feu\tDanse-Flamme\n",
       "Plante\tDanse-Fleur\n",
       "Normal\tDanse-Lames\n",
       "Insecte\tDard-Nuée\n",
       "Poison\tDard-Venin\n",
       "Feu\tDéflagration\n",
       "Normal\tDestruction\n",
       "Poison\tDétitrus\n",
       "Psy\tDévorêve\n",
       "Insecte\tDouble-Dard\n",
       "Combat\tDouble-Pied\n",
       "Dragon\tDraco-Rage\n",
       "⋮ \t⋮ \n",
       "Normal\tPlaquage\n",
       "Normal\tPoing Comète\n",
       "Feu\tPoing de Feu\n",
       "Combat\tPoing Karaté\n",
       "Electrique\tPoing Eclair\n",
       "Glace\tPoing Glace\n",
       "Plante\tPoudre Dodo\n",
       "Poison\tPoudre Toxik\n",
       "Psy\tProtection\n",
       "Psy\tPsyko\n",
       "Normal\tPuissance\n",
       "Poison\tPurédpois\n",
       "Psy\tRafale Psy\n",
       "Normal\tReflet\n",
       "Eau\tRepli\n",
       "Psy\tRepos\n",
       "Combat\tRiposte\n",
       "Normal\tRugissement\n",
       "Combat\tSacrifice\n",
       "Insecte\tSécrétion\n",
       "Sol\tSéisme\n",
       "Normal\tSoin\n",
       "Normal\tSonicboom\n",
       "Normal\tSouplesse\n",
       "Plante\tSpore\n",
       "Eau\tSurf\n",
       "Psy\tTélékinésie\n",
       "Psy\tTéléport\n",
       "Spectre\tTénèbres\n",
       "Electrique\tTonnerre\n",
       "Normal\tTorgnoles\n",
       "Vol\tTornade\n",
       "Poison\tToxik\n",
       "Normal\tTranche\n",
       "Plante\tTranch'herbe\n",
       "Eau\tTrempette\n",
       "Normal\tTriplattaque\n",
       "Sol\tTunnel\n",
       "Normal\tUltimapoing\n",
       "Normal\tUltimawashi\n",
       "Normal\tUltralaser\n",
       "Normal\tUltrason\n",
       "Normal\tUppercut\n",
       "Psy\tVague Psy\n",
       "Plante\tVampigraine\n",
       "Insecte\tVampirisme\n",
       "Normal\tVive Attaque\n",
       "Vol\tVol\n",
       "Plante\tVol-vie\n",
       "Psy\tYoga"
      ]
     },
     "execution_count": 35,
     "metadata": {},
     "output_type": "execute_result"
    }
   ],
   "source": [
    "select types.libelle, attaques.libelle \n",
    "from types join attaques on types.id = type_id"
   ]
  },
  {
   "cell_type": "markdown",
   "metadata": {},
   "source": [
    "## Jointures multiples\n",
    "\n",
    "Si on a besoin de $3$ tables (ou plus), on peut enchaîner plusieurs `JOIN` :\n",
    "```sql\n",
    "FROM ... \n",
    "JOIN ... ON ... = ... \n",
    "JOIN ... ON ... = ...\n",
    "```"
   ]
  },
  {
   "cell_type": "markdown",
   "metadata": {
    "tags": [
     "exo"
    ]
   },
   "source": [
    "**Exercice** : Afficher chaque dresseur avec chacun de ses pokémons."
   ]
  },
  {
   "cell_type": "code",
   "execution_count": 36,
   "metadata": {},
   "outputs": [
    {
     "data": {
      "text/html": [
       "<table class=\"dataframe\" border=\"1\"><thead><tr style=\"text-align: right;\"><th>nom</th><th>nom</th></tr></thead><tbody><tr><td>Pierre</td><td>Racaillou</td></tr><tr><td>Pierre</td><td>Onix</td></tr><tr><td>Ondine</td><td>Stari</td></tr><tr><td>Ondine</td><td>Staross</td></tr><tr><td>Major Bob</td><td>Voltorbe</td></tr><tr><td>Major Bob</td><td>Pikachu</td></tr><tr><td>Major Bob</td><td>Raichu</td></tr><tr><td>Erika</td><td>Empiflor</td></tr><tr><td>Erika</td><td>Saquedeneu</td></tr><tr><td>Erika</td><td>Rafflesia</td></tr><tr><td>Koga</td><td>Smogo</td></tr><tr><td>Koga</td><td>Grotadmorv</td></tr><tr><td>Koga</td><td>Smogo</td></tr><tr><td>Koga</td><td>Smogogo</td></tr><tr><td>Morgane</td><td>Kadabra</td></tr><tr><td>Morgane</td><td>M. Mime</td></tr><tr><td>Morgane</td><td>Aeromite</td></tr><tr><td>Morgane</td><td>Alakazam</td></tr><tr><td>Auguste</td><td>Caninos</td></tr><tr><td>Auguste</td><td>Ponyta</td></tr><tr><td>Auguste</td><td>Galopa</td></tr><tr><td>Auguste</td><td>Arcanin</td></tr><tr><td>Giovanni</td><td>Rhinocorne</td></tr><tr><td>Giovanni</td><td>Triopikeur</td></tr><tr><td>Giovanni</td><td>Nidoqueen</td></tr><tr><td>Giovanni</td><td>Nidoking</td></tr><tr><td>Giovanni</td><td>Rhinoferos</td></tr><tr><td>Olga</td><td>Lamantine</td></tr><tr><td>Olga</td><td>Crustabri</td></tr><tr><td>Olga</td><td>Flagadoss</td></tr><tr><td>Olga</td><td>Lippoutou</td></tr><tr><td>Olga</td><td>Lokhlass</td></tr><tr><td>Aldo</td><td>Onix</td></tr><tr><td>Aldo</td><td>Tygnon</td></tr><tr><td>Aldo</td><td>Kicklee</td></tr><tr><td>Aldo</td><td>Onix</td></tr><tr><td>Aldo</td><td>Mackogneur</td></tr><tr><td>Agatha</td><td>Ectoplasma</td></tr><tr><td>Agatha</td><td>Nosferalto</td></tr><tr><td>Agatha</td><td>Spectrum</td></tr><tr><td>Agatha</td><td>Arbok</td></tr><tr><td>Agatha</td><td>Ectoplasma</td></tr><tr><td>Peter</td><td>Leviator</td></tr><tr><td>Peter</td><td>Draco</td></tr><tr><td>Peter</td><td>Draco</td></tr><tr><td>Peter</td><td>Ptera</td></tr><tr><td>Peter</td><td>Dracolosse</td></tr></tbody></table>"
      ],
      "text/plain": [
       "nom\tnom\n",
       "Pierre\tRacaillou\n",
       "Pierre\tOnix\n",
       "Ondine\tStari\n",
       "Ondine\tStaross\n",
       "Major Bob\tVoltorbe\n",
       "Major Bob\tPikachu\n",
       "Major Bob\tRaichu\n",
       "Erika\tEmpiflor\n",
       "Erika\tSaquedeneu\n",
       "Erika\tRafflesia\n",
       "Koga\tSmogo\n",
       "Koga\tGrotadmorv\n",
       "Koga\tSmogo\n",
       "Koga\tSmogogo\n",
       "Morgane\tKadabra\n",
       "Morgane\tM. Mime\n",
       "Morgane\tAeromite\n",
       "Morgane\tAlakazam\n",
       "Auguste\tCaninos\n",
       "Auguste\tPonyta\n",
       "Auguste\tGalopa\n",
       "Auguste\tArcanin\n",
       "Giovanni\tRhinocorne\n",
       "Giovanni\tTriopikeur\n",
       "Giovanni\tNidoqueen\n",
       "Giovanni\tNidoking\n",
       "Giovanni\tRhinoferos\n",
       "Olga\tLamantine\n",
       "Olga\tCrustabri\n",
       "Olga\tFlagadoss\n",
       "Olga\tLippoutou\n",
       "Olga\tLokhlass\n",
       "Aldo\tOnix\n",
       "Aldo\tTygnon\n",
       "Aldo\tKicklee\n",
       "Aldo\tOnix\n",
       "Aldo\tMackogneur\n",
       "Agatha\tEctoplasma\n",
       "Agatha\tNosferalto\n",
       "Agatha\tSpectrum\n",
       "Agatha\tArbok\n",
       "Agatha\tEctoplasma\n",
       "Peter\tLeviator\n",
       "Peter\tDraco\n",
       "Peter\tDraco\n",
       "Peter\tPtera\n",
       "Peter\tDracolosse"
      ]
     },
     "execution_count": 36,
     "metadata": {},
     "output_type": "execute_result"
    }
   ],
   "source": [
    "select dresseurs.nom, pokemons.nom\n",
    "from pokemons join detient_pokemons \n",
    "on pokemons.id = pokemon_id\n",
    "join dresseurs on dresseurs.id = dresseur_id"
   ]
  },
  {
   "cell_type": "markdown",
   "metadata": {},
   "source": [
    "## Auto-jointure\n",
    "\n",
    "Parfois, il est nécessaire d'utiliser plusieurs fois la même table, donc de joindre une table avec elle-même."
   ]
  },
  {
   "cell_type": "markdown",
   "metadata": {
    "tags": [
     "exo"
    ]
   },
   "source": [
    "**Exercice** : Afficher chaque pokémon avec son évolution et son niveau d'évolution."
   ]
  },
  {
   "cell_type": "code",
   "execution_count": 37,
   "metadata": {},
   "outputs": [
    {
     "data": {
      "text/html": [
       "<table class=\"dataframe\" border=\"1\"><thead><tr style=\"text-align: right;\"><th>nom</th><th>nom</th><th>niveau</th></tr></thead><tbody><tr><td>Bulbizarre</td><td>Herbizarre</td><td>16</td></tr><tr><td>Herbizarre</td><td>Florizarre</td><td>32</td></tr><tr><td>Salameche</td><td>Reptincel</td><td>16</td></tr><tr><td>Reptincel</td><td>Dracaufeu</td><td>36</td></tr><tr><td>Carapuce</td><td>Carabaffe</td><td>16</td></tr><tr><td>Carabaffe</td><td>Tortank</td><td>36</td></tr><tr><td>Chenipan</td><td>Chrysacier</td><td>7</td></tr><tr><td>Chrysacier</td><td>Papilusion</td><td>10</td></tr><tr><td>Aspicot</td><td>Coconfort</td><td>7</td></tr><tr><td>Coconfort</td><td>Dardargnan</td><td>10</td></tr><tr><td>Roucool</td><td>Roucoups</td><td>18</td></tr><tr><td>Roucoups</td><td>Roucarnage</td><td>36</td></tr><tr><td>Rattata</td><td>Rattatac</td><td>20</td></tr><tr><td>Piafabec</td><td>Rapasdepic</td><td>20</td></tr><tr><td>Abo</td><td>Arbok</td><td>22</td></tr><tr><td>Pikachu</td><td>Raichu</td><td>-1</td></tr><tr><td>Sabelette</td><td>Sablaireau</td><td>22</td></tr><tr><td>NidoranF</td><td>Nidorina</td><td>16</td></tr><tr><td>Nidorina</td><td>Nidoqueen</td><td>-1</td></tr><tr><td>NidoranM</td><td>Nidorino</td><td>16</td></tr><tr><td>Nidorino</td><td>Nidoking</td><td>-1</td></tr><tr><td>Melofee</td><td>Melodelfe</td><td>-1</td></tr><tr><td>Goupix</td><td>Feunard</td><td>-1</td></tr><tr><td>Rondoudou</td><td>Grodoudou</td><td>-1</td></tr><tr><td>Nosferapti</td><td>Nosferalto</td><td>22</td></tr><tr><td>Mystherbe</td><td>Ortide</td><td>21</td></tr><tr><td>Ortide</td><td>Rafflesia</td><td>-1</td></tr><tr><td>Paras</td><td>Parasect</td><td>24</td></tr><tr><td>Mimitoss</td><td>Aeromite</td><td>31</td></tr><tr><td>Taupiqueur</td><td>Triopikeur</td><td>26</td></tr><tr><td>Miaouss</td><td>Persian</td><td>28</td></tr><tr><td>Psykokwak</td><td>Akwakwak</td><td>33</td></tr><tr><td>Ferosinge</td><td>Colossinge</td><td>28</td></tr><tr><td>Caninos</td><td>Arcanin</td><td>-1</td></tr><tr><td>Ptitard</td><td>Tetarte</td><td>25</td></tr><tr><td>Tetarte</td><td>Tartard</td><td>-1</td></tr><tr><td>Abra</td><td>Kadabra</td><td>16</td></tr><tr><td>Kadabra</td><td>Alakazam</td><td>-2</td></tr><tr><td>Machoc</td><td>Machopeur</td><td>28</td></tr><tr><td>Machopeur</td><td>Mackogneur</td><td>-2</td></tr><tr><td>Chetiflor</td><td>Boustiflor</td><td>21</td></tr><tr><td>Boustiflor</td><td>Empiflor</td><td>-1</td></tr><tr><td>Tentacool</td><td>Tentacruel</td><td>30</td></tr><tr><td>Racaillou</td><td>Gravalanch</td><td>25</td></tr><tr><td>Gravalanch</td><td>Grolem</td><td>-2</td></tr><tr><td>Ponyta</td><td>Galopa</td><td>40</td></tr><tr><td>Ramoloss</td><td>Flagadoss</td><td>37</td></tr><tr><td>Magneti</td><td>Magneton</td><td>30</td></tr><tr><td>Doduo</td><td>Dodrio</td><td>31</td></tr><tr><td>Otaria</td><td>Lamantine</td><td>34</td></tr><tr><td>Tadmorv</td><td>Grotadmorv</td><td>38</td></tr><tr><td>Kokiyas</td><td>Crustabri</td><td>-1</td></tr><tr><td>Fantominus</td><td>Spectrum</td><td>25</td></tr><tr><td>Spectrum</td><td>Ectoplasma</td><td>-2</td></tr><tr><td>Soporifik</td><td>Hypnomade</td><td>26</td></tr><tr><td>Krabby</td><td>Krabboss</td><td>28</td></tr><tr><td>Voltorbe</td><td>Electrode</td><td>30</td></tr><tr><td>Noeunoeuf</td><td>Noadkoko</td><td>-1</td></tr><tr><td>Osselait</td><td>Ossatueur</td><td>28</td></tr><tr><td>Smogo</td><td>Smogogo</td><td>35</td></tr><tr><td>Rhinocorne</td><td>Rhinoferos</td><td>42</td></tr><tr><td>Hypotrempe</td><td>Hypocean</td><td>32</td></tr><tr><td>Poissirene</td><td>Poissoroy</td><td>33</td></tr><tr><td>Stari</td><td>Staross</td><td>-1</td></tr><tr><td>Magicarpe</td><td>Leviator</td><td>20</td></tr><tr><td>Evoli</td><td>Aquali</td><td>-1</td></tr><tr><td>Evoli</td><td>Voltali</td><td>-1</td></tr><tr><td>Evoli</td><td>Pyroli</td><td>-1</td></tr><tr><td>Amonita</td><td>Amonistar</td><td>40</td></tr><tr><td>Kabuto</td><td>Kabutops</td><td>40</td></tr><tr><td>Minidraco</td><td>Draco</td><td>30</td></tr><tr><td>Draco</td><td>Dracolosse</td><td>55</td></tr></tbody></table>"
      ],
      "text/plain": [
       "nom\tnom\tniveau\n",
       "Bulbizarre\tHerbizarre\t16\n",
       "Herbizarre\tFlorizarre\t32\n",
       "Salameche\tReptincel\t16\n",
       "Reptincel\tDracaufeu\t36\n",
       "Carapuce\tCarabaffe\t16\n",
       "Carabaffe\tTortank\t36\n",
       "Chenipan\tChrysacier\t7\n",
       "Chrysacier\tPapilusion\t10\n",
       "Aspicot\tCoconfort\t7\n",
       "Coconfort\tDardargnan\t10\n",
       "Roucool\tRoucoups\t18\n",
       "Roucoups\tRoucarnage\t36\n",
       "Rattata\tRattatac\t20\n",
       "Piafabec\tRapasdepic\t20\n",
       "Abo\tArbok\t22\n",
       "Pikachu\tRaichu\t-1\n",
       "Sabelette\tSablaireau\t22\n",
       "NidoranF\tNidorina\t16\n",
       "Nidorina\tNidoqueen\t-1\n",
       "NidoranM\tNidorino\t16\n",
       "Nidorino\tNidoking\t-1\n",
       "Melofee\tMelodelfe\t-1\n",
       "Goupix\tFeunard\t-1\n",
       "Rondoudou\tGrodoudou\t-1\n",
       "Nosferapti\tNosferalto\t22\n",
       "Mystherbe\tOrtide\t21\n",
       "Ortide\tRafflesia\t-1\n",
       "Paras\tParasect\t24\n",
       "Mimitoss\tAeromite\t31\n",
       "Taupiqueur\tTriopikeur\t26\n",
       "Miaouss\tPersian\t28\n",
       "Psykokwak\tAkwakwak\t33\n",
       "Ferosinge\tColossinge\t28\n",
       "Caninos\tArcanin\t-1\n",
       "Ptitard\tTetarte\t25\n",
       "Tetarte\tTartard\t-1\n",
       "Abra\tKadabra\t16\n",
       "Kadabra\tAlakazam\t-2\n",
       "Machoc\tMachopeur\t28\n",
       "Machopeur\tMackogneur\t-2\n",
       "Chetiflor\tBoustiflor\t21\n",
       "Boustiflor\tEmpiflor\t-1\n",
       "Tentacool\tTentacruel\t30\n",
       "Racaillou\tGravalanch\t25\n",
       "Gravalanch\tGrolem\t-2\n",
       "Ponyta\tGalopa\t40\n",
       "Ramoloss\tFlagadoss\t37\n",
       "Magneti\tMagneton\t30\n",
       "Doduo\tDodrio\t31\n",
       "Otaria\tLamantine\t34\n",
       "Tadmorv\tGrotadmorv\t38\n",
       "Kokiyas\tCrustabri\t-1\n",
       "Fantominus\tSpectrum\t25\n",
       "Spectrum\tEctoplasma\t-2\n",
       "Soporifik\tHypnomade\t26\n",
       "Krabby\tKrabboss\t28\n",
       "Voltorbe\tElectrode\t30\n",
       "Noeunoeuf\tNoadkoko\t-1\n",
       "Osselait\tOssatueur\t28\n",
       "Smogo\tSmogogo\t35\n",
       "Rhinocorne\tRhinoferos\t42\n",
       "Hypotrempe\tHypocean\t32\n",
       "Poissirene\tPoissoroy\t33\n",
       "Stari\tStaross\t-1\n",
       "Magicarpe\tLeviator\t20\n",
       "Evoli\tAquali\t-1\n",
       "Evoli\tVoltali\t-1\n",
       "Evoli\tPyroli\t-1\n",
       "Amonita\tAmonistar\t40\n",
       "Kabuto\tKabutops\t40\n",
       "Minidraco\tDraco\t30\n",
       "Draco\tDracolosse\t55"
      ]
     },
     "execution_count": 37,
     "metadata": {},
     "output_type": "execute_result"
    }
   ],
   "source": [
    "select pokemons.nom, pokemons_evol.nom, niveau\n",
    "from evolue_en join pokemons \n",
    "on pokemon_base_id = pokemons.id\n",
    "join pokemons as pokemons_evol \n",
    "on pokemon_evol_id = pokemons_evol.id"
   ]
  },
  {
   "cell_type": "markdown",
   "metadata": {},
   "source": [
    "## LEFT JOIN"
   ]
  },
  {
   "cell_type": "markdown",
   "metadata": {
    "tags": [
     "exo"
    ]
   },
   "source": [
    "**Exercice** : Écrire une requête SQL pour afficher chaque pokémon avec son évolution. S'il n'a pas d'évolution, on affichera `null`."
   ]
  },
  {
   "cell_type": "markdown",
   "metadata": {},
   "source": [
    "## GROUP BY"
   ]
  },
  {
   "cell_type": "markdown",
   "metadata": {},
   "source": [
    "**Exercice** : Afficher chaque dresseurs avec son nombre de pokémons et leur niveau moyen"
   ]
  },
  {
   "cell_type": "code",
   "execution_count": 43,
   "metadata": {},
   "outputs": [
    {
     "data": {
      "text/html": [
       "<table class=\"dataframe\" border=\"1\"><thead><tr style=\"text-align: right;\"><th>nom</th><th>nombre_pokemons</th><th>niveau_moyen</th></tr></thead><tbody><tr><td>Pierre</td><td>2</td><td>13</td></tr><tr><td>Ondine</td><td>2</td><td>19.5</td></tr><tr><td>Major Bob</td><td>3</td><td>21</td></tr><tr><td>Erika</td><td>3</td><td>27.33</td></tr><tr><td>Koga</td><td>4</td><td>39</td></tr><tr><td>Morgane</td><td>4</td><td>39</td></tr><tr><td>Auguste</td><td>4</td><td>42.75</td></tr><tr><td>Giovanni</td><td>5</td><td>44.6</td></tr><tr><td>Olga</td><td>5</td><td>54.6</td></tr><tr><td>Aldo</td><td>5</td><td>55.4</td></tr><tr><td>Agatha</td><td>5</td><td>57</td></tr><tr><td>Peter</td><td>5</td><td>58.4</td></tr></tbody></table>"
      ],
      "text/plain": [
       "nom\tnombre_pokemons\tniveau_moyen\n",
       "Pierre\t2\t13\n",
       "Ondine\t2\t19.5\n",
       "Major Bob\t3\t21\n",
       "Erika\t3\t27.33\n",
       "Koga\t4\t39\n",
       "Morgane\t4\t39\n",
       "Auguste\t4\t42.75\n",
       "Giovanni\t5\t44.6\n",
       "Olga\t5\t54.6\n",
       "Aldo\t5\t55.4\n",
       "Agatha\t5\t57\n",
       "Peter\t5\t58.4"
      ]
     },
     "execution_count": 43,
     "metadata": {},
     "output_type": "execute_result"
    }
   ],
   "source": [
    "select nom, count(*) as nombre_pokemons, avg(niveau) as niveau_moyen\n",
    "from dresseurs join detient_pokemons\n",
    "on id = dresseur_id\n",
    "group by nom"
   ]
  },
  {
   "cell_type": "code",
   "execution_count": 48,
   "metadata": {},
   "outputs": [
    {
     "data": {
      "text/html": [
       "<table class=\"dataframe\" border=\"1\"><thead><tr style=\"text-align: right;\"><th>niveau</th><th>pokemon_base_id</th></tr></thead><tbody><tr><td>-2</td><td>64</td></tr><tr><td>-1</td><td>25</td></tr><tr><td>7</td><td>10</td></tr><tr><td>10</td><td>11</td></tr><tr><td>16</td><td>1</td></tr><tr><td>18</td><td>16</td></tr><tr><td>20</td><td>19</td></tr><tr><td>21</td><td>43</td></tr><tr><td>22</td><td>23</td></tr><tr><td>24</td><td>46</td></tr><tr><td>25</td><td>60</td></tr><tr><td>26</td><td>50</td></tr><tr><td>28</td><td>52</td></tr><tr><td>30</td><td>72</td></tr><tr><td>31</td><td>48</td></tr><tr><td>32</td><td>2</td></tr><tr><td>33</td><td>54</td></tr><tr><td>34</td><td>86</td></tr><tr><td>35</td><td>109</td></tr><tr><td>36</td><td>5</td></tr><tr><td>37</td><td>79</td></tr><tr><td>38</td><td>88</td></tr><tr><td>40</td><td>77</td></tr><tr><td>42</td><td>111</td></tr><tr><td>55</td><td>148</td></tr></tbody></table>"
      ],
      "text/plain": [
       "niveau\tpokemon_base_id\n",
       "-2\t64\n",
       "-1\t25\n",
       "7\t10\n",
       "10\t11\n",
       "16\t1\n",
       "18\t16\n",
       "20\t19\n",
       "21\t43\n",
       "22\t23\n",
       "24\t46\n",
       "25\t60\n",
       "26\t50\n",
       "28\t52\n",
       "30\t72\n",
       "31\t48\n",
       "32\t2\n",
       "33\t54\n",
       "34\t86\n",
       "35\t109\n",
       "36\t5\n",
       "37\t79\n",
       "38\t88\n",
       "40\t77\n",
       "42\t111\n",
       "55\t148"
      ]
     },
     "execution_count": 48,
     "metadata": {},
     "output_type": "execute_result"
    }
   ],
   "source": [
    "select niveau, pokemon_base_id\n",
    "from evolue_en\n",
    "group by niveau"
   ]
  },
  {
   "cell_type": "markdown",
   "metadata": {},
   "source": [
    "**Exercice** : Afficher chaque pokémon avec son dresseur et le nombre de pokémons de ce dresseur"
   ]
  },
  {
   "cell_type": "code",
   "execution_count": 54,
   "metadata": {},
   "outputs": [
    {
     "data": {
      "text/html": [
       "<table class=\"dataframe\" border=\"1\"><thead><tr style=\"text-align: right;\"><th>nom</th><th>dresseur</th><th>nb</th></tr></thead><tbody><tr><td>Racaillou</td><td>Pierre</td><td>2</td></tr><tr><td>Onix</td><td>Pierre</td><td>2</td></tr><tr><td>Stari</td><td>Ondine</td><td>2</td></tr><tr><td>Staross</td><td>Ondine</td><td>2</td></tr><tr><td>Voltorbe</td><td>Major Bob</td><td>3</td></tr><tr><td>Pikachu</td><td>Major Bob</td><td>3</td></tr><tr><td>Raichu</td><td>Major Bob</td><td>3</td></tr><tr><td>Empiflor</td><td>Erika</td><td>3</td></tr><tr><td>Saquedeneu</td><td>Erika</td><td>3</td></tr><tr><td>Rafflesia</td><td>Erika</td><td>3</td></tr><tr><td>Smogo</td><td>Koga</td><td>4</td></tr><tr><td>Grotadmorv</td><td>Koga</td><td>4</td></tr><tr><td>Smogo</td><td>Koga</td><td>4</td></tr><tr><td>Smogogo</td><td>Koga</td><td>4</td></tr><tr><td>Kadabra</td><td>Morgane</td><td>4</td></tr><tr><td>M. Mime</td><td>Morgane</td><td>4</td></tr><tr><td>Aeromite</td><td>Morgane</td><td>4</td></tr><tr><td>Alakazam</td><td>Morgane</td><td>4</td></tr><tr><td>Caninos</td><td>Auguste</td><td>4</td></tr><tr><td>Ponyta</td><td>Auguste</td><td>4</td></tr><tr><td>Galopa</td><td>Auguste</td><td>4</td></tr><tr><td>Arcanin</td><td>Auguste</td><td>4</td></tr><tr><td>Rhinocorne</td><td>Giovanni</td><td>5</td></tr><tr><td>Triopikeur</td><td>Giovanni</td><td>5</td></tr><tr><td>Nidoqueen</td><td>Giovanni</td><td>5</td></tr><tr><td>Nidoking</td><td>Giovanni</td><td>5</td></tr><tr><td>Rhinoferos</td><td>Giovanni</td><td>5</td></tr><tr><td>Lamantine</td><td>Olga</td><td>5</td></tr><tr><td>Crustabri</td><td>Olga</td><td>5</td></tr><tr><td>Flagadoss</td><td>Olga</td><td>5</td></tr><tr><td>Lippoutou</td><td>Olga</td><td>5</td></tr><tr><td>Lokhlass</td><td>Olga</td><td>5</td></tr><tr><td>Onix</td><td>Aldo</td><td>5</td></tr><tr><td>Tygnon</td><td>Aldo</td><td>5</td></tr><tr><td>Kicklee</td><td>Aldo</td><td>5</td></tr><tr><td>Onix</td><td>Aldo</td><td>5</td></tr><tr><td>Mackogneur</td><td>Aldo</td><td>5</td></tr><tr><td>Ectoplasma</td><td>Agatha</td><td>5</td></tr><tr><td>Nosferalto</td><td>Agatha</td><td>5</td></tr><tr><td>Spectrum</td><td>Agatha</td><td>5</td></tr><tr><td>Arbok</td><td>Agatha</td><td>5</td></tr><tr><td>Ectoplasma</td><td>Agatha</td><td>5</td></tr><tr><td>Leviator</td><td>Peter</td><td>5</td></tr><tr><td>Draco</td><td>Peter</td><td>5</td></tr><tr><td>Draco</td><td>Peter</td><td>5</td></tr><tr><td>Ptera</td><td>Peter</td><td>5</td></tr><tr><td>Dracolosse</td><td>Peter</td><td>5</td></tr></tbody></table>"
      ],
      "text/plain": [
       "nom\tdresseur\tnb\n",
       "Racaillou\tPierre\t2\n",
       "Onix\tPierre\t2\n",
       "Stari\tOndine\t2\n",
       "Staross\tOndine\t2\n",
       "Voltorbe\tMajor Bob\t3\n",
       "Pikachu\tMajor Bob\t3\n",
       "Raichu\tMajor Bob\t3\n",
       "Empiflor\tErika\t3\n",
       "Saquedeneu\tErika\t3\n",
       "Rafflesia\tErika\t3\n",
       "Smogo\tKoga\t4\n",
       "Grotadmorv\tKoga\t4\n",
       "Smogo\tKoga\t4\n",
       "Smogogo\tKoga\t4\n",
       "Kadabra\tMorgane\t4\n",
       "M. Mime\tMorgane\t4\n",
       "Aeromite\tMorgane\t4\n",
       "Alakazam\tMorgane\t4\n",
       "Caninos\tAuguste\t4\n",
       "Ponyta\tAuguste\t4\n",
       "Galopa\tAuguste\t4\n",
       "Arcanin\tAuguste\t4\n",
       "Rhinocorne\tGiovanni\t5\n",
       "Triopikeur\tGiovanni\t5\n",
       "Nidoqueen\tGiovanni\t5\n",
       "Nidoking\tGiovanni\t5\n",
       "Rhinoferos\tGiovanni\t5\n",
       "Lamantine\tOlga\t5\n",
       "Crustabri\tOlga\t5\n",
       "Flagadoss\tOlga\t5\n",
       "Lippoutou\tOlga\t5\n",
       "Lokhlass\tOlga\t5\n",
       "Onix\tAldo\t5\n",
       "Tygnon\tAldo\t5\n",
       "Kicklee\tAldo\t5\n",
       "Onix\tAldo\t5\n",
       "Mackogneur\tAldo\t5\n",
       "Ectoplasma\tAgatha\t5\n",
       "Nosferalto\tAgatha\t5\n",
       "Spectrum\tAgatha\t5\n",
       "Arbok\tAgatha\t5\n",
       "Ectoplasma\tAgatha\t5\n",
       "Leviator\tPeter\t5\n",
       "Draco\tPeter\t5\n",
       "Draco\tPeter\t5\n",
       "Ptera\tPeter\t5\n",
       "Dracolosse\tPeter\t5"
      ]
     },
     "execution_count": 54,
     "metadata": {},
     "output_type": "execute_result"
    }
   ],
   "source": [
    "select nom, dresseur, nb\n",
    "from detient_pokemons\n",
    "join\n",
    "b\n",
    "on id_dresseur = dresseur_id\n",
    "join pokemons\n",
    "on pokemons.id = pokemon_id"
   ]
  },
  {
   "cell_type": "markdown",
   "metadata": {},
   "source": [
    "Afficher les dresseurs qui possèdent au moins 4 pokémons de niveau au moins 30"
   ]
  },
  {
   "cell_type": "code",
   "execution_count": 60,
   "metadata": {
    "scrolled": true
   },
   "outputs": [
    {
     "data": {
      "text/html": [
       "<table class=\"dataframe\" border=\"1\"><thead><tr style=\"text-align: right;\"><th>nom</th><th>count(*)</th></tr></thead><tbody><tr><td>Agatha</td><td>5</td></tr><tr><td>Aldo</td><td>5</td></tr><tr><td>Olga</td><td>5</td></tr><tr><td>Peter</td><td>5</td></tr></tbody></table>"
      ],
      "text/plain": [
       "nom\tcount(*)\n",
       "Agatha\t5\n",
       "Aldo\t5\n",
       "Olga\t5\n",
       "Peter\t5"
      ]
     },
     "execution_count": 60,
     "metadata": {},
     "output_type": "execute_result"
    }
   ],
   "source": [
    "select nom, count(*)\n",
    "from dresseurs join detient_pokemons on id = dresseur_id\n",
    "where niveau >= 50\n",
    "group by nom\n",
    "having count(*) > 3"
   ]
  },
  {
   "cell_type": "markdown",
   "metadata": {},
   "source": [
    "## GROUP BY multiples"
   ]
  }
 ],
 "metadata": {
  "celltoolbar": "Tags",
  "kernelspec": {
   "display_name": "xsqlite",
   "language": "sqlite",
   "name": "xsqlite"
  },
  "language_info": {
   "codemirror_mode": "sql",
   "file_extension": "",
   "mimetype": "",
   "name": "sql",
   "version": "3.33.0"
  }
 },
 "nbformat": 4,
 "nbformat_minor": 2
}
