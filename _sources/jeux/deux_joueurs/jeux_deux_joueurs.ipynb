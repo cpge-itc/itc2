{
 "cells": [
  {
   "attachments": {},
   "cell_type": "markdown",
   "metadata": {},
   "source": [
    "# Jeux à deux joueurs\n",
    "<iframe src=https://mozilla.github.io/pdf.js/web/viewer.html?file=https://raw.githubusercontent.com/fortierq/cours/main/jeux/deux_joueurs/jeux_deux_joueurs.pdf#zoom=page-fit&pagemode=none height=500 width=100% allowfullscreen></iframe>"
   ]
  },
  {
   "attachments": {},
   "cell_type": "markdown",
   "metadata": {},
   "source": [
    "## Attracteurs\n",
    "\n",
    "Calcul des attracteurs avec la fonction du cours :"
   ]
  },
  {
   "cell_type": "code",
   "execution_count": 4,
   "metadata": {},
   "outputs": [],
   "source": [
    "def attracteurs(G, fA):\n",
    "    d = {} # d[v] = True si v est un attracteur\n",
    "    def aux(v): # détermine si v est un attracteur\n",
    "        if v not in d:\n",
    "            succ = [aux(w) for w in G[v]]\n",
    "            if len(G[v]) == 0:\n",
    "                d[v] = not fA(v)\n",
    "            elif fA(v):\n",
    "                d[v] = any(succ)\n",
    "            else:\n",
    "                d[v] = all(succ)\n",
    "        return d[v]\n",
    "    return [v for v in G if aux(v)]"
   ]
  },
  {
   "attachments": {},
   "cell_type": "markdown",
   "metadata": {},
   "source": [
    "Autre version possible :"
   ]
  },
  {
   "cell_type": "code",
   "execution_count": 37,
   "metadata": {},
   "outputs": [],
   "source": [
    "from functools import cache\n",
    "\n",
    "def attracteurs(G, fA):\n",
    "    @cache\n",
    "    def aux(v):\n",
    "        succ = map(aux, G[v])\n",
    "        if G[v] == []:\n",
    "            return not fA(v)\n",
    "        if fA(v):\n",
    "            return any(succ)\n",
    "        return all(succ)\n",
    "    return filter(aux, G)"
   ]
  },
  {
   "cell_type": "code",
   "execution_count": 2,
   "metadata": {},
   "outputs": [
    {
     "data": {
      "text/plain": [
       "[0, 1, 2, 4, 7]"
      ]
     },
     "execution_count": 2,
     "metadata": {},
     "output_type": "execute_result"
    }
   ],
   "source": [
    "G = {\n",
    "0: [4, 5], 1: [4, 5, 6], 2: [7], 3: [],\n",
    "4: [2], 5: [3], 6: [3], 7: []\n",
    "}\n",
    "attracteurs(G, lambda v: v < 4) # exemple"
   ]
  },
  {
   "attachments": {},
   "cell_type": "markdown",
   "metadata": {},
   "source": [
    "## Jeu de Nim"
   ]
  },
  {
   "cell_type": "code",
   "execution_count": 8,
   "metadata": {},
   "outputs": [
    {
     "data": {
      "text/plain": [
       "{(1, 'A'): [(2, 'B'), (3, 'B'), (4, 'B')],\n",
       " (1, 'B'): [(2, 'A'), (3, 'A'), (4, 'A')],\n",
       " (2, 'A'): [(3, 'B'), (4, 'B'), (5, 'B')],\n",
       " (2, 'B'): [(3, 'A'), (4, 'A'), (5, 'A')],\n",
       " (3, 'A'): [(4, 'B'), (5, 'B'), (6, 'B')],\n",
       " (3, 'B'): [(4, 'A'), (5, 'A'), (6, 'A')],\n",
       " (4, 'A'): [(5, 'B'), (6, 'B'), (7, 'B')],\n",
       " (4, 'B'): [(5, 'A'), (6, 'A'), (7, 'A')],\n",
       " (5, 'A'): [(6, 'B'), (7, 'B'), (8, 'B')],\n",
       " (5, 'B'): [(6, 'A'), (7, 'A'), (8, 'A')],\n",
       " (6, 'A'): [(7, 'B'), (8, 'B'), (9, 'B')],\n",
       " (6, 'B'): [(7, 'A'), (8, 'A'), (9, 'A')],\n",
       " (7, 'A'): [(8, 'B'), (9, 'B')],\n",
       " (7, 'B'): [(8, 'A'), (9, 'A')],\n",
       " (8, 'A'): [(9, 'B')],\n",
       " (8, 'B'): [(9, 'A')],\n",
       " (9, 'A'): [],\n",
       " (9, 'B'): []}"
      ]
     },
     "execution_count": 8,
     "metadata": {},
     "output_type": "execute_result"
    }
   ],
   "source": [
    "def nim(n):\n",
    "    G = {}\n",
    "    for i in range(1, n + 1):\n",
    "        for j in ['A', 'B']:\n",
    "            if (i, j) not in G:\n",
    "                G[(i, j)] = []\n",
    "            for k in range(i + 1, i + 4):\n",
    "                if k <= n:\n",
    "                    G[(i, j)].append((k, 'A' if j == 'B' else 'B'))\n",
    "    return G\n",
    "G = nim(9)\n",
    "G"
   ]
  },
  {
   "cell_type": "code",
   "execution_count": 9,
   "metadata": {},
   "outputs": [
    {
     "data": {
      "text/plain": [
       "[(1, 'B'),\n",
       " (2, 'A'),\n",
       " (3, 'A'),\n",
       " (4, 'A'),\n",
       " (5, 'B'),\n",
       " (6, 'A'),\n",
       " (7, 'A'),\n",
       " (8, 'A'),\n",
       " (9, 'B')]"
      ]
     },
     "execution_count": 9,
     "metadata": {},
     "output_type": "execute_result"
    }
   ],
   "source": [
    "attracteurs(G, lambda v: v[1] == 'A')"
   ]
  }
 ],
 "metadata": {
  "kernelspec": {
   "display_name": "Python 3",
   "language": "python",
   "name": "python3"
  },
  "language_info": {
   "codemirror_mode": {
    "name": "ipython",
    "version": 3
   },
   "file_extension": ".py",
   "mimetype": "text/x-python",
   "name": "python",
   "nbconvert_exporter": "python",
   "pygments_lexer": "ipython3",
   "version": "3.11.1"
  },
  "vscode": {
   "interpreter": {
    "hash": "e7370f93d1d0cde622a1f8e1c04877d8463912d04d973331ad4851f04de6915a"
   }
  }
 },
 "nbformat": 4,
 "nbformat_minor": 2
}
