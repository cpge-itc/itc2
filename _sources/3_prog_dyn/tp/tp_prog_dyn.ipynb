{
 "cells": [
  {
   "cell_type": "markdown",
   "metadata": {},
   "source": [
    "# TP : Programmation dynamique\n",
    "\n",
    "**Lire le cours avant de faire le TP.**"
   ]
  },
  {
   "cell_type": "markdown",
   "metadata": {},
   "source": [
    "## Coefficient binomial\n",
    "\n",
    "On souhaite calculer $\\binom{n}{k}$ par programmation dynamique, en utilisant la formule de Pascal :\n",
    "\n",
    "$$\\binom{n}{k} = \\binom{n - 1}{k - 1} + \\binom{n}{k - 1}$$"
   ]
  },
  {
   "cell_type": "markdown",
   "metadata": {},
   "source": [
    "````{admonition} Exercice\n",
    " Quel est le cas de base que l'on peut considérer pour cette récurrence ?\n",
    "````"
   ]
  },
  {
   "cell_type": "markdown",
   "metadata": {},
   "source": [
    "$$\\binom{n}{0} = 1$$"
   ]
  },
  {
   "cell_type": "markdown",
   "metadata": {},
   "source": [
    "````{admonition} Exercice\n",
    " Écrire une fonction récursive `binom_rec(n, k)` renvoyant $\\binom{n}{k}$ à partir de la formule ci-dessus. Expliquer pourquoi la complexité de cette fonction est très mauvaise.\n",
    "````"
   ]
  },
  {
   "cell_type": "code",
   "execution_count": 2,
   "metadata": {},
   "outputs": [],
   "source": [
    "def binom_rec(n, k):\n",
    "    if k == 0:\n",
    "        return 1\n",
    "    return binom_rec(n - 1, k - 1) + binom_rec(n, k - 1)"
   ]
  },
  {
   "cell_type": "code",
   "execution_count": 3,
   "metadata": {},
   "outputs": [
    {
     "data": {
      "text/plain": [
       "1024"
      ]
     },
     "execution_count": 3,
     "metadata": {},
     "output_type": "execute_result"
    }
   ],
   "source": [
    "binom_rec(20, 10)"
   ]
  },
  {
   "cell_type": "markdown",
   "metadata": {},
   "source": [
    "````{admonition} Exercice\n",
    " Écrire une fonction `binom_dp(n, k)` renvoyant $\\binom{n}{k}$ en utilisant la même formule, mais par programmation dynamique.  \n",
    "Pour cela, on pourra stocker $\\binom{n}{k}$ dans une matrice (ou : un dictionnaire) et la remplir par $n$ croissant et par $k$ croissant.\n",
    "````"
   ]
  },
  {
   "cell_type": "code",
   "execution_count": null,
   "metadata": {},
   "outputs": [],
   "source": [
    "def binom_dp(n, k):\n",
    "    # définir une matrice M de taille (n+1)x(n+1)\n",
    "    # M[i][j] contiendra j parmi i\n",
    "    for i in range(0, n + 1):\n",
    "        M[i][0] = ... # cas de base\n",
    "        for j in range(1, i + 1):\n",
    "            M[i][j] = ... # récurrence\n",
    "    return ..."
   ]
  },
  {
   "cell_type": "code",
   "execution_count": 12,
   "metadata": {},
   "outputs": [],
   "source": [
    "def binom_dp(n, k):\n",
    "    M = [[0]*(n + 1) for _ in range(n + 1)]\n",
    "    for i in range(0, n + 1):\n",
    "        M[i][0] = 1 # cas de base\n",
    "        for j in range(1, i + 1):\n",
    "            M[i][j] = M[i][j - 1] + M[i - 1][j - 1]\n",
    "    return M[n][k]"
   ]
  },
  {
   "cell_type": "code",
   "execution_count": 13,
   "metadata": {},
   "outputs": [
    {
     "data": {
      "text/plain": [
       "1024"
      ]
     },
     "execution_count": 13,
     "metadata": {},
     "output_type": "execute_result"
    }
   ],
   "source": [
    "binom_dp(20, 10)"
   ]
  },
  {
   "cell_type": "markdown",
   "metadata": {},
   "source": [
    "## Rendu de monnaie\n",
    "\n",
    "Étant donné une liste `L` d'entiers $a_1,\\ldots,a_k$ (des pièces), on veut calculer le nombre minimum $r(n, k)$ de pièces parmi $a_1, ..., a_k$ dont la somme vaut $n$.\n",
    "\n",
    "Par exemple, si $k = 3$ et $a_1 = 1, a_2 = 2, a_3 = 5$ alors $r(7, 3) = 2$ (car $7 = 2 + 5$ et c'est la façon de rendre $7€$ qui utilise le moins de pièces).  \n",
    "\n",
    "Remarques :  \n",
    "- On peut utiliser plusieurs fois la même pièce.  \n",
    "- $r(0, k)$ revient à rendre $0$€, ce qu'on peut faire avec $0$ pièce : $r(0, k) = 1$\n",
    "- $r(n, 0)$ revient à n'utiliser aucune pièce, ce qui est impossible si $n \\neq 0$ : on posera $r(n, 0)$ = $\\infty$ (`float(\"inf\")` en Python)."
   ]
  },
  {
   "cell_type": "markdown",
   "metadata": {},
   "source": [
    "````{admonition} Exercice\n",
    "  \n",
    "1. Écrire une relation de récurrence sur $r(n, k)$. On pourra distinguer deux cas pour rendre $n$ euros avec les picèes $a_1$, ..., $a_k$ :  \n",
    "- soit la $n$ème pièce n'est pas utilisée (et on a donc $r(n, k) = r(n, k - 1)$)  \n",
    "- soit la $n$ème pièce est utilisée (et on a $r(n, k) = ...$)  \n",
    "2. En déduire une fonction `rendu(L, n)` renvoyant le nombre minimum de pièces requises pour rendre `n` euros, où `L` est la liste des pièces.\n",
    "````"
   ]
  },
  {
   "cell_type": "code",
   "execution_count": 33,
   "metadata": {},
   "outputs": [],
   "source": [
    "# 1.\n",
    "# r(n, k) = min(r(n, k - 1), r(n - ak, k)) si ak <= n\n",
    "# sinon r(n, k) = r(n, k - 1) (on ne peut pas utiliser la pièce ak)\n",
    "\n",
    "# 2.\n",
    "def rendu(L, n):\n",
    "    k = len(L) # nombre de pièces\n",
    "    R = [[0]*(k + 1) for _ in range(n + 1)]\n",
    "    for i in range(1, n + 1):\n",
    "        R[i][0] = float(\"inf\")\n",
    "        for j in range(1, k + 1):\n",
    "            if i - L[j - 1] >= 0:\n",
    "                R[i][j] = min(R[i][j - 1], 1 + R[i - L[j - 1]][j])\n",
    "            else:\n",
    "                R[i][j] = R[i][j - 1]\n",
    "    return R[-1][-1]"
   ]
  },
  {
   "cell_type": "code",
   "execution_count": 32,
   "metadata": {},
   "outputs": [
    {
     "data": {
      "text/plain": [
       "2"
      ]
     },
     "execution_count": 32,
     "metadata": {},
     "output_type": "execute_result"
    }
   ],
   "source": [
    "rendu([1, 2, 5], 7)"
   ]
  },
  {
   "cell_type": "markdown",
   "metadata": {},
   "source": [
    "## Plus grand carré dans une matrice\n",
    "\n",
    "Étant donnée une matrice carrée remplie de 0 ou 1, on souhaite connaître la taille du plus gros carré de 1 dans cette matrice.  \n",
    "Par exemple, ce nombre est 2 pour la matrice $M$ suivante (correspondant au carré en pointillé) :\n",
    "\n",
    "<center><img src=https://raw.githubusercontent.com/fortierq/tikz/master/dyn_prog/matrix_square/matrix_square.png width=200></center>\n",
    "\n",
    "La case de coordonnés $(x, y)$ est celle sur la ligne $x$, colonne $y$. La case de coordonnées (0, 0) est celle en haut à gauche.  \n",
    "On supposera que les indices en arguments des fonctions ne dépassent pas des tableaux ou matrices correspondants."
   ]
  },
  {
   "cell_type": "markdown",
   "metadata": {},
   "source": [
    "````{admonition} Exercice\n",
    " Écrire une fonction `est_carre` telle que `est_carre m x y k` détermine si la sous-matrice de `m` de taille $k \\times k$ et dont la case en haut à gauche a pour coordonnées (`x`, `y`) ne possède que des 1.  \n",
    "Par exemple, `est_carre M 1 2 2` doit renvoyer `true` (ce qui correspond au carré en pointillé dans la matrice $M$ ci-dessus).\n",
    "````"
   ]
  },
  {
   "cell_type": "markdown",
   "metadata": {},
   "source": [
    "````{admonition} Exercice\n",
    " Écrire une fonction `contient_carre` telle que `contient_carre m k` renvoie `true` si `m` contient un carré de 1 de taille $k$, `false` sinon.\n",
    "````"
   ]
  },
  {
   "cell_type": "markdown",
   "metadata": {},
   "source": [
    "````{admonition} Exercice\n",
    " Écrire une fonction `max_carre1` telle que `max_carre1 m` renvoie la taille maximum d'un carré de 1 contenu dans `m`.\n",
    "````"
   ]
  },
  {
   "cell_type": "markdown",
   "metadata": {},
   "source": [
    "````{admonition} Exercice\n",
    " Quelle est la complexité de `max_carre1 m` ? Dans la suite, on utilisera une méthode plus efficace par programmation dynamique.\n",
    "````"
   ]
  },
  {
   "cell_type": "markdown",
   "metadata": {},
   "source": [
    "On va construire une matrice `c` telle que `c.(x).(y)` est la taille maximum d'un carré de 1 dans `m` dont la case en bas à droite est `m.(x).(y)` (c'est à dire un carré de 1 qui contient `m.(x).(y)` mais aucun `m.(i).(j)` si $i > x$ ou $j > y$).\\\\ Par exemple, `c.(1).(2) = 1` et `c.(2).(3) = 2` pour la matrice $M$ ci-dessus."
   ]
  },
  {
   "cell_type": "markdown",
   "metadata": {},
   "source": [
    "````{admonition} Exercice\n",
    " Écrire une fonction `init` telle que `init m c` remplisse les valeurs de `c.(0).(y)` et `c.(x).(0)`, $\\forall$ $x, y$.\n",
    "````"
   ]
  },
  {
   "cell_type": "markdown",
   "metadata": {},
   "source": [
    "````{admonition} Exercice\n",
    " Que vaut `c.(x).(y)` si `m.(x).(y) = 0` ?\n",
    "````"
   ]
  },
  {
   "cell_type": "markdown",
   "metadata": {},
   "source": [
    "````{admonition} Exercice\n",
    " Montrer que, si `m.(x).(y) = 1`, `c.(x).(y)` est égal à 1 plus le minimum de `c.(x-1).(y)`, `c.(x).(y-1)` et `c.(x-1).(y-1)`.\n",
    "````"
   ]
  },
  {
   "cell_type": "markdown",
   "metadata": {},
   "source": [
    "````{admonition} Exercice\n",
    " En déduire une fonction `remplir` telle que, si `m` et `c` sont des matrices de même taille, `remplir m c` modifie `c` pour qu'elle vérifie: $\\forall$ `x`, `y`, `c.(x).(y)` est la taille maximum d'un carré de 1 dans `m` dont la case en bas à droite est `m.(x).(y)`.\n",
    "````"
   ]
  },
  {
   "cell_type": "markdown",
   "metadata": {},
   "source": [
    "````{admonition} Exercice\n",
    " En déduire une fonction `max_carre2` telle que `max_carre2 m` renvoie la taille maximum d'un carré de 1 contenu dans `m`, ainsi que les coordonnées de la case en haut à gauche d'un tel carré.\n",
    "````"
   ]
  },
  {
   "cell_type": "markdown",
   "metadata": {},
   "source": [
    "````{admonition} Exercice\n",
    " Quelle est la complexité de `max_carre2 m`, en fonction des dimensions de `m`? Comparer avec `max_carre1 m`.\n",
    "````"
   ]
  },
  {
   "cell_type": "markdown",
   "metadata": {},
   "source": [
    "````{admonition} Exercice\n",
    " Est-il possible de trouver un algorithme avec une meilleur complexité ?\n",
    "````"
   ]
  },
  {
   "cell_type": "markdown",
   "metadata": {},
   "source": [
    "````{admonition} Exercice\n",
    " (Google Hash Code) Colorier Alan Turing de la meilleure façon possible sur \\href{https://primers.xyz/0}{https://primers.xyz/0}\n",
    "````"
   ]
  }
 ],
 "metadata": {
  "kernelspec": {
   "display_name": "Python 3.9.2 64-bit",
   "language": "python",
   "name": "python3"
  },
  "language_info": {
   "codemirror_mode": {
    "name": "ipython",
    "version": 3
   },
   "file_extension": ".py",
   "mimetype": "text/x-python",
   "name": "python",
   "nbconvert_exporter": "python",
   "pygments_lexer": "ipython3",
   "version": "3.9.2"
  },
  "vscode": {
   "interpreter": {
    "hash": "31f2aee4e71d21fbe5cf8b01ff0e069b9275f58929596ceb00d14d90e3e16cd6"
   }
  }
 },
 "nbformat": 4,
 "nbformat_minor": 2
}
