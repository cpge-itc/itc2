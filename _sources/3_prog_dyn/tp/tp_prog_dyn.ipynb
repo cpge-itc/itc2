{
 "cells": [
  {
   "cell_type": "markdown",
   "metadata": {},
   "source": [
    "# TP : Programmation dynamique\n",
    "\n",
    "Ce TP est à rendre au plus tard dimanche 4 décembre.  \n",
    "Le plus pratique est de répondre à ce TP sur Capytale. Pour cela :\n",
    "1. [Cliquer sur ce lien](https://capytale2.ac-paris.fr/web/c/6268-1022125).  \n",
    "2. Cliquer sur Ma Classe en Région (Auvergne-Rhône-Alpes).  \n",
    "3. Se connecter avec ses identifiants ENT.  \n",
    "4. Cliquer sur Go !\n",
    "\n",
    "Le TP est automatiquement sauvegardé après un Ctrl + S (ou un clic sur l'icone de sauvegarde), vous pouvez le continuer chez vous et le rendu est automatique.  \n",
    "\n",
    "Si vraiment vous n'arrivez pas à vous connecter à Capytale, vous pouvez me rendre le TP par mail."
   ]
  },
  {
   "cell_type": "markdown",
   "metadata": {},
   "source": [
    "## Coefficient binomial\n",
    "\n",
    "On souhaite calculer $\\binom{n}{k}$ par programmation dynamique, en utilisant la formule de Pascal :\n",
    "\n",
    "$$\\binom{n}{k} = \\binom{n - 1}{k - 1} + \\binom{n - 1}{k}$$"
   ]
  },
  {
   "cell_type": "markdown",
   "metadata": {},
   "source": [
    "````{admonition} Question\n",
    " Que peut-on prendre comme cas de base ?\n",
    "````"
   ]
  },
  {
   "cell_type": "markdown",
   "metadata": {
    "tags": [
     "cor"
    ]
   },
   "source": [
    "````{admonition} Solution\n",
    ":class: tip, dropdown\n",
    "$$\\binom{0}{k} = 0$$\n",
    "$$\\binom{n}{0} = 1, \\text{si } n \\neq 0$$\n",
    "````"
   ]
  },
  {
   "cell_type": "markdown",
   "metadata": {},
   "source": [
    "````{admonition} Question\n",
    " Écrire une fonction récursive `binom_rec(n, k)` renvoyant $\\binom{n}{k}$ à partir de la formule ci-dessus. Expliquer pourquoi la complexité de cette fonction est très mauvaise.\n",
    "````"
   ]
  },
  {
   "cell_type": "markdown",
   "execution_count": 1,
   "metadata": {
    "tags": [
     "cor"
    ]
   },
   "source": [
    "````{admonition} Solution\n",
    ":class: tip, dropdown\n",
    "``` python\n",
    "def binom_rec(n, k):\n",
    "    if k == 0:\n",
    "        return 1\n",
    "    if n == 0:\n",
    "        return 0\n",
    "    return binom_rec(n - 1, k - 1) + binom_rec(n - 1, k)\n",
    "```\n",
    "````"
   ]
  },
  {
   "cell_type": "code",
   "execution_count": 2,
   "metadata": {},
   "outputs": [
    {
     "data": {
      "text/plain": [
       "4845"
      ]
     },
     "execution_count": 2,
     "metadata": {},
     "output_type": "execute_result"
    }
   ],
   "source": [
    "binom_rec(20, 4)"
   ]
  },
  {
   "cell_type": "markdown",
   "metadata": {},
   "source": [
    "````{admonition} Question\n",
    " Écrire une fonction `binom_dp(n, k)` renvoyant $\\binom{n}{k}$ en utilisant la même formule, mais par programmation dynamique.  \n",
    "Pour cela, on pourra stocker $\\binom{n}{k}$ dans une matrice (ou : un dictionnaire) et la remplir par $n$ croissant et par $k$ croissant.\n",
    "````"
   ]
  },
  {
   "cell_type": "code",
   "execution_count": 3,
   "metadata": {},
   "outputs": [],
   "source": [
    "def binom_dp(n, k):\n",
    "    # définir une matrice M de taille (n+1)x(k+1)\n",
    "    # M[i][j] contiendra j parmi i\n",
    "    for i in range(0, n + 1):\n",
    "        M[i][0] = ... # cas de base\n",
    "        for j in range(1, k + 1):\n",
    "            M[i][j] = ... # récurrence\n",
    "    return ..."
   ]
  },
  {
   "cell_type": "markdown",
   "execution_count": 4,
   "metadata": {
    "tags": [
     "cor"
    ]
   },
   "source": [
    "````{admonition} Solution\n",
    ":class: tip, dropdown\n",
    "``` python\n",
    "def binom_dp(n, k):\n",
    "    M = [[0]*(k + 1) for _ in range(n + 1)]\n",
    "    for i in range(0, n + 1):\n",
    "        M[i][0] = 1 # cas de base\n",
    "\n",
    "    for i in range(1, n + 1):\n",
    "        for j in range(1, k + 1):\n",
    "            M[i][j] = M[i - 1][j - 1] + M[i - 1][j]\n",
    "    return M[n][k]\n",
    "```\n",
    "````"
   ]
  },
  {
   "cell_type": "code",
   "execution_count": 5,
   "metadata": {},
   "outputs": [
    {
     "data": {
      "text/plain": [
       "4845"
      ]
     },
     "execution_count": 5,
     "metadata": {},
     "output_type": "execute_result"
    }
   ],
   "source": [
    "binom_dp(20, 4)"
   ]
  },
  {
   "cell_type": "markdown",
   "metadata": {},
   "source": [
    "````{admonition} Question\n",
    " Écrire une fonction `binom_memo(n, k)` renvoyant $\\binom{n}{k}$ en utilisant le même principe, mais avec mémoïsation plutôt que programmation dynamique.\n",
    "````"
   ]
  },
  {
   "cell_type": "code",
   "execution_count": 6,
   "metadata": {},
   "outputs": [],
   "source": [
    "def binom_memo(n, k):\n",
    "    d = {} # d[(i, j)] contiendra j parmi i\n",
    "    def aux(i, j): # renvoie j parmi i\n",
    "        ... # cas de base\n",
    "        ... # dans le cas général, regarder si (i, j) est dans d : si oui, renvoyer la valeur associée, sinon la calculer et l'ajouter à d\n",
    "    return aux(n, k)"
   ]
  },
  {
   "cell_type": "markdown",
   "metadata": {},
   "source": [
    "## Rendu de monnaie\n",
    "\n",
    "Étant donnée une liste `L` d'entiers $a_1,\\ldots,a_k$ (des pièces), on veut calculer le nombre minimum $r(n, k)$ de pièces parmi $a_1, ..., a_k$ dont la somme vaut $n$.\n",
    "\n",
    "Par exemple, si $k = 3$ et $a_1 = 1, a_2 = 2, a_3 = 5$ alors $r(7, 3) = 2$ (car $7 = 2 + 5$ et c'est la façon de rendre $7$€ qui utilise le moins de pièces).  \n",
    "\n",
    "Remarques :  \n",
    "- On peut utiliser plusieurs fois la même pièce.  \n",
    "- $r(0, k)$ revient à rendre $0$€, ce qu'on peut faire avec $0$ pièce : $r(0, k) = 0$\n",
    "- $r(n, 0)$ revient à n'utiliser aucune pièce, ce qui est impossible si $n \\neq 0$ : on posera $r(n, 0)$ = $\\infty$ (`float(\"inf\")` en Python)."
   ]
  },
  {
   "cell_type": "markdown",
   "metadata": {},
   "source": [
    "````{admonition} Question\n",
    " Écrire une relation de récurrence sur $r(n, k)$. On pourra distinguer deux cas pour rendre $n$ euros avec les picèes $a_1$, ..., $a_k$ :  \n",
    "- soit $a_k$ n'est pas utilisée (et on a donc $r(n, k) = r(n, k - 1)$)  \n",
    "- soit $a_k$ est utilisée (et on a $r(n, k) = ...$).\n",
    "````"
   ]
  },
  {
   "cell_type": "markdown",
   "metadata": {
    "tags": [
     "cor"
    ]
   },
   "source": [
    "````{admonition} Solution\n",
    ":class: tip, dropdown\n",
    "Si $a_k$ est utilisée : il faut encore rendre $n - a_k$ euros avec les pièces $a_1$, ..., $a_k$ (on a le droit d'utiliser plusieurs fois $a_k$), d'où $r(n, k) = r(n - a_k, k) + 1$.\n",
    "\n",
    "Dans le cas général, on considère les deux possibilités et on conserve le minimum : \n",
    "$$\n",
    "    r(n, k) = min(r(n, k - 1), r(n - a_k, k) + 1)\n",
    "$$\n",
    "\n",
    "Remarque : on ne peut utiliser $a_k$ pour rendre $n$ euros que si $n \\geq a_k$. Si $n < a_k$, on a donc $r(n, k) = r(n, k - 1)$.\n",
    "````"
   ]
  },
  {
   "cell_type": "markdown",
   "metadata": {},
   "source": [
    "````{admonition} Question\n",
    " En déduire une fonction `rendu(L, n)` par programmation dynamique renvoyant le nombre minimum de pièces requises pour rendre `n` euros, où `L` est la liste des pièces.  \n",
    "On remplira une matrice `R` pour que `R[i][j]` contienne le nombre minimum de pièces pour rendre `i` euros en utilisant les `j` premières pièces de `L`.\n",
    "````"
   ]
  },
  {
   "cell_type": "markdown",
   "execution_count": 1,
   "metadata": {
    "tags": [
     "cor"
    ]
   },
   "source": [
    "````{admonition} Solution\n",
    ":class: tip, dropdown\n",
    "``` python\n",
    "def rendu(L, n):\n",
    "    k = len(L) # nombre de pièces\n",
    "    R = [[0]*(k + 1) for _ in range(n + 1)]\n",
    "    for i in range(1, n + 1):\n",
    "        R[i][0] = float(\"inf\")\n",
    "        for j in range(1, k + 1):\n",
    "            if i - L[j - 1] >= 0:\n",
    "                R[i][j] = min(R[i][j - 1], 1 + R[i - L[j - 1]][j])\n",
    "            else:\n",
    "                R[i][j] = R[i][j - 1]\n",
    "    return R[-1][-1]\n",
    "```\n",
    "````"
   ]
  },
  {
   "cell_type": "code",
   "execution_count": 8,
   "metadata": {},
   "outputs": [
    {
     "data": {
      "text/plain": [
       "2"
      ]
     },
     "execution_count": 8,
     "metadata": {},
     "output_type": "execute_result"
    }
   ],
   "source": [
    "rendu([1, 2, 5], 7)"
   ]
  },
  {
   "cell_type": "markdown",
   "metadata": {},
   "source": [
    "````{admonition} Question\n",
    " Réécrire la fonction précédente par mémoïsation plutôt que par programmation dynamique.\n",
    "````"
   ]
  },
  {
   "cell_type": "markdown",
   "execution_count": 9,
   "metadata": {
    "tags": [
     "cor"
    ]
   },
   "source": [
    "````{admonition} Solution\n",
    ":class: tip, dropdown\n",
    "``` python\n",
    "def rendu_memo(L, n):\n",
    "    k = len(L)\n",
    "    d = {}\n",
    "    def aux(i, j):\n",
    "        if (i, j) in d:\n",
    "            return d[(i, j)]\n",
    "        if i == 0:\n",
    "            return 0\n",
    "        if j == 0:\n",
    "            return float(\"inf\")\n",
    "        if i - L[j - 1] >= 0:\n",
    "            d[(i, j)] = min(aux(i, j - 1), 1 + aux(i - L[j - 1], j))\n",
    "        else:\n",
    "            d[(i, j)] = aux(i, j - 1)\n",
    "        return d[(i, j)]\n",
    "    return aux(n, k)\n",
    "rendu_memo([1, 2, 5], 7)\n",
    "```\n",
    "``` \n",
    "2\n",
    "\n",
    "```\n",
    "````"
   ]
  },
  {
   "cell_type": "markdown",
   "metadata": {},
   "source": [
    "## Plus grand carré dans une matrice\n",
    "\n",
    "Étant donnée une matrice carrée remplie de 0 ou 1, on souhaite connaître la taille du plus gros carré de 1 dans cette matrice.  \n",
    "Par exemple, ce nombre est 2 pour la matrice $M$ suivante (correspondant au carré en pointillé) :\n",
    "\n",
    "<center><img src=https://raw.githubusercontent.com/fortierq/tikz/master/dyn_prog/matrix_square/matrix_square.png width=200></center>"
   ]
  },
  {
   "cell_type": "markdown",
   "metadata": {},
   "source": [
    "\n",
    "La case de coordonnés $(x, y)$ est celle sur la ligne $x$, colonne $y$. La case de coordonnées (0, 0) est celle en haut à gauche.  \n",
    "On supposera que les indices en arguments des fonctions ne dépassent pas des tableaux ou matrices correspondants."
   ]
  },
  {
   "cell_type": "markdown",
   "metadata": {},
   "source": [
    "````{admonition} Question\n",
    " Définir `M` en Python.\n",
    "````"
   ]
  },
  {
   "cell_type": "markdown",
   "execution_count": 5,
   "metadata": {
    "tags": [
     "cor"
    ]
   },
   "source": [
    "````{admonition} Solution\n",
    ":class: tip, dropdown\n",
    "``` python\n",
    "M = [[1, 0, 0, 0], [0, 0, 1, 1], [0, 1, 1, 1], [0, 1, 0, 1]]\n",
    "```\n",
    "````"
   ]
  },
  {
   "cell_type": "markdown",
   "metadata": {},
   "source": [
    "## Méthode naïve"
   ]
  },
  {
   "cell_type": "markdown",
   "metadata": {},
   "source": [
    "````{admonition} Question\n",
    " Écrire une fonction `est_carre` telle que `est_carre(m, x, y, k)` détermine si la sous-matrice de `m` de taille $k \\times k$ et dont la case en haut à gauche a pour coordonnées (`x`, `y`) ne possède que des 1.\n",
    "````"
   ]
  },
  {
   "cell_type": "markdown",
   "execution_count": 6,
   "metadata": {
    "tags": [
     "cor"
    ]
   },
   "source": [
    "````{admonition} Solution\n",
    ":class: tip, dropdown\n",
    "``` python\n",
    "def est_carre(M, x, y, k):\n",
    "    for i in range(x, x + k):\n",
    "        for j in range(y, y + k):\n",
    "            if M[i][j] != 1:\n",
    "                return False\n",
    "    return True\n",
    "```\n",
    "````"
   ]
  },
  {
   "cell_type": "code",
   "execution_count": 11,
   "metadata": {},
   "outputs": [],
   "source": [
    "assert(est_carre(M, 1, 2, 2) and not est_carre(M, 1, 1, 2))"
   ]
  },
  {
   "cell_type": "markdown",
   "metadata": {},
   "source": [
    "````{admonition} Question\n",
    " Écrire une fonction `contient_carre` telle que `contient_carre(m, k)` renvoie `true` si `m` contient un carré de 1 de taille $k$, `false` sinon.\n",
    "````"
   ]
  },
  {
   "cell_type": "markdown",
   "execution_count": 9,
   "metadata": {
    "tags": [
     "cor"
    ]
   },
   "source": [
    "````{admonition} Solution\n",
    ":class: tip, dropdown\n",
    "``` python\n",
    "def contient_carre(M, k):\n",
    "    n = len(M)\n",
    "    for i in range(n - k + 1):\n",
    "        for j in range(n - k + 1):\n",
    "            if est_carre(M, i, j, k):\n",
    "                return True\n",
    "    return False\n",
    "```\n",
    "````"
   ]
  },
  {
   "cell_type": "code",
   "execution_count": 12,
   "metadata": {},
   "outputs": [],
   "source": [
    "assert(contient_carre(M, 2) and not contient_carre(M, 3))"
   ]
  },
  {
   "cell_type": "markdown",
   "metadata": {},
   "source": [
    "````{admonition} Question\n",
    " Écrire une fonction `max_carre1` telle que `max_carre1(m)` renvoie la taille maximum d'un carré de 1 contenu dans `m`.\n",
    "````"
   ]
  },
  {
   "cell_type": "markdown",
   "execution_count": 13,
   "metadata": {
    "tags": [
     "cor"
    ]
   },
   "source": [
    "````{admonition} Solution\n",
    ":class: tip, dropdown\n",
    "``` python\n",
    "def max_carre1(M):\n",
    "    n = len(M)\n",
    "    for k in range(n, 0, -1):\n",
    "        if contient_carre(M, k):\n",
    "            return k\n",
    "    return 0\n",
    "```\n",
    "````"
   ]
  },
  {
   "cell_type": "code",
   "execution_count": 14,
   "metadata": {},
   "outputs": [
    {
     "data": {
      "text/plain": [
       "2"
      ]
     },
     "execution_count": 14,
     "metadata": {},
     "output_type": "execute_result"
    }
   ],
   "source": [
    "max_carre1(M)"
   ]
  },
  {
   "cell_type": "markdown",
   "metadata": {},
   "source": [
    "````{admonition} Question\n",
    " Quelle est la complexité de `max_carre1(m)` dans le pire cas ?\n",
    "````"
   ]
  },
  {
   "cell_type": "markdown",
   "metadata": {
    "tags": [
     "cor"
    ]
   },
   "source": [
    "````{admonition} Solution\n",
    ":class: tip, dropdown\n",
    "- `est_carre(M, x, y, k)` est en $O(k^2)$.  \n",
    "- `contient_carre(M, k)` appelle O($n$) fois `est_carre`, donc est en $O(n^2 k^2)$.  \n",
    "- `max_carre1(M)` appelle `contient_carre` pour $k = 1, 2, ..., n$, donc est de complexité $\\sum_{k=1}^n O(n^2 k^2) = O(n^3 \\sum_{k=1}^n k^2)$. Comme $\\sum_{k=1}^n k^2 = \\frac{n(n+1)(2n+1)}{6} = O(n^3)$, la complexité totale est $\\boxed{O(n^6)}$.`\n",
    "````"
   ]
  },
  {
   "cell_type": "markdown",
   "metadata": {},
   "source": [
    "On va construire une matrice `c` telle que `c[x][y]` est la taille maximum d'un carré de 1 dans `m` dont la case en bas à droite est `m[x][y]` (c'est à dire un carré de 1 qui contient `m[x][y]` mais aucun `m[i][j]` si $i > x$ ou $j > y$).  \n",
    "Par exemple, `c[1][2] = 1` et `c[2][3] = 2` pour la matrice $M$ ci-dessus."
   ]
  },
  {
   "cell_type": "markdown",
   "metadata": {},
   "source": [
    "````{admonition} Question\n",
    " Que vaut `c[0][y]` et `c[x][0]` ?\n",
    "````"
   ]
  },
  {
   "cell_type": "markdown",
   "metadata": {
    "tags": [
     "cor"
    ]
   },
   "source": [
    "````{admonition} Solution\n",
    ":class: tip, dropdown\n",
    "`c[0][y] = 0` si `m[0][y] = 0` et `c[0][y] = 1` sinon.  \n",
    "De même pour `c[x][0]`.  \n",
    "Remarque : `c[0][y]` et `c[x][0]` sont donc les mêmes valeurs que `m[0][y]` et `m[x][0]`, on peut donc initialiser `c` comme une copie de `m`.\n",
    "````"
   ]
  },
  {
   "cell_type": "markdown",
   "metadata": {},
   "source": [
    "````{admonition} Question\n",
    " Que vaut `c[x][y]` si `m[x][y] = 0` ?\n",
    "````"
   ]
  },
  {
   "cell_type": "markdown",
   "metadata": {
    "tags": [
     "cor"
    ]
   },
   "source": [
    "````{admonition} Solution\n",
    ":class: tip, dropdown\n",
    "`c[x][y] = 0`.\n",
    "````"
   ]
  },
  {
   "cell_type": "markdown",
   "metadata": {},
   "source": [
    "````{admonition} Question\n",
    " Montrer que, si `m[x][y] = 1`, `c[x][y] = 1 + min(c[x-1][y], c[x][y-1], c[x-1][y-1])`.\n",
    "````"
   ]
  },
  {
   "cell_type": "markdown",
   "metadata": {},
   "source": [
    "````{admonition} Question\n",
    " En déduire une fonction `max_carre2` telle que `max_carre2(m)` renvoie la taille maximum d'un carré de 1 contenu dans `m`, ainsi que les coordonnées de la case en haut à gauche d'un tel carré.\n",
    "````"
   ]
  },
  {
   "cell_type": "markdown",
   "execution_count": 15,
   "metadata": {
    "tags": [
     "cor"
    ]
   },
   "source": [
    "````{admonition} Solution\n",
    ":class: tip, dropdown\n",
    "``` python\n",
    "def max_carre2(m):\n",
    "    c = m.copy()\n",
    "    for i in range(len(m)):\n",
    "        for j in range(len(m[0])):\n",
    "            if m[i][j] == 1:\n",
    "                c[i][j] = 1 + min(c[i - 1][j], c[i][j - 1], c[i - 1][j - 1])\n",
    "    return max(max(l) for l in c)\n",
    "```\n",
    "````"
   ]
  },
  {
   "cell_type": "code",
   "execution_count": 16,
   "metadata": {},
   "outputs": [
    {
     "data": {
      "text/plain": [
       "2"
      ]
     },
     "execution_count": 16,
     "metadata": {},
     "output_type": "execute_result"
    }
   ],
   "source": [
    "max_carre2(M)"
   ]
  },
  {
   "cell_type": "markdown",
   "metadata": {},
   "source": [
    "````{admonition} Question\n",
    " Quelle est la complexité de `max_carre2(m)`, en fonction des dimensions de `m`? Comparer avec `max_carre1(m)`.\n",
    "````"
   ]
  },
  {
   "cell_type": "markdown",
   "metadata": {
    "tags": [
     "cor"
    ]
   },
   "source": [
    "````{admonition} Solution\n",
    ":class: tip, dropdown\n",
    "`max_carre2(m)` est en $\\boxed{O(n^2)}$ à cause des deux boucles `for` imbriquées.  \n",
    "C'est donc beaucoup mieux que `max_carre1(m)` qui est en $O(n^6)$.\n",
    "````"
   ]
  },
  {
   "cell_type": "markdown",
   "metadata": {},
   "source": [
    "## Pour ceux qui ont fini\n",
    "\n",
    "Cette partie n'est pas à rendre, sauf si vous en avez le temps."
   ]
  },
  {
   "cell_type": "markdown",
   "metadata": {},
   "source": [
    "````{admonition} Question\n",
    " S'inscrire sur [https://projecteuler.net/](https://projecteuler.net/) et résoudre [ce problème](https://projecteuler.net/problem=67).  \n",
    "On pourra télécharger le fichier triangle.txt demandé avec :  \n",
    "```python\n",
    "import urllib.request\n",
    "f = urllib.request.urlopen(\"https://projecteuler.net/project/resources/p067_triangle.txt\")\n",
    "lignes = list(map(lambda x : list(map(int, x.split())), f.readlines())) # renvoie la liste des lignes du fichier\n",
    "```\n",
    "````"
   ]
  },
  {
   "cell_type": "markdown",
   "metadata": {},
   "source": [
    "````{admonition} Question\n",
    " [Résoudre ce problème (en s'inscrivant préalablement)](https://leetcode.com/problems/longest-increasing-subsequence)\n",
    "````"
   ]
  }
 ],
 "metadata": {
  "kernelspec": {
   "display_name": "Python 3 (ipykernel)",
   "language": "python",
   "name": "python3"
  },
  "language_info": {
   "codemirror_mode": {
    "name": "ipython",
    "version": 3
   },
   "file_extension": ".py",
   "mimetype": "text/x-python",
   "name": "python",
   "nbconvert_exporter": "python",
   "pygments_lexer": "ipython3",
   "version": "3.9.2"
  },
  "vscode": {
   "interpreter": {
    "hash": "31f2aee4e71d21fbe5cf8b01ff0e069b9275f58929596ceb00d14d90e3e16cd6"
   }
  }
 },
 "nbformat": 4,
 "nbformat_minor": 2
}
