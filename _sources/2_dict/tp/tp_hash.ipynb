{
 "cells": [
  {
   "cell_type": "markdown",
   "metadata": {},
   "source": [
    "# TP : Fonction de hachage\n",
    "\n",
    "---\n",
    "\n",
    "De manière informelle, on dit qu'une fonction $h : X \\longrightarrow Y$ est une **fonction de hachage** si $X$ est un ensemble de grande taille (généralement infini) et $Y$ est un ensemble fini (souvent un ensemble d'entiers).  \n",
    "L'intérêt d'une fonction de hachage est de transformer un élément \"complexe\" $x \\in X$ (par exemple, une image, un film...) en une empreinte $h(x)$ qui soit plus simple à manipuler et qui utilise moins d'espace mémoire.\n",
    "\n",
    "Quelques propriétés souhaitables sur une fonction de hachage :  \n",
    "- Facilement calculable : pouvoir calculer $h(x)$ en O(1), par exemple.  \n",
    "- Difficile à inverser : étant donné un $y$, il doit être impossible en pratique (c'est-à-dire prendre un temps extrêment long - typiquement une complexité exponentielle) de trouver un $x$ tel que $h(x) = y$.  \n",
    "- Résistance aux collisions : il doit être impossible en pratique de trouver $x, x' \\in X$ tels que $h(x) = h(x')$.\n",
    "\n",
    "Voici quelques applications possibles des fonctions de hachage :  \n",
    "- Table de hachage : c'est une implémentation possible de dictionnaire (voir cours).  \n",
    "- Stockage de mot de passe : au lieu de mémoriser un mot de passe en clair sur un ordinateur ou une base de donnée (qui peut être compromis), on conserve son emprunte par une fonction de hachage.  \n",
    "- Signature numérique : ajout d'une emprunte à un email permettant de garantir l'identité de son expéditeur.  \n",
    "- Checksum : vérifier qu'un fichier a été téléchargé sans erreur, en comparant son hash au hash original."
   ]
  },
  {
   "cell_type": "markdown",
   "metadata": {},
   "source": [
    "## Checksum\n",
    "\n",
    "Une des applications des fonctions de hachage consiste à vérifier l'intégrité d'un fichier après l'avoir téléchargé (pour détecter d'éventuelles erreurs de transmission). Pour cela, on calcule une empreinte (checksum) du fichier téléchargé que l'on compare avec l'empreinte du fichier original.\n",
    "\n",
    "<center><img src=https://raw.githubusercontent.com/cpge-itc/itc2/main/files/2_dict/tp/docker_sha.png width=90%><br>\n",
    "Exemple d'utilisation d'un checksum (SHA256) lors du téléchargement d'une image Docker</center>"
   ]
  },
  {
   "cell_type": "markdown",
   "metadata": {},
   "source": [
    "Dans la suite, nous implémentons un algorithme de checksum très simple (mot de parité) sur une chaîne de caractères.\n",
    "\n",
    "Dans la suite, on utilisera `ord(c)` qui renvoie le code Unicode d'un caractère `c`."
   ]
  },
  {
   "cell_type": "markdown",
   "metadata": {},
   "source": [
    "````{admonition} Question\n",
    "  Quel est le code Unicode de `a` ? de `Z` ?\n",
    "````"
   ]
  },
  {
   "cell_type": "markdown",
   "metadata": {},
   "source": [
    "````{admonition} Question\n",
    " Écrire une fonction `code(s)` renvoyant une liste `L` telle que `L[i]` soit le code Unicode de `s[i]`.\n",
    "````"
   ]
  },
  {
   "cell_type": "code",
   "execution_count": 47,
   "metadata": {},
   "outputs": [],
   "source": [
    "def code(s):\n",
    "    L = []\n",
    "    for c in s:\n",
    "        L.append(ord(c))\n",
    "    return L"
   ]
  },
  {
   "cell_type": "code",
   "execution_count": 51,
   "metadata": {},
   "outputs": [
    {
     "data": {
      "text/plain": [
       "[109, 97, 114, 116, 105, 110]"
      ]
     },
     "execution_count": 51,
     "metadata": {},
     "output_type": "execute_result"
    }
   ],
   "source": [
    "code(\"lamartin\")"
   ]
  },
  {
   "cell_type": "markdown",
   "metadata": {},
   "source": [
    "Si $a$ est un entier, on note $a_i$ le $i$ème bit de $a$ en base $2$. Le XOR de deux entiers $x$ et $y$ est un entier $z$ tel que $z_i = 1$ si et seulement si $x_i = 1$ ou $y_i = 1$, mais pas les deux. Par exemple, le XOR de $9 = 1001_2$ et $5 = 0101_2$ est $12 = 1100_2$.  \n",
    "En Python, le XOR est obtenu par `x^y`."
   ]
  },
  {
   "cell_type": "markdown",
   "metadata": {},
   "source": [
    "````{admonition} Question\n",
    " Sans ordinateur, convertir $11$ et $6$ en base $2$ puis calculer leur XOR. Vérifier ensuite avec Python.\n",
    "````"
   ]
  },
  {
   "cell_type": "code",
   "execution_count": 46,
   "metadata": {},
   "outputs": [
    {
     "data": {
      "text/plain": [
       "13"
      ]
     },
     "execution_count": 46,
     "metadata": {},
     "output_type": "execute_result"
    }
   ],
   "source": [
    "11^6"
   ]
  },
  {
   "cell_type": "markdown",
   "metadata": {},
   "source": [
    "````{admonition} Question\n",
    " Écrire une fonction `checksum(s)` renvoyant le XOR des codes des caractères de `s`. Il faut donc renvoyer `ord(s[0])^ord(s[1])^...^ord(s[len(s) - 1])`.\n",
    "````"
   ]
  },
  {
   "cell_type": "code",
   "execution_count": 2,
   "metadata": {},
   "outputs": [],
   "source": [
    "def checksum(s):\n",
    "    from functools import reduce\n",
    "    return reduce(lambda x, y: x^y, map(ord, s))"
   ]
  },
  {
   "cell_type": "code",
   "execution_count": 3,
   "metadata": {},
   "outputs": [
    {
     "data": {
      "text/plain": [
       "13"
      ]
     },
     "execution_count": 3,
     "metadata": {},
     "output_type": "execute_result"
    }
   ],
   "source": [
    "checksum(\"martin\")"
   ]
  },
  {
   "cell_type": "markdown",
   "metadata": {},
   "source": [
    "## Recherche de collisions\n",
    "\n",
    "Une des propriétés désirable sur une fonction de hachage est d'être résistante aux collisions : il doit être très difficile en pratique de trouver $x, x' \\in X$ tels que $h(x) = h(x')$. Sinon, il serait possible pour un attaquant d'envoyer un message en lui attribuant une signature d'une autre personne, par exemple.  \n",
    "MD5 est une fonction de hachage célèbre qui n'est plus considérée comme sûre : des collisions MD5 ont notamment été utilisées [par un malware qui a touché l'Iran](https://en.wikipedia.org/wiki/Flame_(malware)).  \n",
    "Dans la suite, nous cherchons des collisions partielles pour MD5.\n",
    "\n",
    "Voici un exemple d'utilisation de MD5 :"
   ]
  },
  {
   "cell_type": "code",
   "execution_count": 39,
   "metadata": {},
   "outputs": [
    {
     "data": {
      "text/plain": [
       "'5ebc974e52539b92106e584ea2a32365'"
      ]
     },
     "execution_count": 39,
     "metadata": {},
     "output_type": "execute_result"
    }
   ],
   "source": [
    "import hashlib\n",
    "\n",
    "def md5(s):\n",
    "    return hashlib.md5(s.encode(\"utf-8\")).hexdigest()\n",
    "\n",
    "md5(\"lamartin\")"
   ]
  },
  {
   "cell_type": "markdown",
   "metadata": {},
   "source": [
    "La valeur renvoyée par `md5` est iciune chaîne de caractères qui doit être interprétée en base 16 (hexadécimal) : par exemple, $a$ correspond à $12$, $b$ à $13$...\n",
    "\n",
    "MD5 est une **fonction de hachage cryptographique**, ce qui signifie que le nombre de bits d'une emprunte est une constante, indépendant de l'entrée (la taille de $h(x)$ est constante, indépendante de $x$)."
   ]
  },
  {
   "cell_type": "markdown",
   "metadata": {},
   "source": [
    "````{admonition} Question\n",
    " Combien y a t-il de bits dans un caractère en hexadécimal ?\n",
    "````"
   ]
  },
  {
   "cell_type": "markdown",
   "metadata": {},
   "source": [
    "````{admonition} Question\n",
    " Combien de bits sont utilisées pour une emprunte MD5 ? \n",
    "````"
   ]
  },
  {
   "cell_type": "markdown",
   "metadata": {},
   "source": [
    "Pour trouver une collision, on pourra générer des chaînes de caractères aléatoires `s` en stockant dans un dictionnaire la clé `md5(s)` avec la valeur `s`. Si l'emprunte existe déjà dans le dictionnaire, c'est qu'on a trouvé une collision.\n",
    "\n",
    "On utilisera la fonction suivante génère une chaîne de caractères aléatoire de longueur `n`."
   ]
  },
  {
   "cell_type": "code",
   "execution_count": 41,
   "metadata": {},
   "outputs": [
    {
     "data": {
      "text/plain": [
       "'rvlgypnype'"
      ]
     },
     "execution_count": 41,
     "metadata": {},
     "output_type": "execute_result"
    }
   ],
   "source": [
    "def rdm_str(n):\n",
    "    import string\n",
    "    import random\n",
    "    return ''.join(random.choice(string.ascii_lowercase) for i in range(n))\n",
    "\n",
    "rdm_str(10) # exemple"
   ]
  },
  {
   "cell_type": "markdown",
   "metadata": {},
   "source": [
    "````{admonition} Question\n",
    " Écrire une fonction `find_collision(n, p, k)` qui cherche une collision en générant `n` chaînes de caractères aléatoires de tailles `p`. Pour que la recherche ne prenne pas trop de temps, seul les `k` premiers caractères de `md5(s)` seront considérés (avec `md5(s)[:k]`). On pourra prendre `k = 8`, `n = 100000`, `p = 10`.\n",
    "````"
   ]
  },
  {
   "cell_type": "code",
   "execution_count": 51,
   "metadata": {},
   "outputs": [
    {
     "name": "stdout",
     "output_type": "stream",
     "text": [
      "bbbqntyips vcweqrbdij\n",
      "yxfmcuuzgl qqjuymazwl\n",
      "mlbdmtomlv fyrknjbpot\n",
      "ymdmugzivo gnunzfretn\n",
      "souymbtkil mkzwgcozqq\n",
      "kmkuvgjzem kplpiqqzcw\n",
      "tlautrbxmn lgaztheqlo\n",
      "gdgxqujelu awfynfkdvz\n",
      "ohfswlqkvl qojzvoapvz\n"
     ]
    }
   ],
   "source": [
    "def find_collision(n, p, k):\n",
    "    seen = {}\n",
    "    for n in range(n):\n",
    "        s = rdm_str(p)\n",
    "        h = md5(s)[:k]\n",
    "        if h in seen and s != seen[h]:\n",
    "            print(f\"{seen[h]} {s}\")\n",
    "        seen[h] = s\n",
    "\n",
    "find_collision(1000000, 10, 9)"
   ]
  }
 ],
 "metadata": {
  "kernelspec": {
   "display_name": "Python 3.9.2 64-bit",
   "language": "python",
   "name": "python3"
  },
  "language_info": {
   "codemirror_mode": {
    "name": "ipython",
    "version": 3
   },
   "file_extension": ".py",
   "mimetype": "text/x-python",
   "name": "python",
   "nbconvert_exporter": "python",
   "pygments_lexer": "ipython3",
   "version": "3.9.2"
  },
  "vscode": {
   "interpreter": {
    "hash": "31f2aee4e71d21fbe5cf8b01ff0e069b9275f58929596ceb00d14d90e3e16cd6"
   }
  }
 },
 "nbformat": 4,
 "nbformat_minor": 2
}
