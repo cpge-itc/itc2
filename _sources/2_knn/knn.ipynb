{
 "cells": [
  {
   "cell_type": "markdown",
   "metadata": {},
   "source": [
    "# $k$ plus proches voisins\n",
    "\n",
    "<iframe\n",
    "    src=\"https://mozilla.github.io/pdf.js/web/viewer.html?file=https://raw.githubusercontent.com/mp2i-fsm/mp2i-2021/main/10_sql/2_join/sql_join.pdf#zoom=page-fit&pagemode=none\"\n",
    "    height=500 width=100% allowfullscreen></iframe>"
   ]
  },
  {
   "cell_type": "code",
   "execution_count": 1,
   "metadata": {
    "tags": [
     "thebe-init",
     "remove-input"
    ]
   },
   "outputs": [
    {
     "name": "stdout",
     "output_type": "stream",
     "text": [
      "Defaulting to user installation because normal site-packages is not writeable\n",
      "Requirement already satisfied: networkx in /home/code/.local/lib/python3.10/site-packages (2.8.4)\n"
     ]
    }
   ],
   "source": [
    "! pip install networkx"
   ]
  },
  {
   "cell_type": "markdown",
   "metadata": {},
   "source": [
    "```{margin}\n",
    "Calcul de distance euclidienne\n",
    "```"
   ]
  },
  {
   "cell_type": "code",
   "execution_count": 2,
   "metadata": {},
   "outputs": [],
   "source": [
    "def dist(u, v):\n",
    "    return (u[0] - v[0])**2 + (u[1] - v[1])**2"
   ]
  },
  {
   "cell_type": "code",
   "execution_count": 3,
   "metadata": {},
   "outputs": [],
   "source": [
    "def plus_frequent(L):\n",
    "    frequences = {}\n",
    "    maxi = None\n",
    "    for e in L:\n",
    "        if e not in frequences:\n",
    "            frequences[e] = 0\n",
    "        frequences[e] += 1\n",
    "        if not maxi or frequences[e] > frequences[maxi]:\n",
    "            maxi = e\n",
    "    return maxi"
   ]
  },
  {
   "cell_type": "code",
   "execution_count": 4,
   "metadata": {},
   "outputs": [],
   "source": [
    "import heapq\n",
    "\n",
    "def knn(k, X_train, Y_train, x):\n",
    "    distances = []\n",
    "    for i in range(len(X_train)):\n",
    "        distances.append((dist(x, X_train[i]), Y_train[i]))\n",
    "    \n",
    "    k_distances = heapq.nsmallest(k, distances)\n",
    "    \n",
    "    voisins = []\n",
    "    for d, y_train in k_distances:\n",
    "        voisins.append(y_train)\n",
    "    \n",
    "    return plus_frequent(voisins)"
   ]
  },
  {
   "cell_type": "code",
   "execution_count": 5,
   "metadata": {},
   "outputs": [],
   "source": [
    "import random\n",
    "\n",
    "X_train = [(random.random(), random.random()) for _ in range(15)]\n",
    "Y_train = [0]*5 + [1]*5 + [2]*5"
   ]
  },
  {
   "cell_type": "code",
   "execution_count": 6,
   "metadata": {},
   "outputs": [
    {
     "data": {
      "image/png": "[encoded data removed]",
      "text/plain": [
       "<Figure size 720x720 with 1 Axes>"
      ]
     },
     "metadata": {
      "needs_background": "light"
     },
     "output_type": "display_data"
    }
   ],
   "source": [
    "import matplotlib.pyplot as plt\n",
    "from matplotlib.colors import ListedColormap\n",
    "\n",
    "colors = ['r', 'g', 'b']\n",
    "coords = list(zip(*X_train))\n",
    "plt.figure(figsize=(10, 10))\n",
    "for i in range(len(X_train)):\n",
    "    plt.scatter(X_train[i][0], X_train[i][1], color=colors[Y_train[i]], s=300);\n",
    "\n",
    "x = (.4, .9)\n",
    "y = knn(9, X_train, Y_train, x)\n",
    "plt.scatter(x[0], x[1], color=colors[y], s=1000);"
   ]
  }
 ],
 "metadata": {
  "celltoolbar": "Tags",
  "kernelspec": {
   "display_name": "Python 3 (ipykernel)",
   "language": "python",
   "name": "python3"
  },
  "language_info": {
   "codemirror_mode": {
    "name": "ipython",
    "version": 3
   },
   "file_extension": ".py",
   "mimetype": "text/x-python",
   "name": "python",
   "nbconvert_exporter": "python",
   "pygments_lexer": "ipython3",
   "version": "3.10.5"
  },
  "vscode": {
   "interpreter": {
    "hash": "949777d72b0d2535278d3dc13498b2535136f6dfe0678499012e853ee9abcab1"
   }
  }
 },
 "nbformat": 4,
 "nbformat_minor": 4
}
