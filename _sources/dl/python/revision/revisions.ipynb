{
 "cells": [
  {
   "cell_type": "markdown",
   "metadata": {},
   "source": [
    "# TP : Révisions de 1ère année\n",
    "\n",
    "Pour programmer, vous pouvez soit utiliser Pyzo, soit [Basthon](https://notebook.basthon.fr) en cliquant sur la \"fusée\" en haut à droite de chaque TP.\n",
    "\n",
    "Commandes Basthon :\n",
    "\n",
    "- Ctrl + Entrée : exécuter la cellule\n",
    "- Shift + Entrée : exécuter la cellule puis passer à la suivante\n",
    "- Entrée : passer en mode édition\n",
    "- Échap : sortir du mode édition\n",
    "\n",
    "Les commandes suivantes sont valables uniquement hors du mode édition :\n",
    "\n",
    "- A : créer une nouvelle cellule (en haut)\n",
    "- B : créer une nouvelle cellule (en bas)\n",
    "- D D : supprimer la cellule"
   ]
  },
  {
   "cell_type": "markdown",
   "metadata": {},
   "source": [
    "## Bases de Python"
   ]
  },
  {
   "cell_type": "markdown",
   "metadata": {},
   "source": [
    "````{admonition} Exercice\n",
    " Calculer $u_{10}$, où $u_n$ est définie par $u_0 = 42$ et $u_{n+1} = \\sqrt{u_n} + 3u_n$.  \n",
    "Il faut trouver 2787204.895558157.\n",
    "````"
   ]
  },
  {
   "cell_type": "markdown",
   "execution_count": 1,
   "metadata": {
    "tags": [
     "cor"
    ]
   },
   "source": [
    "````{admonition} Solution\n",
    ":class: tip, dropdown\n",
    "``` python\n",
    "u = 42\n",
    "for i in range(10):\n",
    "    u = u**0.5 + 3*u\n",
    "u\n",
    "```\n",
    "``` \n",
    "2787204.895558157\n",
    "\n",
    "```\n",
    "````"
   ]
  },
  {
   "cell_type": "markdown",
   "metadata": {},
   "source": [
    "````{admonition} Exercice\n",
    " Écrire une fonction `appartient` telle que `appartient(x, L)` renvoie `True` si `x` appartient à la liste `L`, `False` sinon.\n",
    "````"
   ]
  },
  {
   "cell_type": "markdown",
   "execution_count": 2,
   "metadata": {
    "tags": [
     "cor"
    ]
   },
   "source": [
    "````{admonition} Solution\n",
    ":class: tip, dropdown\n",
    "``` python\n",
    "def appartient(x, L):\n",
    "    for e in L:\n",
    "        if e == x:\n",
    "            return True\n",
    "    return False\n",
    "```\n",
    "````"
   ]
  },
  {
   "cell_type": "code",
   "execution_count": 3,
   "metadata": {},
   "outputs": [
    {
     "name": "stdout",
     "output_type": "stream",
     "text": [
      "True\n",
      "False\n"
     ]
    }
   ],
   "source": [
    "print(appartient(3, [1, 5, 3, 4, 1]))\n",
    "print(appartient(3, [1, 5, 4, 2]))"
   ]
  },
  {
   "cell_type": "markdown",
   "metadata": {},
   "source": [
    "````{admonition} Exercice\n",
    " Écrire une fonction pour déterminer si une liste est triée par ordre croissant.\n",
    "````"
   ]
  },
  {
   "cell_type": "markdown",
   "execution_count": 4,
   "metadata": {
    "tags": [
     "cor"
    ]
   },
   "source": [
    "````{admonition} Solution\n",
    ":class: tip, dropdown\n",
    "``` python\n",
    "def croissant(L):\n",
    "    for i in range(len(L)-1):\n",
    "        if L[i] > L[i+1]:\n",
    "            return False\n",
    "    return True\n",
    "```\n",
    "````"
   ]
  },
  {
   "cell_type": "code",
   "execution_count": 5,
   "metadata": {},
   "outputs": [
    {
     "name": "stdout",
     "output_type": "stream",
     "text": [
      "True\n",
      "False\n"
     ]
    }
   ],
   "source": [
    "print(croissant([1, 2, 3, 4, 5]))\n",
    "print(croissant([1, 2, 3, 5, 4]))"
   ]
  },
  {
   "cell_type": "markdown",
   "metadata": {},
   "source": [
    "## Dichotomie\n",
    "\n",
    "La méthode par dichotomie consiste à divise à chaque étape la taille du problème par 2.  \n",
    "L'exemple le plus classique est la recherche par dichotomie dans une liste **triée** : on souhaite savoir si un élément $e$ appartient à une liste **triée** `L`.  "
   ]
  },
  {
   "cell_type": "markdown",
   "metadata": {},
   "source": [
    "Considérons par exemple `L` = $[-2, 1, 2, 4, 6, 7, 8, 9, 11, 12, 14, 15, 18, 22, 54]$ et $e$ = $14$.  \n",
    "\n",
    "Au lieu de commencer par regarder le 1er élément de `L`, on va regarder l'élément du milieu (ici $9$):\n",
    "\n",
    "$$\n",
    "    [-2, 1, 2, 4, 6, 7, 8, \\underline{\\mathbf{9}}, 11, 12, 14, 15, 18, 22, 54]\n",
    "$$\n",
    "\n",
    "Comme $9 < 14$ et que la liste est triée par ordre croissant, on en déduit que $e$, s'il est dans `L`, est forcément dans la partie droite :\n",
    "\n",
    "$$\n",
    "    [-2, 1, 2, 4, 6, 7, 8, {9}, \\boxed{11, 12, 14, {15}, 18, 22, 54}]\n",
    "$$\n",
    "\n",
    "On se restreint donc par la suite à la partie de `L` qui est encadrée. On compare $e$ au milieu de cette partie, c'est-à-dire $15$ :\n",
    "\n",
    "$$\n",
    "    [-2, 1, 2, 4, 6, 7, 8, {9}, \\boxed{11, 12, 14, \\underline{\\textbf{15}}, 18, 22, 54}]\n",
    "$$\n",
    "\n",
    "Comme $e < 15$, on peut cette fois se restreinte à la partie gauche. On cherche donc maintenant $e$ dans la zone suivante :\n",
    "\n",
    "$$\n",
    "    [-2, 1, 2, 4, 6, 7, 8, {9}, \\boxed{11, {12}, 14}, {15}, 18, 22, 54]\n",
    "$$\n",
    "\n",
    "On compare encore une fois $e$ au milieu :\n",
    "\n",
    "$$\n",
    "    [-2, 1, 2, 4, 6, 7, 8, {9}, \\boxed{11, \\underline{\\textbf{12}}, 14}, {15}, 18, 22, 54]\n",
    "$$\n",
    "\n",
    "Comme $e > 12$, on regarde à droite :\n",
    "\n",
    "$$\n",
    "    [-2, 1, 2, 4, 6, 7, 8, {9}, 11, {12}, \\boxed{\\underline{\\textbf{14}}}, {15}, 18, 22, 54]\n",
    "$$\n",
    "\n",
    "On a trouvé $e$ !"
   ]
  },
  {
   "cell_type": "markdown",
   "metadata": {},
   "source": [
    "````{admonition} Exercice\n",
    " Compléter le code suivant permettant de rechercher un élément dans une liste triée, par dichotomie.\n",
    "```python\n",
    "def dichotomie(e, L):\n",
    "    i, j = 0, len(L) - 1  # i et j sont les indices de L entre lesquels on cherche e\n",
    "    while ...: # tant qu'il reste au moins 1 élément entre les indices i et j\n",
    "        m = ... # milieu de i et j\n",
    "        if e < L[m]:\n",
    "            ... # regarder dans la partie gauche\n",
    "        elif e > L[m]:\n",
    "            ... # regarder dans la partie droite\n",
    "        else:\n",
    "            ... # on a trouvé e\n",
    "    ... # e n'a pas été trouvé\n",
    "```\n",
    "Puis tester votre fonction avec le jeu de tests suivant (`assert` déclenche une erreur si son argument est `False`) :  \n",
    "```python\n",
    "L1, L2, L3 = [0, 2], [0, 2, 5], [-2, 1, 2, 4, 6, 7, 8, 9, 11, 12, 14, 15, 18, 22, 54]\n",
    "assert (dichotomie(0, L1) and not dichotomie(1, L1))\n",
    "assert (dichotomie(5, L2) and not dichotomie(7, L2))\n",
    "assert (dichotomie(14, L3) and not dichotomie(-4, L3))\n",
    "```\n",
    "````"
   ]
  },
  {
   "cell_type": "markdown",
   "execution_count": 6,
   "metadata": {
    "tags": [
     "cor"
    ]
   },
   "source": [
    "````{admonition} Solution\n",
    ":class: tip, dropdown\n",
    "``` python\n",
    "def dichotomie(e, L):\n",
    "    i, j = 0, len(L) - 1\n",
    "    while i <= j:\n",
    "        m = (i+j)//2\n",
    "        if L[m] == e:\n",
    "            return True\n",
    "        elif L[m] < e:\n",
    "            i = m + 1\n",
    "        else:\n",
    "            j = m - 1\n",
    "    return False\n",
    "\n",
    "L1, L2, L3 = [0, 2], [0, 2, 5], [-2, 1, 2, 4, 6, 7, 8, 9, 11, 12, 14, 15, 18, 22, 54]\n",
    "assert (dichotomie(0, L1) and not dichotomie(1, L1))\n",
    "assert (dichotomie(5, L2) and not dichotomie(7, L2))\n",
    "assert (dichotomie(14, L3) and not dichotomie(-4, L3))\n",
    "```\n",
    "````"
   ]
  },
  {
   "cell_type": "markdown",
   "metadata": {},
   "source": [
    "## Matrices"
   ]
  },
  {
   "cell_type": "markdown",
   "metadata": {},
   "source": [
    "````{admonition} Exercice\n",
    " Définir une fonction `make_matrix` telle que `make_matrix(n, p)` renvoie une matrice $n\\times p$ remplie de $0$, sous forme de liste de listes.\n",
    "````"
   ]
  },
  {
   "cell_type": "markdown",
   "execution_count": 3,
   "metadata": {
    "tags": [
     "cor"
    ]
   },
   "source": [
    "````{admonition} Solution\n",
    ":class: tip, dropdown\n",
    "``` python\n",
    "# on propose plusieurs possibilités\n",
    "\n",
    "def make_matrix(n, p):\n",
    "    return [[0]*p for _ in range(n)]\n",
    "\n",
    "def make_matrix2(n, p):\n",
    "    M = []\n",
    "    for i in range(n):\n",
    "        M.append([0]*p)\n",
    "    return M\n",
    "\n",
    "def make_matrix3(n, p):\n",
    "    M = []\n",
    "    for i in range(n):\n",
    "        L = []\n",
    "        for j in range(p):\n",
    "            L.append(0)\n",
    "        M.append(L)\n",
    "    return M\n",
    "```\n",
    "````"
   ]
  },
  {
   "cell_type": "code",
   "execution_count": 4,
   "metadata": {},
   "outputs": [
    {
     "data": {
      "text/plain": [
       "[[0, 0, 0, 0], [0, 0, 0, 0], [0, 0, 0, 0]]"
      ]
     },
     "execution_count": 4,
     "metadata": {},
     "output_type": "execute_result"
    }
   ],
   "source": [
    "make_matrix(3, 4)"
   ]
  },
  {
   "cell_type": "markdown",
   "metadata": {},
   "source": [
    "````{admonition} Question\n",
    " Écrire une fonction `transposee(M)` qui renvoie la transposée de la matrice `M`.\n",
    "````"
   ]
  },
  {
   "cell_type": "markdown",
   "execution_count": 7,
   "metadata": {
    "tags": [
     "cor"
    ]
   },
   "source": [
    "````{admonition} Solution\n",
    ":class: tip, dropdown\n",
    "``` python\n",
    "def transposee(M):\n",
    "    n = len(M)\n",
    "    p = len(M[0])\n",
    "    Mt = make_matrix(p, n)\n",
    "    for i in range(n):\n",
    "        for j in range(p):\n",
    "            Mt[j][i] = M[i][j]\n",
    "    return Mt\n",
    "```\n",
    "````"
   ]
  },
  {
   "cell_type": "code",
   "execution_count": 8,
   "metadata": {},
   "outputs": [
    {
     "data": {
      "text/plain": [
       "[[1, 4, 7], [2, 5, 8], [3, 6, 9]]"
      ]
     },
     "execution_count": 8,
     "metadata": {},
     "output_type": "execute_result"
    }
   ],
   "source": [
    "transposee([[1, 2, 3], [4, 5, 6], [7, 8, 9]])"
   ]
  },
  {
   "cell_type": "markdown",
   "metadata": {},
   "source": [
    "````{admonition} Question\n",
    " Écrire une fonction `symetrique(M)` qui renvoie `True` si la matrice `M` est symétrique, `False` sinon.\n",
    "````"
   ]
  },
  {
   "cell_type": "markdown",
   "execution_count": 9,
   "metadata": {
    "tags": [
     "cor"
    ]
   },
   "source": [
    "````{admonition} Solution\n",
    ":class: tip, dropdown\n",
    "``` python\n",
    "def symetrique(M):\n",
    "    for i in range(len(M)):\n",
    "        for j in range(i):\n",
    "            if M[i][j] != M[j][i]:\n",
    "                return False\n",
    "    return True\n",
    "```\n",
    "````"
   ]
  },
  {
   "cell_type": "code",
   "execution_count": 10,
   "metadata": {},
   "outputs": [
    {
     "name": "stdout",
     "output_type": "stream",
     "text": [
      "True\n",
      "False\n"
     ]
    }
   ],
   "source": [
    "print(symetrique([[1, 2, 3], [2, 4, 5], [3, 5, 6]])) # True\n",
    "print(symetrique([[1, 2, 3], [2, 4, 7], [3, 5, 6]])) # False"
   ]
  },
  {
   "cell_type": "markdown",
   "metadata": {},
   "source": [
    "## Graphes\n",
    "\n",
    "[Si besoin, vous pouvez revoir ce cours (Graphes : Représentations)](https://cpge-itc.github.io/itc1/5_graph/2_representation/2_representation).\n",
    "\n",
    "### Représentation par matrice d'adjacence"
   ]
  },
  {
   "cell_type": "markdown",
   "metadata": {},
   "source": [
    "````{admonition} Exercice\n",
    " Définir dans une variable `G` la matrice d'adjacence du graphe suivant (on pourra éventuellement utiliser les fonctions précédentes) :\n",
    "<center><img src=https://github.com/cpge-itc/itc1/raw/4be1ee8d9679ffae521c506ad54acb9e6099c614/files/5_graph/tp/tp2/g.png width=200></center>\n",
    "````"
   ]
  },
  {
   "cell_type": "markdown",
   "execution_count": 13,
   "metadata": {
    "tags": [
     "cor"
    ]
   },
   "source": [
    "````{admonition} Solution\n",
    ":class: tip, dropdown\n",
    "``` python\n",
    "G = make_matrix(7, 7)\n",
    "# façon rapide de remplir la matrice\n",
    "for i, j in [(0, 6), (1, 2), (1, 3), (1, 4), (2, 4), (2, 5), (3, 4), (4, 5)]:\n",
    "    G[i][j] = G[j][i] = 1\n",
    "G\n",
    "```\n",
    "``` \n",
    "[[0, 0, 0, 0, 0, 0, 1],\n",
    " [0, 0, 1, 1, 1, 0, 0],\n",
    " [0, 1, 0, 0, 1, 1, 0],\n",
    " [0, 1, 0, 0, 1, 0, 0],\n",
    " [0, 1, 1, 1, 0, 1, 0],\n",
    " [0, 0, 1, 0, 1, 0, 0],\n",
    " [1, 0, 0, 0, 0, 0, 0]]\n",
    "\n",
    "```\n",
    "````"
   ]
  },
  {
   "cell_type": "markdown",
   "metadata": {},
   "source": [
    "````{admonition} Exercice\n",
    " Définir une fonction `voisins` telle que `voisins(G, v)` renvoie la liste des voisins du sommet `v`.  \n",
    "Vérifier que les voisins du sommet $2$ dans le graphe ci-dessus sont les sommets $1$, $4$, $5$.\n",
    "````"
   ]
  },
  {
   "cell_type": "markdown",
   "execution_count": 9,
   "metadata": {
    "tags": [
     "cor"
    ]
   },
   "source": [
    "````{admonition} Solution\n",
    ":class: tip, dropdown\n",
    "``` python\n",
    "def voisins(G, v):\n",
    "    L = []\n",
    "    for i in range(len(G)):\n",
    "        if G[v][i] == 1:\n",
    "            L.append(i)\n",
    "    return L\n",
    "```\n",
    "````"
   ]
  },
  {
   "cell_type": "code",
   "execution_count": 10,
   "metadata": {},
   "outputs": [
    {
     "data": {
      "text/plain": [
       "[1, 4, 5]"
      ]
     },
     "execution_count": 10,
     "metadata": {},
     "output_type": "execute_result"
    }
   ],
   "source": [
    "voisins(G, 2)"
   ]
  },
  {
   "cell_type": "markdown",
   "metadata": {},
   "source": [
    "````{admonition} Exercice\n",
    " En déduire une fonction `deg` telle que `deg(G, v)` renvoie le degré du sommet `v`.\n",
    "````"
   ]
  },
  {
   "cell_type": "markdown",
   "execution_count": 11,
   "metadata": {
    "tags": [
     "cor"
    ]
   },
   "source": [
    "````{admonition} Solution\n",
    ":class: tip, dropdown\n",
    "``` python\n",
    "def deg(G, v):\n",
    "    return len(voisins(G, v))\n",
    "```\n",
    "````"
   ]
  },
  {
   "cell_type": "code",
   "execution_count": 12,
   "metadata": {},
   "outputs": [
    {
     "data": {
      "text/plain": [
       "3"
      ]
     },
     "execution_count": 12,
     "metadata": {},
     "output_type": "execute_result"
    }
   ],
   "source": [
    "deg(G, 2)"
   ]
  },
  {
   "cell_type": "markdown",
   "metadata": {},
   "source": [
    "````{admonition} Exercice\n",
    " Écrire une fonction `n_aretes` pour calculer le nombre d'arêtes d'un graphe donné par matrice d'adjacence. Tester avec le graphe `G` précédent. On pourra soit réutiliser `deg`, soit deux boucles `for` pour parcourir les éléments de la matrice.\n",
    "````"
   ]
  },
  {
   "cell_type": "markdown",
   "execution_count": 13,
   "metadata": {
    "tags": [
     "cor"
    ]
   },
   "source": [
    "````{admonition} Solution\n",
    ":class: tip, dropdown\n",
    "``` python\n",
    "def n_aretes(G):\n",
    "    s = 0\n",
    "    for i in range(len(G)):\n",
    "        s += deg(G, i)\n",
    "    return s//2\n",
    "```\n",
    "````"
   ]
  },
  {
   "cell_type": "code",
   "execution_count": 14,
   "metadata": {},
   "outputs": [
    {
     "data": {
      "text/plain": [
       "8"
      ]
     },
     "execution_count": 14,
     "metadata": {},
     "output_type": "execute_result"
    }
   ],
   "source": [
    "n_aretes(G)"
   ]
  },
  {
   "cell_type": "markdown",
   "metadata": {},
   "source": [
    "### Représentation par liste d'adjacence"
   ]
  },
  {
   "cell_type": "markdown",
   "metadata": {},
   "source": [
    "````{admonition} Exercice\n",
    " Écrire une fonction `mat_to_list` telle que `mat_to_list(G)` renvoie la liste d'adjacence du graphe `G` donné par matrice d'adjacence. Calculer la représentation par liste d'adjacence `G_list` du graphe `G` précédent.\n",
    "\n",
    "<center><img src=https://github.com/cpge-itc/itc1/raw/4be1ee8d9679ffae521c506ad54acb9e6099c614/files/5_graph/tp/tp2/g.png width=200></center>\n",
    "````"
   ]
  },
  {
   "cell_type": "markdown",
   "execution_count": 15,
   "metadata": {
    "tags": [
     "cor"
    ]
   },
   "source": [
    "````{admonition} Solution\n",
    ":class: tip, dropdown\n",
    "``` python\n",
    "def mat_to_list(G):\n",
    "    L = []\n",
    "    for i in range(len(G)):\n",
    "        L.append(voisins(G, i))\n",
    "    return L\n",
    "```\n",
    "````"
   ]
  },
  {
   "cell_type": "code",
   "execution_count": 16,
   "metadata": {},
   "outputs": [
    {
     "data": {
      "text/plain": [
       "[[6], [2, 3, 4], [1, 4, 5], [1, 4], [1, 2, 3, 5], [2, 4], [0]]"
      ]
     },
     "execution_count": 16,
     "metadata": {},
     "output_type": "execute_result"
    }
   ],
   "source": [
    "G_list = mat_to_list(G)\n",
    "G_list"
   ]
  },
  {
   "cell_type": "markdown",
   "metadata": {},
   "source": [
    "### Parcours en profondeur\n",
    "\n",
    "[Revoir ce cours si besoin](https://cpge-itc.github.io/itc1/5_graph/3_traversal/dfs/dfs)"
   ]
  },
  {
   "cell_type": "markdown",
   "metadata": {},
   "source": [
    "````{admonition} Exercice\n",
    " Écrire une fonction `dfs(G, s)` renvoyant la liste des sommets de `G` (défini par liste d'adjacence) suivant un parcours en profondeur depuis le sommet `s`. Vérifier sur le graphe `G_list` précédent.  \n",
    "On pourra compléter le code ci-dessous. Ne regarder le cours que si cela est vraiment nécessaire.\n",
    "````"
   ]
  },
  {
   "cell_type": "code",
   "execution_count": null,
   "metadata": {},
   "outputs": [],
   "source": [
    "def dfs(G, s):\n",
    "    # définir une liste de booléens pour savoir si un sommet a été visité\n",
    "    def aux(u): # fonction récursive\n",
    "        # si u n'a pas été visité :\n",
    "            # afficher u\n",
    "            # marquer u comme visité\n",
    "            # pour chaque voisin v de u\n",
    "                # appeler aux(v)\n",
    "    aux(s)"
   ]
  },
  {
   "cell_type": "markdown",
   "execution_count": 18,
   "metadata": {
    "tags": [
     "cor"
    ]
   },
   "source": [
    "````{admonition} Solution\n",
    ":class: tip, dropdown\n",
    "``` python\n",
    "def dfs(G, s):\n",
    "    visited = [False]*len(G)\n",
    "    def aux(u):\n",
    "        if not visited[u]:\n",
    "            print(u)\n",
    "            visited[u] = True\n",
    "            for v in G[u]:\n",
    "                aux(v)\n",
    "    aux(s)\n",
    "```\n",
    "````"
   ]
  },
  {
   "cell_type": "code",
   "execution_count": 19,
   "metadata": {},
   "outputs": [
    {
     "name": "stdout",
     "output_type": "stream",
     "text": [
      "0\n",
      "6\n"
     ]
    }
   ],
   "source": [
    "dfs(G_list, 0)"
   ]
  },
  {
   "cell_type": "code",
   "execution_count": 20,
   "metadata": {},
   "outputs": [
    {
     "name": "stdout",
     "output_type": "stream",
     "text": [
      "2\n",
      "1\n",
      "3\n",
      "4\n",
      "5\n"
     ]
    }
   ],
   "source": [
    "dfs(G_list, 2)"
   ]
  },
  {
   "cell_type": "markdown",
   "metadata": {},
   "source": [
    "````{admonition} Exercice\n",
    " En utilisant un parcours en profondeur, écrire une fonction `connexe(G)` qui renvoie `True` si le graphe `G` est connexe, `False` sinon.  \n",
    "Vérifier sur `G_list` (non connexe) et sur un graphe connexe de votre choix.\n",
    "````"
   ]
  },
  {
   "cell_type": "markdown",
   "execution_count": 21,
   "metadata": {
    "tags": [
     "cor"
    ]
   },
   "source": [
    "````{admonition} Solution\n",
    ":class: tip, dropdown\n",
    "``` python\n",
    "# deux solutions\n",
    "\n",
    "def connexe(G):\n",
    "    visited = [False]*len(G)\n",
    "    def aux(u):\n",
    "        if not visited[u]:\n",
    "            visited[u] = True\n",
    "            for v in G[u]:\n",
    "                aux(v)\n",
    "    aux(0)\n",
    "    return all(visited) # vérifie que tous les éléments de visited sont True\n",
    "\n",
    "def connexe(G):\n",
    "    visited = [False]*len(G)\n",
    "    def aux(u):\n",
    "        if not visited[u]:\n",
    "            visited[u] = True\n",
    "            for v in G[u]:\n",
    "                aux(v)\n",
    "    aux(0)\n",
    "    for v in range(len(G)):\n",
    "        if not visited[v]:\n",
    "            return False\n",
    "    return True\n",
    "```\n",
    "````"
   ]
  },
  {
   "cell_type": "code",
   "execution_count": 22,
   "metadata": {},
   "outputs": [
    {
     "data": {
      "text/plain": [
       "False"
      ]
     },
     "execution_count": 22,
     "metadata": {},
     "output_type": "execute_result"
    }
   ],
   "source": [
    "connexe(G_list)"
   ]
  },
  {
   "cell_type": "markdown",
   "metadata": {},
   "source": [
    "### Parcours en largeur\n",
    "\n",
    "[Revoir ce cours si besoin](https://cpge-itc.github.io/itc1/5_graph/3_traversal/bfs/bfs)"
   ]
  },
  {
   "cell_type": "markdown",
   "metadata": {},
   "source": [
    "On rappelle l'utilisation d'une file en Python, avec la classe `deque` :"
   ]
  },
  {
   "cell_type": "code",
   "execution_count": 23,
   "metadata": {},
   "outputs": [
    {
     "data": {
      "text/plain": [
       "7"
      ]
     },
     "execution_count": 23,
     "metadata": {},
     "output_type": "execute_result"
    }
   ],
   "source": [
    "from collections import deque\n",
    "\n",
    "q = deque() # file vide\n",
    "q.appendleft(4) # ajoute 4 au début\n",
    "q.appendleft(7)\n",
    "q.pop() # supprime et renvoie le dernier élément (4)\n",
    "q.appendleft(-5)\n",
    "q.pop() # supprime et renvoie le dernier élément (7)"
   ]
  },
  {
   "cell_type": "markdown",
   "metadata": {},
   "source": [
    "````{admonition} Exercice\n",
    " Écrire une fonction `bfs(G, s)` affichant les sommets du graphe `G` lors d'un parcours en largeur depuis le sommet `s`. Vérifier sur le graphe `G_list` précédent.  \n",
    "\n",
    "<center><img src=https://github.com/cpge-itc/itc1/raw/4be1ee8d9679ffae521c506ad54acb9e6099c614/files/5_graph/tp/tp2/g.png width=200></center>\n",
    "````"
   ]
  },
  {
   "cell_type": "code",
   "execution_count": null,
   "metadata": {},
   "outputs": [],
   "source": [
    "from collections import deque\n",
    "\n",
    "def bfs(G, s):\n",
    "    # définir une file q contenant s\n",
    "    # définir une liste visited contenant n False, où n est le nombre de sommets\n",
    "    # tant que q est non vide\n",
    "        # extraire le dernier élément de q dans une variable u\n",
    "        # si u n'a pas été visité:\n",
    "            # afficher u\n",
    "            # mettre True dans visited[u]\n",
    "            # pour chaque voisin v de u\n",
    "                # ajouter v au début de q "
   ]
  },
  {
   "cell_type": "markdown",
   "execution_count": 25,
   "metadata": {
    "tags": [
     "cor"
    ]
   },
   "source": [
    "````{admonition} Solution\n",
    ":class: tip, dropdown\n",
    "``` python\n",
    "from collections import deque\n",
    "\n",
    "def bfs(G, s):\n",
    "    q = deque()\n",
    "    q.appendleft(s)\n",
    "    visited = [False]*len(G)\n",
    "    while q:\n",
    "        u = q.pop()\n",
    "        if not visited[u]:\n",
    "            print(u)\n",
    "            visited[u] = True\n",
    "            for v in G[u]:\n",
    "                q.appendleft(v)\n",
    "```\n",
    "````"
   ]
  },
  {
   "cell_type": "code",
   "execution_count": 26,
   "metadata": {},
   "outputs": [
    {
     "name": "stdout",
     "output_type": "stream",
     "text": [
      "2\n",
      "1\n",
      "4\n",
      "5\n",
      "3\n"
     ]
    }
   ],
   "source": [
    "bfs(G_list, 2)"
   ]
  },
  {
   "cell_type": "markdown",
   "metadata": {},
   "source": [
    "````{admonition} Exercice\n",
    " Écrire une fonction `distances(G, s)` qui renvoie une liste `dist` telle que `dist[v]` soit la distance (en nombre d'arêtes) du sommet `s` au sommet `v`. Vérifier sur le graphe `G_list` précédent.  \n",
    "\n",
    "<center><img src=https://github.com/cpge-itc/itc1/raw/4be1ee8d9679ffae521c506ad54acb9e6099c614/files/5_graph/tp/tp2/g.png width=200></center>\n",
    "````"
   ]
  },
  {
   "cell_type": "markdown",
   "execution_count": 27,
   "metadata": {
    "tags": [
     "cor"
    ]
   },
   "source": [
    "````{admonition} Solution\n",
    ":class: tip, dropdown\n",
    "``` python\n",
    "def distances(G, s):\n",
    "    q = deque()\n",
    "    q.appendleft(s)\n",
    "    visited = [False]*len(G)\n",
    "    dist = [float(\"inf\")]*len(G)\n",
    "    dist[s] = 0\n",
    "    while q:\n",
    "        u = q.pop()\n",
    "        visited[u] = True\n",
    "        for v in G[u]:\n",
    "            if not visited[v]:\n",
    "                q.appendleft(v)\n",
    "                dist[v] = dist[u] + 1\n",
    "    return dist\n",
    "```\n",
    "````"
   ]
  },
  {
   "cell_type": "code",
   "execution_count": 28,
   "metadata": {},
   "outputs": [
    {
     "data": {
      "text/plain": [
       "[inf, 1, 0, 3, 2, 3, inf]"
      ]
     },
     "execution_count": 28,
     "metadata": {},
     "output_type": "execute_result"
    }
   ],
   "source": [
    "distances(G_list, 2)"
   ]
  }
 ],
 "metadata": {
  "kernelspec": {
   "display_name": "Python 3.10.4 ('itc-M7YM_fFd-py3.10')",
   "language": "python",
   "name": "python3"
  },
  "language_info": {
   "codemirror_mode": {
    "name": "ipython",
    "version": 3
   },
   "file_extension": ".py",
   "mimetype": "text/x-python",
   "name": "python",
   "nbconvert_exporter": "python",
   "pygments_lexer": "ipython3",
   "version": "3.9.2"
  },
  "vscode": {
   "interpreter": {
    "hash": "738094b875a04dcd3d0cc180b5278ebaa618b793820fb2e8c746c5a2a37e7311"
   }
  }
 },
 "nbformat": 4,
 "nbformat_minor": 2
}
