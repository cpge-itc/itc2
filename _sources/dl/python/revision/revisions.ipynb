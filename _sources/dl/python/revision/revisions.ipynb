{
 "cells": [
  {
   "cell_type": "markdown",
   "metadata": {},
   "source": [
    "# TP 1 : Révisions de 1ère année\n",
    "\n",
    "Pour programmer, vous pouvez soit utiliser Pyzo, soit [Basthon](https://notebook.basthon.fr) en cliquant sur la \"fusée\" en haut à droite de chaque TP.\n",
    "\n",
    "Commandes Basthon :\n",
    "\n",
    "- Ctrl + Entrée : exécuter la cellule\n",
    "- Shift + Entrée : exécuter la cellule puis passer à la suivante\n",
    "- Entrée : passer en mode édition\n",
    "- Échap : sortir du mode édition\n",
    "\n",
    "Les commandes suivantes sont valables uniquement hors du mode édition :\n",
    "\n",
    "- A : créer une nouvelle cellule (en haut)\n",
    "- B : créer une nouvelle cellule (en bas)\n",
    "- D D : supprimer la cellule"
   ]
  },
  {
   "cell_type": "markdown",
   "metadata": {},
   "source": [
    "## Bases de Python"
   ]
  },
  {
   "cell_type": "markdown",
   "metadata": {},
   "source": [
    "````{admonition} Exercice\n",
    " Calculer $u_{10}$, où $u_n$ est définie par $u_0 = 42$ et $u_{n+1} = \\sqrt{u_n} + 3u_n$.  \n",
    "Il faut trouver 2787204.895558157.\n",
    "````"
   ]
  },
  {
   "cell_type": "markdown",
   "metadata": {},
   "source": [
    "````{admonition} Exercice\n",
    " Écrire une fonction `appartient` telle que `appartient(x, L)` renvoie `True` si `x` appartient à la liste `L`, `False` sinon.\n",
    "````"
   ]
  },
  {
   "cell_type": "code",
   "execution_count": 7,
   "metadata": {},
   "outputs": [
    {
     "name": "stdout",
     "output_type": "stream",
     "text": [
      "True\n",
      "False\n"
     ]
    }
   ],
   "source": [
    "print(appartient(3, [1, 5, 3, 4, 1]))\n",
    "print(appartient(3, [1, 5, 4, 2]))"
   ]
  },
  {
   "cell_type": "markdown",
   "metadata": {},
   "source": [
    "````{admonition} Exercice\n",
    " Écrire une fonction pour déterminer si une liste est triée par ordre croissant.\n",
    "````"
   ]
  },
  {
   "cell_type": "code",
   "execution_count": 9,
   "metadata": {},
   "outputs": [
    {
     "name": "stdout",
     "output_type": "stream",
     "text": [
      "True\n",
      "False\n"
     ]
    }
   ],
   "source": [
    "print(croissant([1, 2, 3, 4, 5]))\n",
    "print(croissant([1, 2, 3, 5, 4]))"
   ]
  },
  {
   "cell_type": "markdown",
   "metadata": {},
   "source": [
    "## Dichotomie\n",
    "\n",
    "La méthode par dichotomie consiste à divise à chaque étape la taille du problème par 2.  \n",
    "L'exemple le plus classique est la recherche par dichotomie dans une liste **triée** : on souhaite savoir si un élément $e$ appartient à une liste **triée** `L`.  "
   ]
  },
  {
   "cell_type": "markdown",
   "metadata": {},
   "source": [
    "Considérons par exemple `L` = $[-2, 1, 2, 4, 6, 7, 8, 9, 11, 12, 14, 15, 18, 22, 54]$ et $e$ = $14$.  \n",
    "\n",
    "Au lieu de commencer par regarder le 1er élément de `L`, on va regarder l'élément du milieu (ici $9$):\n",
    "\n",
    "$$\n",
    "    [-2, 1, 2, 4, 6, 7, 8, \\underline{\\mathbf{9}}, 11, 12, 14, 15, 18, 22, 54]\n",
    "$$\n",
    "\n",
    "Comme $9 < 14$ et que la liste est triée par ordre croissant, on en déduit que $e$, s'il est dans `L`, est forcément dans la partie droite :\n",
    "\n",
    "$$\n",
    "    [-2, 1, 2, 4, 6, 7, 8, {9}, \\boxed{11, 12, 14, {15}, 18, 22, 54}]\n",
    "$$\n",
    "\n",
    "On se restreint donc par la suite à la partie de `L` qui est encadrée. On compare $e$ au milieu de cette partie, c'est-à-dire $15$ :\n",
    "\n",
    "$$\n",
    "    [-2, 1, 2, 4, 6, 7, 8, {9}, \\boxed{11, 12, 14, \\underline{\\textbf{15}}, 18, 22, 54}]\n",
    "$$\n",
    "\n",
    "Comme $e < 15$, on peut cette fois se restreinte à la partie gauche. On cherche donc maintenant $e$ dans la zone suivante :\n",
    "\n",
    "$$\n",
    "    [-2, 1, 2, 4, 6, 7, 8, {9}, \\boxed{11, {12}, 14}, {15}, 18, 22, 54]\n",
    "$$\n",
    "\n",
    "On compare encore une fois $e$ au milieu :\n",
    "\n",
    "$$\n",
    "    [-2, 1, 2, 4, 6, 7, 8, {9}, \\boxed{11, \\underline{\\textbf{12}}, 14}, {15}, 18, 22, 54]\n",
    "$$\n",
    "\n",
    "Comme $e > 12$, on regarde à droite :\n",
    "\n",
    "$$\n",
    "    [-2, 1, 2, 4, 6, 7, 8, {9}, 11, {12}, \\boxed{\\underline{\\textbf{14}}}, {15}, 18, 22, 54]\n",
    "$$\n",
    "\n",
    "On a trouvé $e$ !"
   ]
  },
  {
   "cell_type": "markdown",
   "metadata": {},
   "source": [
    "````{admonition} Exercice\n",
    " Compléter le code suivant permettant de rechercher un élément dans une liste triée, par dichotomie.\n",
    "```python\n",
    "def dichotomie(e, L):\n",
    "    i, j = 0, len(L) - 1  # i et j sont les indices de L entre lesquels on cherche e\n",
    "    while ...: # tant qu'il reste au moins 1 élément entre les indices i et j\n",
    "        m = ... # milieu de i et j\n",
    "        if e < L[m]:\n",
    "            ... # regarder dans la partie gauche\n",
    "        elif e > L[m]:\n",
    "            ... # regarder dans la partie droite\n",
    "        else:\n",
    "            ... # on a trouvé e\n",
    "    ... # e n'a pas été trouvé\n",
    "```\n",
    "Puis tester votre fonction avec le jeu de tests suivant (`assert` déclenche une erreur si son argument est `False`) :  \n",
    "```python\n",
    "L1, L2, L3 = [0, 2], [0, 2, 5], [-2, 1, 2, 4, 6, 7, 8, 9, 11, 12, 14, 15, 18, 22, 54]\n",
    "assert (dichotomie(0, L1) and not dichotomie(1, L1))\n",
    "assert (dichotomie(5, L2) and not dichotomie(7, L2))\n",
    "assert (dichotomie(14, L3) and not dichotomie(-4, L3))\n",
    "```\n",
    "````"
   ]
  },
  {
   "cell_type": "markdown",
   "metadata": {},
   "source": [
    "## Graphes\n",
    "\n",
    "[Si besoin, vous pouvez revoir ce cours (Graphe : Définitions et Parcours de graphe)](https://cpge-itc.github.io/itc1/5_graph/1_definition/1_graph/).\n",
    "\n",
    "### Représentation par matrice d'adjacence"
   ]
  },
  {
   "cell_type": "markdown",
   "metadata": {},
   "source": [
    "````{admonition} Exercice\n",
    " Définir une fonction `make_matrix` telle que `make_matrix(n, p)` renvoie une matrice $n\\times p$ remplie de $0$, sous forme de liste de listes.\n",
    "````"
   ]
  },
  {
   "cell_type": "markdown",
   "metadata": {},
   "source": [
    "````{admonition} Exercice\n",
    " Définir dans une variable `G` la matrice d'adjacence du graphe suivant (on pourra éventuellement utiliser les fonctions précédentes) :\n",
    "<center><img src=https://github.com/cpge-itc/itc1/raw/4be1ee8d9679ffae521c506ad54acb9e6099c614/files/5_graph/tp/tp2/g.png width=200></center>\n",
    "````"
   ]
  },
  {
   "cell_type": "markdown",
   "metadata": {},
   "source": [
    "````{admonition} Exercice\n",
    " Définir une fonction `voisins` telle que `voisins(G, v)` renvoie la liste des voisins du sommet `v`.  \n",
    "Vérifier que les voisins du sommet $2$ dans le graphe ci-dessus sont les sommets $1$, $4$, $5$.\n",
    "````"
   ]
  },
  {
   "cell_type": "markdown",
   "metadata": {},
   "source": [
    "````{admonition} Exercice\n",
    " En déduire une fonction `deg` telle que `deg(G, v)` renvoie le degré du sommet `v`.\n",
    "````"
   ]
  },
  {
   "cell_type": "markdown",
   "metadata": {},
   "source": [
    "````{admonition} Exercice\n",
    " Écrire une fonction `n_aretes` pour calculer le nombre d'arêtes d'un graphe donné par matrice d'adjacence. Tester avec le graphe `G` précédent. On pourra soit réutiliser `deg`, soit deux boucles `for` pour parcourir les éléments de la matrice.\n",
    "````"
   ]
  },
  {
   "cell_type": "markdown",
   "metadata": {},
   "source": [
    "### Parcours en profondeur\n",
    "\n",
    "On pourra utiliser la fonction suivante pour afficher un graphe représenté par liste d'adjacence.  \n",
    "**Remarque** : Pour cela, il faut installer networkx en exécutant `pip install networkx` dans la console de Pyzo ou `!pip install networkx` dans Jupyter."
   ]
  },
  {
   "cell_type": "code",
   "execution_count": 1,
   "metadata": {},
   "outputs": [],
   "source": [
    "import matplotlib.pyplot as plt\n",
    "import networkx as nx\n",
    "\n",
    "def draw(G):\n",
    "    G_ = nx.Graph()\n",
    "    G_.add_edges_from([(i, j) for i in range(len(G)) for j in G[i]])\n",
    "    plt.clf()\n",
    "    nx.draw(G_, node_size=700, font_size=20, node_color= \"white\", edgecolors=\"black\", with_labels=True)\n",
    "    plt.show()"
   ]
  },
  {
   "cell_type": "markdown",
   "metadata": {},
   "source": [
    "````{admonition} Exercice\n",
    " Définir le graphe `G_ex` ci-dessous par liste d'adjacence. Vérifier avec `draw(G_ex)`.\n",
    "\n",
    "<center><img src=https://github.com/cpge-itc/itc1/raw/4be1ee8d9679ffae521c506ad54acb9e6099c614/files/5_graph/tp/tp2/g.png width=200></center>\n",
    "````"
   ]
  },
  {
   "cell_type": "markdown",
   "metadata": {},
   "source": [
    "````{admonition} Exercice\n",
    " Écrire une fonction `dfs(G, s)` renvoyant la liste des sommets de `G` suivant un parcours en profondeur depuis le sommet `s`. Vérifier sur le graphe `G_ex` précédent.  \n",
    "On essaierai de compléter le code ci-dessous. Ne regarder le cours que si cela est vraiment nécessaire.\n",
    "````"
   ]
  },
  {
   "cell_type": "code",
   "execution_count": null,
   "metadata": {},
   "outputs": [],
   "source": [
    "def dfs(G, s):\n",
    "    # définir une liste de booléens pour savoir si un sommet a été visité\n",
    "    def aux(u): # fonction récursive\n",
    "        # si u n'a pas été visité :\n",
    "            # afficher u\n",
    "            # marquer u comme visité\n",
    "            # pour chaque voisin v de u\n",
    "                # appeler aux(v)\n",
    "    aux(s)"
   ]
  },
  {
   "cell_type": "markdown",
   "metadata": {},
   "source": [
    "````{admonition} Exercice\n",
    " En utilisant un parcours en profondeur, écrire une fonction `connexe(G)` qui renvoie `True` si le graphe `G` est connexe, `False` sinon.  \n",
    "Vérifier sur `G_ex` (non connexe) et sur un graphe connexe de votre choix.\n",
    "````"
   ]
  },
  {
   "cell_type": "markdown",
   "metadata": {},
   "source": [
    "### Parcours en largeur"
   ]
  },
  {
   "cell_type": "markdown",
   "metadata": {},
   "source": [
    "On rappelle l'utilisation d'une file en Python, avec la classe `deque` :"
   ]
  },
  {
   "cell_type": "code",
   "execution_count": 2,
   "metadata": {},
   "outputs": [
    {
     "data": {
      "text/plain": [
       "7"
      ]
     },
     "execution_count": 2,
     "metadata": {},
     "output_type": "execute_result"
    }
   ],
   "source": [
    "from collections import deque\n",
    "\n",
    "q = deque() # file vide\n",
    "q.appendleft(4) # ajoute 4 au début\n",
    "q.appendleft(7)\n",
    "q.pop() # supprime et renvoie le dernier élément (4)\n",
    "q.appendleft(-5)\n",
    "q.pop() # supprime et renvoie le dernier élément (7)"
   ]
  },
  {
   "cell_type": "markdown",
   "metadata": {},
   "source": [
    "````{admonition} Exercice\n",
    " Écrire une fonction `bfs(G, s)` affichant les sommets du graphe `G` lors d'un parcours en largeur depuis le sommet `s`. Vérifier sur le graphe `G_ex` précédent.  \n",
    "````"
   ]
  },
  {
   "cell_type": "code",
   "execution_count": null,
   "metadata": {},
   "outputs": [],
   "source": [
    "from collections import deque\n",
    "\n",
    "def bfs(G, s):\n",
    "    # définir une file q contenant s\n",
    "    # définir une liste visited contenant n False, où n est le nombre de sommets\n",
    "    # tant que q est non vide\n",
    "        # extraire le dernier élément de q dans une variable u\n",
    "        # si u n'a pas été visité:\n",
    "            # afficher u\n",
    "            # mettre True dans visited[u]\n",
    "            # pour chaque voisin v de u\n",
    "                # ajouter v au début de q "
   ]
  },
  {
   "cell_type": "markdown",
   "metadata": {},
   "source": [
    "````{admonition} Exercice\n",
    " Écrire une fonction `distances(G, s)` qui renvoie une liste `dist` telle que `dist[v]` soit la distance (en nombre d'arêtes) du sommet `s` au sommet `v`. Vérifier sur le graphe `G_ex` précédent.  \n",
    "*Indice* : Définir une liste `dist` avec que des `-1` initialement. Stocker des couples (sommet, distance) dans la file `q`. À chaque fois qu'un couple `(u, d)` est retiré, mettre `d` dans `dist[u]` et ajouter `(v, d + 1)` à la file `q`, pour tout voisin `v` de `u`.\n",
    "````"
   ]
  }
 ],
 "metadata": {
  "kernelspec": {
   "display_name": "Python 3.10.4 ('itc-M7YM_fFd-py3.10')",
   "language": "python",
   "name": "python3"
  },
  "language_info": {
   "codemirror_mode": {
    "name": "ipython",
    "version": 3
   },
   "file_extension": ".py",
   "mimetype": "text/x-python",
   "name": "python",
   "nbconvert_exporter": "python",
   "pygments_lexer": "ipython3",
   "version": "3.9.2"
  },
  "vscode": {
   "interpreter": {
    "hash": "738094b875a04dcd3d0cc180b5278ebaa618b793820fb2e8c746c5a2a37e7311"
   }
  }
 },
 "nbformat": 4,
 "nbformat_minor": 2
}
