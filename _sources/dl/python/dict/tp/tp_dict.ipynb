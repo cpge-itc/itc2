{
 "cells": [
  {
   "cell_type": "markdown",
   "metadata": {},
   "source": [
    "# TP : Dictionnaire"
   ]
  },
  {
   "cell_type": "markdown",
   "metadata": {},
   "source": [
    "## Internationalisation"
   ]
  },
  {
   "cell_type": "markdown",
   "metadata": {},
   "source": [
    "````{admonition} Exercice\n",
    "\n",
    "1. Définir un dictionnaire `fr_to_en` contenant chaque jour de la semaine (en français) avec sa traduction en anglais.  \n",
    "2. Vérifier que `fr_to_en[\"lundi\"]` contient `\"monday\"`.  \n",
    "3. Ajouter les mois avec leurs traductions.\n",
    "````"
   ]
  },
  {
   "cell_type": "markdown",
   "metadata": {},
   "source": [
    "## Anagramme\n",
    "\n",
    "On rappelle qu'on peut parcourir les lettres d'une chaîne de caractères avec une boucle  for   :"
   ]
  },
  {
   "cell_type": "code",
   "execution_count": null,
   "metadata": {},
   "outputs": [],
   "source": [
    "s = \"lamartin\"\n",
    "for c in s: # en parcourant directement les caractères\n",
    "    print(c)\n",
    "for i in range(len(s)): # en parcourant les indices\n",
    "    print(s[i])"
   ]
  },
  {
   "cell_type": "markdown",
   "metadata": {},
   "source": [
    "````{admonition} Exercice\n",
    " Écrire une fonction `anagramme(m1, m2)` qui teste si deux mots (des chaînes de caractères) sont des anagrammes, c'est-à-dire s'ils contiennent les mêmes lettres (avec le même nombre d'occurence de chaque lettre). Par exemple, `anagramme(\"ordre\", \"dorer\")` doit renvoyer `True`.  \n",
    "Cette fonction doit être en O($n_1 + n_2$), où $n_1$, $n_2$ sont les tailles de `m1`, `m2`.  \n",
    "**Aide** : On pourra utiliser deux dictionnaires pour compter le nombre d'apparitions de chaque lettre dans `m1` et `m2`, puis vérifier que ces deux dictionnaires contiennent les mêmes associations (clé, valeur).\n",
    "````"
   ]
  },
  {
   "cell_type": "markdown",
   "metadata": {},
   "source": [
    "## Trie (arbre préfixe) \n",
    "\n",
    "### Arbres enracinés\n",
    "\n",
    "Un **arbre** est un graphe ayant deux propriétés supplémentaires :  \n",
    "- **Connexe** : il existe un chemin entre deux sommets quelconques  \n",
    "- **Acyclique** : il ne contient pas de cycle\n",
    "\n",
    "On considère souvent des **arbres enracinés**, c'est-à-dire ayant un sommet particulier appelé la **racine**, qu'on représente en haut de l'arbre :\n",
    "\n",
    "<center><img src=https://raw.githubusercontent.com/fortierq/tikz-pdf/main/tree/ntree/ntree.png width=70%><br>\n",
    "Exemple d'arbre, ayant pour racine 0</center>\n",
    "\n",
    "Chaque sommet différent de la racine possède un **père**, qui est le sommet juste au dessus. Sur l'exemple, 0 est le père de 1, 1 est le père de 7...\n",
    "\n",
    "Si p est le père de v, on dit aussi que v est un **fils** de p. Chaque sommet a au plus un père, mais peut avoir un nombre quelconque de fils."
   ]
  },
  {
   "cell_type": "markdown",
   "metadata": {},
   "source": [
    "\n",
    "### Trie\n",
    "\n",
    "Un **trie** sert à stocker un ensemble de mots sous forme d'arbre. Chaque arête est etiquetée par une lettre et les mots appartenant au trie sont ceux obtenus le long d'un chemin de la racine à une arête étiqueté par $.  \n",
    "Par exemple, l'arbre suivant contient les mots cap, copie, copier, copies, cor, corde, corne, correct, correcte :"
   ]
  },
  {
   "cell_type": "markdown",
   "metadata": {},
   "source": [
    "\n",
    "<center><img src=https://github.com/fortierq/cours/blob/main/python/dict/tp/trie.png?raw=true width=60%></center>\n",
    "\n",
    "**Remarque** : les tries sont utilisés pour la complétion automatique (proposition de complétion d'un mot en cours d'écriture, par exemple sur téléphone), pour la correction orthographique..."
   ]
  },
  {
   "cell_type": "markdown",
   "metadata": {},
   "source": [
    "Pour stocker un trie, on utilisera un dictionnaire où chaque clé est l'étiquette d'une arête sortant de la racine et la valeur est le dictionnaire correspondant au fils. Une feuille (sommet sans fils) est représentée par le dictionnaire vide.  \n",
    "\n",
    "Par exemple, le trie contenant l'ensemble de mots $\\{$ car, cat, cd, ok $\\}$ est représenté par :"
   ]
  },
  {
   "cell_type": "code",
   "execution_count": null,
   "metadata": {},
   "outputs": [],
   "source": [
    "{ \n",
    "    \"c\" : { \n",
    "        \"a\" : {\n",
    "            \"r\" : { \"$\" : {} },\n",
    "            \"t\" : { \"$\" : {} }\n",
    "        },\n",
    "        \"d\" : { \"$\" : {} }\n",
    "    },\n",
    "    \"o\" : { \n",
    "        \"k\" : { \"$\" : {} }\n",
    "    }\n",
    "}"
   ]
  },
  {
   "cell_type": "markdown",
   "metadata": {},
   "source": [
    "````{admonition} Exercice\n",
    "  \n",
    "1. Dessiner le trie contenant les mots art, axe, set.  \n",
    "2. Définir ce trie sous forme d'un dictionnaire.\n",
    "````"
   ]
  },
  {
   "cell_type": "markdown",
   "metadata": {},
   "source": [
    "````{admonition} Exercice\n",
    " Écrire une fonction `trie_add(trie, m)` pour ajouter un mot `m` dans un trie. On pourra compléter le code ci-dessous.\n",
    "````"
   ]
  },
  {
   "cell_type": "code",
   "execution_count": 4,
   "metadata": {},
   "outputs": [],
   "source": [
    "def trie_add(trie, m):\n",
    "    for c in m: # parcours des lettres c de m\n",
    "        if ...: # s'il n'y a pas d'arête sortante de trie étiquetée par c\n",
    "            ... # créer une nouvelle association (c, dictionnaire vide)\n",
    "        trie = trie[c] # descendre dans l'arbre suivant la lettre c\n",
    "    ... # ajouter un '$' à la fin"
   ]
  },
  {
   "cell_type": "markdown",
   "metadata": {},
   "source": [
    "````{admonition} Exercice\n",
    " En utilisant `trie_add`, définir un trie contenant les mots `\"arbre\"`, `\"arete\"`, `\"graphe\"`.\n",
    "````"
   ]
  },
  {
   "cell_type": "markdown",
   "metadata": {},
   "source": [
    "````{admonition} Exercice\n",
    " Écrire une fonction `trie_print(trie)` pour afficher les mots `m` appartenant à un trie. Vérifier avec l'exemple précédent.\n",
    "````"
   ]
  },
  {
   "cell_type": "markdown",
   "metadata": {},
   "source": [
    "````{admonition} Exercice\n",
    " Écrire une fonction `trie_size(trie)` pour afficher le nombre de mots appartenant à un trie.\n",
    "````"
   ]
  },
  {
   "cell_type": "markdown",
   "metadata": {},
   "source": [
    "````{admonition} Exercice\n",
    " Écrire une fonction `trie_has(trie, m)` pour tester si `m` appartient à un trie.\n",
    "````"
   ]
  },
  {
   "cell_type": "markdown",
   "metadata": {},
   "source": [
    "````{admonition} Exercice\n",
    " (MP/MP* Option info seulement) Quelles sont les autres possibilités pour implémenter un ensemble de mots ? Pourquoi un trie est-il intéressant ? On pourra supposer que les lettres sont entre a et z.\n",
    "````"
   ]
  },
  {
   "cell_type": "markdown",
   "metadata": {},
   "source": [
    "## Algorithme d'Ératosthène"
   ]
  },
  {
   "cell_type": "markdown",
   "metadata": {},
   "source": [
    "````{admonition} Exercice\n",
    " Écrire une fonction `eratosthene(n)` renvoyant un ensemble (`set`) contenant les nombres premiers inférieurs à `n`, en utilisant le [crible d'Ératosthène](https://fr.wikipedia.org/wiki/Crible_d%27%C3%89ratosth%C3%A8ne).\n",
    "````"
   ]
  }
 ],
 "metadata": {
  "kernelspec": {
   "display_name": "Python 3.9.2 64-bit",
   "language": "python",
   "name": "python3"
  },
  "language_info": {
   "codemirror_mode": {
    "name": "ipython",
    "version": 3
   },
   "file_extension": ".py",
   "mimetype": "text/x-python",
   "name": "python",
   "nbconvert_exporter": "python",
   "pygments_lexer": "ipython3",
   "version": "3.10.4"
  },
  "vscode": {
   "interpreter": {
    "hash": "31f2aee4e71d21fbe5cf8b01ff0e069b9275f58929596ceb00d14d90e3e16cd6"
   }
  }
 },
 "nbformat": 4,
 "nbformat_minor": 2
}
