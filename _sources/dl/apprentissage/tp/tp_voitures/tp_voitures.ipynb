{
 "cells": [
  {
   "attachments": {},
   "cell_type": "markdown",
   "metadata": {},
   "source": [
    "# TP : Classification de voitures\n",
    "\n",
    "## Chargement des données\n",
    "Dans ce TP, nous voulons classifier des voitures, selon leur type (sportive, citadine, familiale...). Commençons par charger les données dans Basthon :\n",
    "\n",
    "1. Télécharger <a href=\"https://raw.githubusercontent.com/cpge-itc/itc2/main/files/voitures.csv\" download>les données (clic droit ici puis enregistrer la cible du lien sous)</a>.  \n",
    "2. Dans Basthon, cliquer sur Fichier puis Ouvrir et sélectionner le fichier téléchargé.\n",
    "3. Exécuter le code ci-dessous, en modifiant titanic.csv si vous avez utilisé un autre nom de fichier."
   ]
  },
  {
   "cell_type": "code",
   "execution_count": 1,
   "metadata": {},
   "outputs": [
    {
     "data": {
      "text/html": [
       "<div>\n",
       "<style scoped>\n",
       "    .dataframe tbody tr th:only-of-type {\n",
       "        vertical-align: middle;\n",
       "    }\n",
       "\n",
       "    .dataframe tbody tr th {\n",
       "        vertical-align: top;\n",
       "    }\n",
       "\n",
       "    .dataframe thead th {\n",
       "        text-align: right;\n",
       "    }\n",
       "</style>\n",
       "<table border=\"1\" class=\"dataframe\">\n",
       "  <thead>\n",
       "    <tr style=\"text-align: right;\">\n",
       "      <th></th>\n",
       "      <th>nom</th>\n",
       "      <th>marque</th>\n",
       "      <th>cylindrée</th>\n",
       "      <th>chevaux</th>\n",
       "      <th>longueur</th>\n",
       "      <th>largeur</th>\n",
       "      <th>hauteur</th>\n",
       "      <th>poids</th>\n",
       "      <th>vitesse_max</th>\n",
       "      <th>0_100</th>\n",
       "      <th>consommation</th>\n",
       "    </tr>\n",
       "  </thead>\n",
       "  <tbody>\n",
       "    <tr>\n",
       "      <th>0</th>\n",
       "      <td>panda</td>\n",
       "      <td>fiat</td>\n",
       "      <td>1242</td>\n",
       "      <td>69</td>\n",
       "      <td>365</td>\n",
       "      <td>164</td>\n",
       "      <td>155</td>\n",
       "      <td>1030</td>\n",
       "      <td>164</td>\n",
       "      <td>15.0</td>\n",
       "      <td>5.7</td>\n",
       "    </tr>\n",
       "    <tr>\n",
       "      <th>1</th>\n",
       "      <td>tt</td>\n",
       "      <td>audi</td>\n",
       "      <td>2000</td>\n",
       "      <td>200</td>\n",
       "      <td>404</td>\n",
       "      <td>176</td>\n",
       "      <td>135</td>\n",
       "      <td>1400</td>\n",
       "      <td>235</td>\n",
       "      <td>7.0</td>\n",
       "      <td>7.0</td>\n",
       "    </tr>\n",
       "    <tr>\n",
       "      <th>2</th>\n",
       "      <td>208</td>\n",
       "      <td>peugeot</td>\n",
       "      <td>1200</td>\n",
       "      <td>100</td>\n",
       "      <td>398</td>\n",
       "      <td>174</td>\n",
       "      <td>146</td>\n",
       "      <td>1050</td>\n",
       "      <td>163</td>\n",
       "      <td>14.0</td>\n",
       "      <td>3.8</td>\n",
       "    </tr>\n",
       "    <tr>\n",
       "      <th>3</th>\n",
       "      <td>c3</td>\n",
       "      <td>citroën</td>\n",
       "      <td>1124</td>\n",
       "      <td>61</td>\n",
       "      <td>385</td>\n",
       "      <td>167</td>\n",
       "      <td>152</td>\n",
       "      <td>998</td>\n",
       "      <td>157</td>\n",
       "      <td>16.0</td>\n",
       "      <td>5.4</td>\n",
       "    </tr>\n",
       "    <tr>\n",
       "      <th>4</th>\n",
       "      <td>berlingo</td>\n",
       "      <td>citroën</td>\n",
       "      <td>1360</td>\n",
       "      <td>75</td>\n",
       "      <td>411</td>\n",
       "      <td>172</td>\n",
       "      <td>180</td>\n",
       "      <td>1378</td>\n",
       "      <td>149</td>\n",
       "      <td>16.0</td>\n",
       "      <td>7.4</td>\n",
       "    </tr>\n",
       "    <tr>\n",
       "      <th>5</th>\n",
       "      <td>clio 4</td>\n",
       "      <td>renault</td>\n",
       "      <td>1149</td>\n",
       "      <td>75</td>\n",
       "      <td>406</td>\n",
       "      <td>173</td>\n",
       "      <td>145</td>\n",
       "      <td>1105</td>\n",
       "      <td>177</td>\n",
       "      <td>12.0</td>\n",
       "      <td>5.0</td>\n",
       "    </tr>\n",
       "    <tr>\n",
       "      <th>6</th>\n",
       "      <td>mégane 1</td>\n",
       "      <td>renault</td>\n",
       "      <td>1998</td>\n",
       "      <td>115</td>\n",
       "      <td>413</td>\n",
       "      <td>170</td>\n",
       "      <td>142</td>\n",
       "      <td>1085</td>\n",
       "      <td>197</td>\n",
       "      <td>9.7</td>\n",
       "      <td>7.3</td>\n",
       "    </tr>\n",
       "    <tr>\n",
       "      <th>7</th>\n",
       "      <td>espace</td>\n",
       "      <td>renault</td>\n",
       "      <td>1870</td>\n",
       "      <td>117</td>\n",
       "      <td>466</td>\n",
       "      <td>186</td>\n",
       "      <td>173</td>\n",
       "      <td>1897</td>\n",
       "      <td>176</td>\n",
       "      <td>14.0</td>\n",
       "      <td>9.7</td>\n",
       "    </tr>\n",
       "    <tr>\n",
       "      <th>8</th>\n",
       "      <td>2008</td>\n",
       "      <td>peugeot</td>\n",
       "      <td>1398</td>\n",
       "      <td>68</td>\n",
       "      <td>416</td>\n",
       "      <td>174</td>\n",
       "      <td>156</td>\n",
       "      <td>1200</td>\n",
       "      <td>190</td>\n",
       "      <td>9.5</td>\n",
       "      <td>5.7</td>\n",
       "    </tr>\n",
       "    <tr>\n",
       "      <th>9</th>\n",
       "      <td>captur</td>\n",
       "      <td>renault</td>\n",
       "      <td>1333</td>\n",
       "      <td>90</td>\n",
       "      <td>422</td>\n",
       "      <td>190</td>\n",
       "      <td>158</td>\n",
       "      <td>1352</td>\n",
       "      <td>180</td>\n",
       "      <td>10.0</td>\n",
       "      <td>6.5</td>\n",
       "    </tr>\n",
       "    <tr>\n",
       "      <th>10</th>\n",
       "      <td>carrera gt</td>\n",
       "      <td>porsche</td>\n",
       "      <td>5733</td>\n",
       "      <td>612</td>\n",
       "      <td>461</td>\n",
       "      <td>192</td>\n",
       "      <td>117</td>\n",
       "      <td>1385</td>\n",
       "      <td>330</td>\n",
       "      <td>4.0</td>\n",
       "      <td>18.0</td>\n",
       "    </tr>\n",
       "    <tr>\n",
       "      <th>11</th>\n",
       "      <td>f40</td>\n",
       "      <td>ferrari</td>\n",
       "      <td>2936</td>\n",
       "      <td>478</td>\n",
       "      <td>443</td>\n",
       "      <td>198</td>\n",
       "      <td>113</td>\n",
       "      <td>1100</td>\n",
       "      <td>324</td>\n",
       "      <td>4.6</td>\n",
       "      <td>16.0</td>\n",
       "    </tr>\n",
       "    <tr>\n",
       "      <th>12</th>\n",
       "      <td>scénic</td>\n",
       "      <td>renault</td>\n",
       "      <td>1461</td>\n",
       "      <td>105</td>\n",
       "      <td>449</td>\n",
       "      <td>181</td>\n",
       "      <td>164</td>\n",
       "      <td>1700</td>\n",
       "      <td>190</td>\n",
       "      <td>11.0</td>\n",
       "      <td>7.0</td>\n",
       "    </tr>\n",
       "  </tbody>\n",
       "</table>\n",
       "</div>"
      ],
      "text/plain": [
       "           nom   marque  cylindrée  chevaux  longueur  largeur  hauteur  \\\n",
       "0        panda     fiat       1242       69       365      164      155   \n",
       "1           tt     audi       2000      200       404      176      135   \n",
       "2          208  peugeot       1200      100       398      174      146   \n",
       "3           c3  citroën       1124       61       385      167      152   \n",
       "4     berlingo  citroën       1360       75       411      172      180   \n",
       "5       clio 4  renault       1149       75       406      173      145   \n",
       "6     mégane 1  renault       1998      115       413      170      142   \n",
       "7       espace  renault       1870      117       466      186      173   \n",
       "8         2008  peugeot       1398       68       416      174      156   \n",
       "9       captur  renault       1333       90       422      190      158   \n",
       "10  carrera gt  porsche       5733      612       461      192      117   \n",
       "11         f40  ferrari       2936      478       443      198      113   \n",
       "12      scénic  renault       1461      105       449      181      164   \n",
       "\n",
       "    poids  vitesse_max  0_100  consommation  \n",
       "0    1030          164   15.0           5.7  \n",
       "1    1400          235    7.0           7.0  \n",
       "2    1050          163   14.0           3.8  \n",
       "3     998          157   16.0           5.4  \n",
       "4    1378          149   16.0           7.4  \n",
       "5    1105          177   12.0           5.0  \n",
       "6    1085          197    9.7           7.3  \n",
       "7    1897          176   14.0           9.7  \n",
       "8    1200          190    9.5           5.7  \n",
       "9    1352          180   10.0           6.5  \n",
       "10   1385          330    4.0          18.0  \n",
       "11   1100          324    4.6          16.0  \n",
       "12   1700          190   11.0           7.0  "
      ]
     },
     "execution_count": 1,
     "metadata": {},
     "output_type": "execute_result"
    }
   ],
   "source": [
    "import numpy as np\n",
    "import pandas as pd\n",
    "import matplotlib.pyplot as plt\n",
    "\n",
    "voitures = pd.read_csv(\"voitures.csv\")\n",
    "voitures"
   ]
  },
  {
   "attachments": {},
   "cell_type": "markdown",
   "metadata": {},
   "source": [
    "Pour éviter d'utiliser des dataframe pandas, nous allons utiliser des listes `attributs` et `noms` tels que `attributs[i]` contienne les caractéristiques (cyindrée, chevaux, longueur...) et `noms[i]` le nom de la voiture $i$ :"
   ]
  },
  {
   "cell_type": "code",
   "execution_count": 2,
   "metadata": {},
   "outputs": [
    {
     "data": {
      "text/plain": [
       "['panda', 'fiat']"
      ]
     },
     "execution_count": 2,
     "metadata": {},
     "output_type": "execute_result"
    }
   ],
   "source": [
    "noms = voitures.iloc[:, :2].to_numpy().tolist()\n",
    "noms[0] # affiche le nom de la première voiture"
   ]
  },
  {
   "cell_type": "code",
   "execution_count": 3,
   "metadata": {},
   "outputs": [
    {
     "data": {
      "text/plain": [
       "[1242.0, 69.0, 365.0, 164.0, 155.0, 1030.0, 164.0, 15.0, 5.7]"
      ]
     },
     "execution_count": 3,
     "metadata": {},
     "output_type": "execute_result"
    }
   ],
   "source": [
    "attributs = voitures.iloc[:, 2:].to_numpy().tolist()\n",
    "attributs[0] # affiche les valeurs des attributs de la première voiture"
   ]
  },
  {
   "attachments": {},
   "cell_type": "markdown",
   "metadata": {},
   "source": [
    "Pour obtenir la signification des attributs :"
   ]
  },
  {
   "cell_type": "code",
   "execution_count": 4,
   "metadata": {},
   "outputs": [
    {
     "data": {
      "text/plain": [
       "['cylindrée',\n",
       " 'chevaux',\n",
       " 'longueur',\n",
       " 'largeur',\n",
       " 'hauteur',\n",
       " 'poids',\n",
       " 'vitesse_max',\n",
       " '0_100',\n",
       " 'consommation']"
      ]
     },
     "execution_count": 4,
     "metadata": {},
     "output_type": "execute_result"
    }
   ],
   "source": [
    "attributs_noms = voitures.columns[2:].to_numpy().tolist()\n",
    "attributs_noms"
   ]
  },
  {
   "attachments": {},
   "cell_type": "markdown",
   "metadata": {},
   "source": [
    "## Standardisation des données"
   ]
  },
  {
   "attachments": {},
   "cell_type": "markdown",
   "metadata": {},
   "source": [
    "````{admonition} Question\n",
    " Écrire une fonction `moyenne(j)` qui renvoie la moyenne de l'attribut `j` (c'est-à-dire la moyenne de `attributs[i][j]`, pour tous les `i` possibles).\n",
    "````"
   ]
  },
  {
   "cell_type": "markdown",
   "execution_count": 5,
   "metadata": {
    "tags": [
     "cor"
    ]
   },
   "source": [
    "````{admonition} Solution\n",
    ":class: tip, dropdown\n",
    "``` python\n",
    "def moyenne(j):\n",
    "    return sum([x[j] for x in attributs])/len(attributs)\n",
    "```\n",
    "````"
   ]
  },
  {
   "cell_type": "code",
   "execution_count": 7,
   "metadata": {},
   "outputs": [
    {
     "data": {
      "text/plain": [
       "10.984615384615385"
      ]
     },
     "execution_count": 7,
     "metadata": {},
     "output_type": "execute_result"
    }
   ],
   "source": [
    "moyenne(7) # nombre moyen de secondes pour aller de 0 à 100 km/h"
   ]
  },
  {
   "attachments": {},
   "cell_type": "markdown",
   "metadata": {},
   "source": [
    "````{admonition} Question\n",
    " Écrire une fonction `ecart_type(j)` qui renvoie l'écart-type de l'attribut `j` (c'est-à-dire $\\sigma = \\sqrt{\\sum_i \\frac{(x_i - \\mu)^2}{n}}$ où les $x_i$ sont les valeurs pour l'attribut `j` et $\\mu$ est la moyenne de l'attribut `j`).\n",
    "````"
   ]
  },
  {
   "cell_type": "markdown",
   "execution_count": 7,
   "metadata": {
    "tags": [
     "cor"
    ]
   },
   "source": [
    "````{admonition} Solution\n",
    ":class: tip, dropdown\n",
    "``` python\n",
    "def ecart_type(j):\n",
    "    m = moyenne(j)\n",
    "    return (sum([(x[j] - m)**2 for x in attributs])/len(attributs))**0.5\n",
    "```\n",
    "````"
   ]
  },
  {
   "cell_type": "code",
   "execution_count": 8,
   "metadata": {},
   "outputs": [
    {
     "data": {
      "text/plain": [
       "1206.7697505196386"
      ]
     },
     "execution_count": 8,
     "metadata": {},
     "output_type": "execute_result"
    }
   ],
   "source": [
    "ecart_type(0)"
   ]
  },
  {
   "attachments": {},
   "cell_type": "markdown",
   "metadata": {},
   "source": [
    "Si des données $x_1, ..., x_n$ ont une moyenne $\\mu$ et un écart-type $\\sigma$, on peut standardiser ces données, c'est-à-dire se ramener à une moyenne à $0$ et un écart-type à $1$, en remplaçant chaque $x_i$ par :\n",
    "\n",
    "$$\\frac{x_i - \\mu}{\\sigma}$$"
   ]
  },
  {
   "attachments": {},
   "cell_type": "markdown",
   "metadata": {},
   "source": [
    "````{admonition} Question\n",
    " Définir une matrice `X` qui contient les caractéristiques standardisées des voitures.\n",
    "````"
   ]
  },
  {
   "cell_type": "markdown",
   "execution_count": 9,
   "metadata": {
    "tags": [
     "cor"
    ]
   },
   "source": [
    "````{admonition} Solution\n",
    ":class: tip, dropdown\n",
    "``` python\n",
    "X = []\n",
    "for i in range(len(attributs)):\n",
    "    X.append([(attributs[i][j] - moyenne(j))/ecart_type(j) for j in range(len(attributs[i]))])\n",
    "```\n",
    "````"
   ]
  },
  {
   "cell_type": "code",
   "execution_count": 10,
   "metadata": {},
   "outputs": [
    {
     "data": {
      "text/plain": [
       "[-0.5518865547576234,\n",
       " -0.5838129204459943,\n",
       " -1.881194060479367,\n",
       " -1.4284117337371103,\n",
       " 0.3256520809467957,\n",
       " -0.9620792816591849,\n",
       " -0.6746501884297091,\n",
       " 1.034391681977312,\n",
       " -0.5737524192504039]"
      ]
     },
     "execution_count": 10,
     "metadata": {},
     "output_type": "execute_result"
    }
   ],
   "source": [
    "X[0]"
   ]
  },
  {
   "attachments": {},
   "cell_type": "markdown",
   "metadata": {},
   "source": [
    "````{admonition} Question\n",
    " On aura aussi besoin de réaliser l'opération inverse de la précédente. Écrire une fonction `inverse_standardisation(y)` qui, pour une voiture `y` (c'est-à-dire la liste de ses attributs), renvoie une liste `x` telle que $x_i = y_i \\sigma_i + \\mu_i$, où $\\mu_i$ et $\\sigma_i$ sont la moyenne et l'écart-type de l'attribut $i$.\n",
    "````"
   ]
  },
  {
   "cell_type": "markdown",
   "execution_count": 11,
   "metadata": {
    "tags": [
     "cor"
    ]
   },
   "source": [
    "````{admonition} Solution\n",
    ":class: tip, dropdown\n",
    "``` python\n",
    "def inverse_standardisation(y):\n",
    "    return [y[i]*ecart_type(i) + moyenne(i) for i in range(len(y))]\n",
    "```\n",
    "````"
   ]
  },
  {
   "cell_type": "code",
   "execution_count": 12,
   "metadata": {},
   "outputs": [
    {
     "data": {
      "text/plain": [
       "[1242.0, 69.0, 365.0, 164.0, 155.0, 1030.0, 164.0, 15.0, 5.7]"
      ]
     },
     "execution_count": 12,
     "metadata": {},
     "output_type": "execute_result"
    }
   ],
   "source": [
    "inverse_standardisation(X[0]) # doit être égal à attributs[0]"
   ]
  },
  {
   "attachments": {},
   "cell_type": "markdown",
   "metadata": {},
   "source": [
    "## Algorithme des k-moyennes"
   ]
  },
  {
   "attachments": {},
   "cell_type": "markdown",
   "metadata": {},
   "source": [
    "````{admonition} Question\n",
    " Écrire une fonction `d(x, y)` qui calcule la distance euclidienne entre deux attributs de voitures.\n",
    "````"
   ]
  },
  {
   "cell_type": "markdown",
   "execution_count": 13,
   "metadata": {
    "tags": [
     "cor"
    ]
   },
   "source": [
    "````{admonition} Solution\n",
    ":class: tip, dropdown\n",
    "``` python\n",
    "def d(x, y):\n",
    "    s = 0\n",
    "    for i in range(len(x)):\n",
    "        s += (x[i] - y[i])**2\n",
    "    return s**0.5\n",
    "```\n",
    "````"
   ]
  },
  {
   "cell_type": "code",
   "execution_count": 14,
   "metadata": {},
   "outputs": [
    {
     "data": {
      "text/plain": [
       "3.6573045403567335"
      ]
     },
     "execution_count": 14,
     "metadata": {},
     "output_type": "execute_result"
    }
   ],
   "source": [
    "d(X[0], X[1])"
   ]
  },
  {
   "attachments": {},
   "cell_type": "markdown",
   "metadata": {},
   "source": [
    "````{admonition} Question\n",
    " Écrire une fonction `centre(indices)` qui renvoie le centre des `X[i]` pour `i` dans la liste `indices`.\n",
    "````"
   ]
  },
  {
   "cell_type": "markdown",
   "execution_count": 15,
   "metadata": {
    "tags": [
     "cor"
    ]
   },
   "source": [
    "````{admonition} Solution\n",
    ":class: tip, dropdown\n",
    "``` python\n",
    "def centre(indices):\n",
    "    c = [0]*len(X[0])\n",
    "    for i in indices:\n",
    "        for j in range(len(c)):\n",
    "            c[j] += X[i][j]\n",
    "    if len(indices) != 0:\n",
    "        for j in range(len(c)):\n",
    "            c[j] /= len(indices)\n",
    "    return c\n",
    "\n",
    "```\n",
    "````"
   ]
  },
  {
   "cell_type": "code",
   "execution_count": 16,
   "metadata": {},
   "outputs": [
    {
     "data": {
      "text/plain": [
       "[-0.3900219295884706,\n",
       " -0.42619570979982285,\n",
       " -0.30720748345964605,\n",
       " -0.35774636214316785,\n",
       " 0.48641703230027744,\n",
       " 0.16190614861559313,\n",
       " -0.6103335371327435,\n",
       " 0.8626535994012577,\n",
       " -0.4020041621721581]"
      ]
     },
     "execution_count": 16,
     "metadata": {},
     "output_type": "execute_result"
    }
   ],
   "source": [
    "centre([0, 2, 7]) # centre des voitures 0, 2 et 7"
   ]
  },
  {
   "attachments": {},
   "cell_type": "markdown",
   "metadata": {},
   "source": [
    "Dans la suite, on utilisera une liste `classes` telle que `classes[i]` est la liste des indices `j` tels que `X|j]` est dans la classe `i`.  \n",
    "Par exemple, si `classes = [[0, 8, 11], [2, 7]]` alors la classe numéro $0$ contient les voitures $0$, $8$, $11$ (dont les valeurs sont `X[0]`, `X[8]` et `X[11]`)."
   ]
  },
  {
   "attachments": {},
   "cell_type": "markdown",
   "metadata": {},
   "source": [
    "````{admonition} Question\n",
    " Écrire une fonction `calculer_centres(classes)` qui renvoie une liste contenant les centres de chaque classe. Il faut donc que `centres[i]` soit le centre de la classe `i`.\n",
    "````"
   ]
  },
  {
   "cell_type": "markdown",
   "execution_count": 17,
   "metadata": {
    "tags": [
     "cor"
    ]
   },
   "source": [
    "````{admonition} Solution\n",
    ":class: tip, dropdown\n",
    "``` python\n",
    "def calculer_centres(classes):\n",
    "    centres = []\n",
    "    for c in classes:\n",
    "        centres.append(centre(c))\n",
    "    return centres\n",
    "```\n",
    "````"
   ]
  },
  {
   "cell_type": "code",
   "execution_count": 18,
   "metadata": {},
   "outputs": [
    {
     "data": {
      "text/plain": [
       "[[-0.04088048553760174,\n",
       "  0.2302101421317011,\n",
       "  -0.36593832588575514,\n",
       "  0.04375315220456059,\n",
       "  -0.4067215863301765,\n",
       "  -0.6579569555419957,\n",
       "  0.4128859153189823,\n",
       "  -0.3309260745023202,\n",
       "  0.2686318892762309],\n",
       " [-0.30908961700389415,\n",
       "  -0.34738710447673715,\n",
       "  0.47978580505021445,\n",
       "  0.1775863236538034,\n",
       "  0.5667995079770183,\n",
       "  0.7238988637529822,\n",
       "  -0.5781752114842607,\n",
       "  0.7767845581132305,\n",
       "  -0.31613003363303516]]"
      ]
     },
     "execution_count": 18,
     "metadata": {},
     "output_type": "execute_result"
    }
   ],
   "source": [
    "calculer_centres([[0, 8, 11], [2, 7]])"
   ]
  },
  {
   "attachments": {},
   "cell_type": "markdown",
   "metadata": {},
   "source": [
    "On initialisera l'algorithme des k-moyennes avec des centres aléatoires en utilisant la fonction suivante :"
   ]
  },
  {
   "cell_type": "code",
   "execution_count": 19,
   "metadata": {},
   "outputs": [
    {
     "data": {
      "text/plain": [
       "[[0.417022004702574,\n",
       "  0.7203244934421581,\n",
       "  0.00011437481734488664,\n",
       "  0.30233257263183977,\n",
       "  0.14675589081711304,\n",
       "  0.0923385947687978,\n",
       "  0.1862602113776709,\n",
       "  0.34556072704304774,\n",
       "  0.39676747423066994],\n",
       " [0.538816734003357,\n",
       "  0.4191945144032948,\n",
       "  0.6852195003967595,\n",
       "  0.20445224973151743,\n",
       "  0.8781174363909454,\n",
       "  0.027387593197926163,\n",
       "  0.6704675101784022,\n",
       "  0.41730480236712697,\n",
       "  0.5586898284457517]]"
      ]
     },
     "execution_count": 19,
     "metadata": {},
     "output_type": "execute_result"
    }
   ],
   "source": [
    "def centres_aléatoires(k):\n",
    "    np.random.seed(1)\n",
    "    return np.random.rand(k, len(X[0])).tolist()\n",
    "\n",
    "centres_aléatoires(2) # exemple de 2 centres aléatoires"
   ]
  },
  {
   "attachments": {},
   "cell_type": "markdown",
   "metadata": {},
   "source": [
    "````{admonition} Question\n",
    " Écrire une fonction `plus_proche(i, centres)` qui renvoie l'indice du centre le plus proche de la voiture `X[i]`. Il faut donc renvoyer `j` tel que `d(X[i], centres[j])` est minimum.\n",
    "````"
   ]
  },
  {
   "cell_type": "markdown",
   "execution_count": 20,
   "metadata": {
    "tags": [
     "cor"
    ]
   },
   "source": [
    "````{admonition} Solution\n",
    ":class: tip, dropdown\n",
    "``` python\n",
    "def plus_proche(i, centres):\n",
    "    jmin = 0\n",
    "    for j in range(1, len(centres)):\n",
    "        d1 = d(X[i], centres[j])\n",
    "        if d1 < d(X[i], centres[jmin]):\n",
    "            jmin = j\n",
    "    return jmin\n",
    "```\n",
    "````"
   ]
  },
  {
   "cell_type": "code",
   "execution_count": 21,
   "metadata": {},
   "outputs": [
    {
     "data": {
      "text/plain": [
       "0"
      ]
     },
     "execution_count": 21,
     "metadata": {},
     "output_type": "execute_result"
    }
   ],
   "source": [
    "plus_proche(0, centres_aléatoires(4))"
   ]
  },
  {
   "attachments": {},
   "cell_type": "markdown",
   "metadata": {},
   "source": [
    "````{admonition} Question\n",
    " Écrire une fonction `calculer_classes(centres)` qui renvoie une liste `classes` de même taille que `centres` et contenant les classes obtenues en associant chaque `X[j]` au centre le plus proche.  \n",
    "Ainsi, `classes[i]` doit contenir les indices `j` tel que le centre le plus proche de `X[j]` est `centres[i]`.\n",
    "````"
   ]
  },
  {
   "cell_type": "markdown",
   "execution_count": 22,
   "metadata": {
    "tags": [
     "cor"
    ]
   },
   "source": [
    "````{admonition} Solution\n",
    ":class: tip, dropdown\n",
    "``` python\n",
    "def calculer_classes(centres):\n",
    "    classes = [[] for c in centres]\n",
    "    for i in range(len(X)):\n",
    "        classes[plus_proche(i, centres)].append(i)\n",
    "    return classes\n",
    "```\n",
    "````"
   ]
  },
  {
   "cell_type": "code",
   "execution_count": 23,
   "metadata": {},
   "outputs": [
    {
     "data": {
      "text/plain": [
       "[[0, 1, 2, 3, 5, 6, 8, 9, 10, 11], [4], [7, 12]]"
      ]
     },
     "execution_count": 23,
     "metadata": {},
     "output_type": "execute_result"
    }
   ],
   "source": [
    "calculer_classes(centres_aléatoires(3))"
   ]
  },
  {
   "attachments": {},
   "cell_type": "markdown",
   "metadata": {},
   "source": [
    "````{admonition} Question\n",
    " Écrire une fonction `k_moyennes(k)` qui renvoie les classes obtenues par l'algorithme des k-moyennes appliqué aux données `X`.\n",
    "````"
   ]
  },
  {
   "cell_type": "markdown",
   "execution_count": 24,
   "metadata": {
    "tags": [
     "cor"
    ]
   },
   "source": [
    "````{admonition} Solution\n",
    ":class: tip, dropdown\n",
    "``` python\n",
    "def k_moyennes(k):\n",
    "    centres = centres_aléatoires(k)\n",
    "    while True:\n",
    "        classes = calculer_classes(centres)\n",
    "        centres2 = calculer_centres(classes)\n",
    "        if centres == centres2:\n",
    "            return classes, centres\n",
    "        centres = centres2\n",
    "```\n",
    "````"
   ]
  },
  {
   "cell_type": "code",
   "execution_count": 25,
   "metadata": {},
   "outputs": [
    {
     "data": {
      "text/plain": [
       "[[2.010739827506566,\n",
       "  2.2652677985759393,\n",
       "  1.1845559141635222,\n",
       "  1.683209502457785,\n",
       "  -1.8178806037662938,\n",
       "  -0.15425435291040127,\n",
       "  2.1845173101353987,\n",
       "  -1.7220045433683606,\n",
       "  2.198755159298423],\n",
       " [-0.39288770686855584,\n",
       "  -0.42594631547918027,\n",
       "  -0.6566559958949947,\n",
       "  -0.7006938639818525,\n",
       "  0.13139443139467197,\n",
       "  -0.4840370002937282,\n",
       "  -0.41153661494212246,\n",
       "  0.36461315993070004,\n",
       "  -0.5216145554945079],\n",
       " [-0.29279266668822856,\n",
       "  -0.3743216911061462,\n",
       "  0.9613787129443082,\n",
       "  0.7463773023130854,\n",
       "  0.861535252125068,\n",
       "  1.393601569390209,\n",
       "  -0.3589139002446052,\n",
       "  0.1757012690970402,\n",
       "  -0.07486462488026106]]"
      ]
     },
     "execution_count": 25,
     "metadata": {},
     "output_type": "execute_result"
    }
   ],
   "source": [
    "classes, centres = k_moyennes(3)\n",
    "centres"
   ]
  },
  {
   "attachments": {},
   "cell_type": "markdown",
   "metadata": {},
   "source": [
    "````{admonition} Question\n",
    " Écrire une fonction `inertie(classes, centres)` qui renvoie la somme des carrés des distances des voitures aux centres de leurs classes.\n",
    "````"
   ]
  },
  {
   "cell_type": "markdown",
   "execution_count": 26,
   "metadata": {
    "tags": [
     "cor"
    ]
   },
   "source": [
    "````{admonition} Solution\n",
    ":class: tip, dropdown\n",
    "``` python\n",
    "def inertie(classes, centres):\n",
    "    s = 0\n",
    "    for i in range(len(classes)):\n",
    "        for j in classes[i]:\n",
    "            s += d(X[j], centres[i])**2\n",
    "    return s\n",
    "```\n",
    "````"
   ]
  },
  {
   "attachments": {},
   "cell_type": "markdown",
   "metadata": {},
   "source": [
    "````{admonition} Question\n",
    " Exécuter le code suivant pour afficher l'inertie en fonction du nombre de classes $k$. Quel $k$ vous semble optimal ?\n",
    "````"
   ]
  },
  {
   "cell_type": "code",
   "execution_count": 27,
   "metadata": {},
   "outputs": [
    {
     "data": {
      "image/png": "[encoded data removed]",
      "text/plain": [
       "<Figure size 640x480 with 1 Axes>"
      ]
     },
     "metadata": {},
     "output_type": "display_data"
    }
   ],
   "source": [
    "kmax = 6\n",
    "I = []\n",
    "for k in range(1, kmax+1):\n",
    "    classes,centres = k_moyennes(k)\n",
    "    I.append(inertie(classes, centres))\n",
    "plt.plot(range(1, kmax+1), I)\n",
    "plt.xlabel(\"k\")\n",
    "plt.ylabel(\"inertie\")\n",
    "plt.show()"
   ]
  },
  {
   "attachments": {},
   "cell_type": "markdown",
   "metadata": {},
   "source": [
    "````{admonition} Question\n",
    " On prend la valeur de $k$ obtenue à la question précédente. Pour chaque classe, afficher les voitures de cette classe ainsi que le centre (en appliquant `inverse_standardisation` dessus).\n",
    "````"
   ]
  },
  {
   "cell_type": "markdown",
   "execution_count": 28,
   "metadata": {
    "tags": [
     "cor"
    ]
   },
   "source": [
    "````{admonition} Solution\n",
    ":class: tip, dropdown\n",
    "``` python\n",
    "classes, centres = k_moyennes(4)\n",
    "for i in range(len(centres)):\n",
    "    print(\"Centre\", i, \":\", inverse_standardisation(centres[i]))\n",
    "    for j in classes[i]:\n",
    "        print(\" \", noms[j])\n",
    "    print()\n",
    "```\n",
    "````"
   ]
  },
  {
   "attachments": {},
   "cell_type": "markdown",
   "metadata": {},
   "source": [
    "````{admonition} Question\n",
    " Pour savoir ce qui différencie deux classes, on peut regarder les coordonnées du vecteur dont les extrémités sont les centres des deux classes. Quelles sont les caractéristiques qui différencient les voitures familiale des voitures citadines ? Les voitures sportives des voitures citadines ?\n",
    "````"
   ]
  },
  {
   "cell_type": "markdown",
   "execution_count": 29,
   "metadata": {
    "tags": [
     "cor"
    ]
   },
   "source": [
    "````{admonition} Solution\n",
    ":class: tip, dropdown\n",
    "``` python\n",
    "attributs_noms\n",
    "```\n",
    "``` \n",
    "['cylindrée',\n",
    " 'chevaux',\n",
    " 'longueur',\n",
    " 'largeur',\n",
    " 'hauteur',\n",
    " 'poids',\n",
    " 'vitesse_max',\n",
    " '0_100',\n",
    " 'consommation']\n",
    "\n",
    "```\n",
    "````"
   ]
  },
  {
   "cell_type": "markdown",
   "execution_count": 30,
   "metadata": {
    "tags": [
     "cor"
    ]
   },
   "source": [
    "````{admonition} Solution\n",
    ":class: tip, dropdown\n",
    "``` python\n",
    "np.array(centres[1]) - np.array(centres[3])\n",
    "```\n",
    "``` \n",
    "array([-0.31896446, -0.1361693 , -1.88526004, -1.02047793, -1.22359991,\n",
    "       -2.32875335, -0.11255414,  0.15027082, -0.75037631])\n",
    "\n",
    "```\n",
    "````"
   ]
  }
 ],
 "metadata": {
  "kernelspec": {
   "display_name": "Python 3",
   "language": "python",
   "name": "python3"
  },
  "language_info": {
   "codemirror_mode": {
    "name": "ipython",
    "version": 3
   },
   "file_extension": ".py",
   "mimetype": "text/x-python",
   "name": "python",
   "nbconvert_exporter": "python",
   "pygments_lexer": "ipython3",
   "version": "3.9.2"
  },
  "vscode": {
   "interpreter": {
    "hash": "31f2aee4e71d21fbe5cf8b01ff0e069b9275f58929596ceb00d14d90e3e16cd6"
   }
  }
 },
 "nbformat": 4,
 "nbformat_minor": 2
}
