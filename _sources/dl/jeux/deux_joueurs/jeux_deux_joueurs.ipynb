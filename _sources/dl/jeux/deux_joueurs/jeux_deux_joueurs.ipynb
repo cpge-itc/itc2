{
 "cells": [
  {
   "attachments": {},
   "cell_type": "markdown",
   "metadata": {},
   "source": [
    "# Jeu à deux joueurs<iframe src=https://mozilla.github.io/pdf.js/web/viewer.html?file=https://raw.githubusercontent.com/fortierq/cours/main/jeux/deux_joueurs/jeux_deux_joueurs.pdf#zoom=page-fit&pagemode=none height=500 width=100% allowfullscreen></iframe>\n"
   ]
  },
  {
   "cell_type": "code",
   "execution_count": 37,
   "metadata": {},
   "outputs": [],
   "source": [
    "from functools import cache\n",
    "\n",
    "def attracteurs(G, fA):\n",
    "    @cache\n",
    "    def aux(v):\n",
    "        succ = map(aux, G[v])\n",
    "        if G[v] == []:\n",
    "            return not fA(v)\n",
    "        if fA(v):\n",
    "            return any(succ)\n",
    "        return all(succ)\n",
    "    return filter(aux, G)"
   ]
  },
  {
   "cell_type": "code",
   "execution_count": 1,
   "metadata": {},
   "outputs": [],
   "source": [
    "def attracteurs(G, fA):\n",
    "    d = {} # d[v] = True si v est un attracteur\n",
    "    def aux(v): # détermine si v est un attracteur\n",
    "        if v not in d:\n",
    "            succ = [aux(w) for w in G[v]]\n",
    "            if len(G[v]) == 0:\n",
    "                d[v] = not fA(v)\n",
    "            elif fA(v):\n",
    "                d[v] = any(succ)\n",
    "            else:\n",
    "                d[v] = all(succ)\n",
    "        return d[v]\n",
    "    return [v for v in G if aux(v)]"
   ]
  },
  {
   "cell_type": "code",
   "execution_count": 2,
   "metadata": {},
   "outputs": [],
   "source": [
    "G = {\n",
    "    0: [4, 5],\n",
    "    1: [4, 5, 6],\n",
    "    2: [7],\n",
    "    3: [],\n",
    "    4: [2],\n",
    "    5: [3],\n",
    "    6: [3],\n",
    "    7: []\n",
    "}"
   ]
  },
  {
   "cell_type": "code",
   "execution_count": 3,
   "metadata": {},
   "outputs": [
    {
     "data": {
      "text/plain": [
       "[0, 1, 2, 4, 7]"
      ]
     },
     "execution_count": 3,
     "metadata": {},
     "output_type": "execute_result"
    }
   ],
   "source": [
    "attracteurs(G, lambda v: v < 4)"
   ]
  },
  {
   "cell_type": "code",
   "execution_count": 6,
   "metadata": {},
   "outputs": [
    {
     "ename": "TypeError",
     "evalue": "unhashable type: 'list'",
     "output_type": "error",
     "traceback": [
      "\u001b[0;31m---------------------------------------------------------------------------\u001b[0m",
      "\u001b[0;31mTypeError\u001b[0m                                 Traceback (most recent call last)",
      "Cell \u001b[0;32mIn [6], line 1\u001b[0m\n\u001b[0;32m----> 1\u001b[0m d \u001b[39m=\u001b[39m {[\u001b[39m1\u001b[39m]: \u001b[39m2\u001b[39m}\n",
      "\u001b[0;31mTypeError\u001b[0m: unhashable type: 'list'"
     ]
    }
   ],
   "source": [
    "\n",
    "d = {[1]: 2}"
   ]
  },
  {
   "cell_type": "code",
   "execution_count": 4,
   "metadata": {},
   "outputs": [
    {
     "ename": "KeyError",
     "evalue": "(9, 'A')",
     "output_type": "error",
     "traceback": [
      "\u001b[0;31m---------------------------------------------------------------------------\u001b[0m",
      "\u001b[0;31mKeyError\u001b[0m                                  Traceback (most recent call last)",
      "Cell \u001b[0;32mIn [4], line 12\u001b[0m\n\u001b[1;32m      9\u001b[0m                     G[(i, j)]\u001b[39m.\u001b[39mappend((k, \u001b[39m'\u001b[39m\u001b[39mA\u001b[39m\u001b[39m'\u001b[39m \u001b[39mif\u001b[39;00m j \u001b[39m==\u001b[39m \u001b[39m'\u001b[39m\u001b[39mB\u001b[39m\u001b[39m'\u001b[39m \u001b[39melse\u001b[39;00m \u001b[39m'\u001b[39m\u001b[39mB\u001b[39m\u001b[39m'\u001b[39m))\n\u001b[1;32m     10\u001b[0m     \u001b[39mreturn\u001b[39;00m G\n\u001b[0;32m---> 12\u001b[0m attracteurs(nim(\u001b[39m9\u001b[39;49m), \u001b[39mlambda\u001b[39;49;00m v: v[\u001b[39m1\u001b[39;49m] \u001b[39m==\u001b[39;49m \u001b[39m'\u001b[39;49m\u001b[39mA\u001b[39;49m\u001b[39m'\u001b[39;49m)\n",
      "Cell \u001b[0;32mIn [1], line 13\u001b[0m, in \u001b[0;36mattracteurs\u001b[0;34m(G, fA)\u001b[0m\n\u001b[1;32m     11\u001b[0m             d[v] \u001b[39m=\u001b[39m \u001b[39mall\u001b[39m(succ)\n\u001b[1;32m     12\u001b[0m     \u001b[39mreturn\u001b[39;00m d[v]\n\u001b[0;32m---> 13\u001b[0m \u001b[39mreturn\u001b[39;00m [v \u001b[39mfor\u001b[39;00m v \u001b[39min\u001b[39;00m G \u001b[39mif\u001b[39;00m aux(v)]\n",
      "Cell \u001b[0;32mIn [1], line 13\u001b[0m, in \u001b[0;36m<listcomp>\u001b[0;34m(.0)\u001b[0m\n\u001b[1;32m     11\u001b[0m             d[v] \u001b[39m=\u001b[39m \u001b[39mall\u001b[39m(succ)\n\u001b[1;32m     12\u001b[0m     \u001b[39mreturn\u001b[39;00m d[v]\n\u001b[0;32m---> 13\u001b[0m \u001b[39mreturn\u001b[39;00m [v \u001b[39mfor\u001b[39;00m v \u001b[39min\u001b[39;00m G \u001b[39mif\u001b[39;00m aux(v)]\n",
      "Cell \u001b[0;32mIn [1], line 5\u001b[0m, in \u001b[0;36mattracteurs.<locals>.aux\u001b[0;34m(v)\u001b[0m\n\u001b[1;32m      3\u001b[0m \u001b[39mdef\u001b[39;00m \u001b[39maux\u001b[39m(v): \u001b[39m# détermine si v est un attracteur\u001b[39;00m\n\u001b[1;32m      4\u001b[0m     \u001b[39mif\u001b[39;00m v \u001b[39mnot\u001b[39;00m \u001b[39min\u001b[39;00m d:\n\u001b[0;32m----> 5\u001b[0m         succ \u001b[39m=\u001b[39m [aux(w) \u001b[39mfor\u001b[39;00m w \u001b[39min\u001b[39;00m G[v]]\n\u001b[1;32m      6\u001b[0m         \u001b[39mif\u001b[39;00m \u001b[39mlen\u001b[39m(G[v]) \u001b[39m==\u001b[39m \u001b[39m0\u001b[39m:\n\u001b[1;32m      7\u001b[0m             d[v] \u001b[39m=\u001b[39m \u001b[39mnot\u001b[39;00m fA(v)\n",
      "Cell \u001b[0;32mIn [1], line 5\u001b[0m, in \u001b[0;36m<listcomp>\u001b[0;34m(.0)\u001b[0m\n\u001b[1;32m      3\u001b[0m \u001b[39mdef\u001b[39;00m \u001b[39maux\u001b[39m(v): \u001b[39m# détermine si v est un attracteur\u001b[39;00m\n\u001b[1;32m      4\u001b[0m     \u001b[39mif\u001b[39;00m v \u001b[39mnot\u001b[39;00m \u001b[39min\u001b[39;00m d:\n\u001b[0;32m----> 5\u001b[0m         succ \u001b[39m=\u001b[39m [aux(w) \u001b[39mfor\u001b[39;00m w \u001b[39min\u001b[39;00m G[v]]\n\u001b[1;32m      6\u001b[0m         \u001b[39mif\u001b[39;00m \u001b[39mlen\u001b[39m(G[v]) \u001b[39m==\u001b[39m \u001b[39m0\u001b[39m:\n\u001b[1;32m      7\u001b[0m             d[v] \u001b[39m=\u001b[39m \u001b[39mnot\u001b[39;00m fA(v)\n",
      "Cell \u001b[0;32mIn [1], line 5\u001b[0m, in \u001b[0;36mattracteurs.<locals>.aux\u001b[0;34m(v)\u001b[0m\n\u001b[1;32m      3\u001b[0m \u001b[39mdef\u001b[39;00m \u001b[39maux\u001b[39m(v): \u001b[39m# détermine si v est un attracteur\u001b[39;00m\n\u001b[1;32m      4\u001b[0m     \u001b[39mif\u001b[39;00m v \u001b[39mnot\u001b[39;00m \u001b[39min\u001b[39;00m d:\n\u001b[0;32m----> 5\u001b[0m         succ \u001b[39m=\u001b[39m [aux(w) \u001b[39mfor\u001b[39;00m w \u001b[39min\u001b[39;00m G[v]]\n\u001b[1;32m      6\u001b[0m         \u001b[39mif\u001b[39;00m \u001b[39mlen\u001b[39m(G[v]) \u001b[39m==\u001b[39m \u001b[39m0\u001b[39m:\n\u001b[1;32m      7\u001b[0m             d[v] \u001b[39m=\u001b[39m \u001b[39mnot\u001b[39;00m fA(v)\n",
      "Cell \u001b[0;32mIn [1], line 5\u001b[0m, in \u001b[0;36m<listcomp>\u001b[0;34m(.0)\u001b[0m\n\u001b[1;32m      3\u001b[0m \u001b[39mdef\u001b[39;00m \u001b[39maux\u001b[39m(v): \u001b[39m# détermine si v est un attracteur\u001b[39;00m\n\u001b[1;32m      4\u001b[0m     \u001b[39mif\u001b[39;00m v \u001b[39mnot\u001b[39;00m \u001b[39min\u001b[39;00m d:\n\u001b[0;32m----> 5\u001b[0m         succ \u001b[39m=\u001b[39m [aux(w) \u001b[39mfor\u001b[39;00m w \u001b[39min\u001b[39;00m G[v]]\n\u001b[1;32m      6\u001b[0m         \u001b[39mif\u001b[39;00m \u001b[39mlen\u001b[39m(G[v]) \u001b[39m==\u001b[39m \u001b[39m0\u001b[39m:\n\u001b[1;32m      7\u001b[0m             d[v] \u001b[39m=\u001b[39m \u001b[39mnot\u001b[39;00m fA(v)\n",
      "    \u001b[0;31m[... skipping similar frames: attracteurs.<locals>.aux at line 5 (6 times), <listcomp> at line 5 (5 times)]\u001b[0m\n",
      "Cell \u001b[0;32mIn [1], line 5\u001b[0m, in \u001b[0;36m<listcomp>\u001b[0;34m(.0)\u001b[0m\n\u001b[1;32m      3\u001b[0m \u001b[39mdef\u001b[39;00m \u001b[39maux\u001b[39m(v): \u001b[39m# détermine si v est un attracteur\u001b[39;00m\n\u001b[1;32m      4\u001b[0m     \u001b[39mif\u001b[39;00m v \u001b[39mnot\u001b[39;00m \u001b[39min\u001b[39;00m d:\n\u001b[0;32m----> 5\u001b[0m         succ \u001b[39m=\u001b[39m [aux(w) \u001b[39mfor\u001b[39;00m w \u001b[39min\u001b[39;00m G[v]]\n\u001b[1;32m      6\u001b[0m         \u001b[39mif\u001b[39;00m \u001b[39mlen\u001b[39m(G[v]) \u001b[39m==\u001b[39m \u001b[39m0\u001b[39m:\n\u001b[1;32m      7\u001b[0m             d[v] \u001b[39m=\u001b[39m \u001b[39mnot\u001b[39;00m fA(v)\n",
      "Cell \u001b[0;32mIn [1], line 5\u001b[0m, in \u001b[0;36mattracteurs.<locals>.aux\u001b[0;34m(v)\u001b[0m\n\u001b[1;32m      3\u001b[0m \u001b[39mdef\u001b[39;00m \u001b[39maux\u001b[39m(v): \u001b[39m# détermine si v est un attracteur\u001b[39;00m\n\u001b[1;32m      4\u001b[0m     \u001b[39mif\u001b[39;00m v \u001b[39mnot\u001b[39;00m \u001b[39min\u001b[39;00m d:\n\u001b[0;32m----> 5\u001b[0m         succ \u001b[39m=\u001b[39m [aux(w) \u001b[39mfor\u001b[39;00m w \u001b[39min\u001b[39;00m G[v]]\n\u001b[1;32m      6\u001b[0m         \u001b[39mif\u001b[39;00m \u001b[39mlen\u001b[39m(G[v]) \u001b[39m==\u001b[39m \u001b[39m0\u001b[39m:\n\u001b[1;32m      7\u001b[0m             d[v] \u001b[39m=\u001b[39m \u001b[39mnot\u001b[39;00m fA(v)\n",
      "\u001b[0;31mKeyError\u001b[0m: (9, 'A')"
     ]
    }
   ],
   "source": [
    "def nim(n):\n",
    "    G = {}\n",
    "    for i in range(1, n + 1):\n",
    "        for j in ['A', 'B']:\n",
    "            for k in range(i + 1, i + 4):\n",
    "                if k <= n:\n",
    "                    if (i, j) not in G:\n",
    "                        G[(i, j)] = []\n",
    "                    G[(i, j)].append((k, 'A' if j == 'B' else 'B'))\n",
    "    return G\n",
    "\n",
    "attracteurs(nim(9), lambda v: v[1] == 'A')"
   ]
  },
  {
   "cell_type": "code",
   "execution_count": 5,
   "metadata": {},
   "outputs": [
    {
     "ename": "NameError",
     "evalue": "name 'fA' is not defined",
     "output_type": "error",
     "traceback": [
      "\u001b[0;31m---------------------------------------------------------------------------\u001b[0m",
      "\u001b[0;31mNameError\u001b[0m                                 Traceback (most recent call last)",
      "Cell \u001b[0;32mIn [5], line 10\u001b[0m\n\u001b[1;32m      6\u001b[0m     nx\u001b[39m.\u001b[39mdraw(G, with_labels\u001b[39m=\u001b[39m\u001b[39mTrue\u001b[39;00m, node_color\u001b[39m=\u001b[39m[\u001b[39m'\u001b[39m\u001b[39mred\u001b[39m\u001b[39m'\u001b[39m \u001b[39mif\u001b[39;00m fA(v) \u001b[39melse\u001b[39;00m \u001b[39m'\u001b[39m\u001b[39mblue\u001b[39m\u001b[39m'\u001b[39m \u001b[39mfor\u001b[39;00m v \u001b[39min\u001b[39;00m G])\n\u001b[1;32m      7\u001b[0m     plt\u001b[39m.\u001b[39mshow()\n\u001b[0;32m---> 10\u001b[0m dessine(G, fA)\n",
      "\u001b[0;31mNameError\u001b[0m: name 'fA' is not defined"
     ]
    }
   ],
   "source": [
    "import networkx as nx\n",
    "import matplotlib.pyplot as plt\n",
    "\n",
    "def dessine(G, fA):\n",
    "    G = nx.DiGraph(G)\n",
    "    nx.draw(G, with_labels=True, node_color=['red' if fA(v) else 'blue' for v in G])\n",
    "    plt.show()\n",
    "\n",
    "\n",
    "dessine(G, fA)"
   ]
  },
  {
   "cell_type": "code",
   "execution_count": null,
   "metadata": {},
   "outputs": [],
   "source": []
  }
 ],
 "metadata": {
  "kernelspec": {
   "display_name": "Python 3",
   "language": "python",
   "name": "python3"
  },
  "language_info": {
   "codemirror_mode": {
    "name": "ipython",
    "version": 3
   },
   "file_extension": ".py",
   "mimetype": "text/x-python",
   "name": "python",
   "nbconvert_exporter": "python",
   "pygments_lexer": "ipython3",
   "version": "3.9.2"
  },
  "vscode": {
   "interpreter": {
    "hash": "31f2aee4e71d21fbe5cf8b01ff0e069b9275f58929596ceb00d14d90e3e16cd6"
   }
  }
 },
 "nbformat": 4,
 "nbformat_minor": 2
}
