{
 "cells": [
  {
   "attachments": {},
   "cell_type": "markdown",
   "metadata": {},
   "source": [
    "# TP : Jeu du domineering\n",
    "\n",
    "Le domineering est un jeu de plateau où le joueur 0 place un domino vertical et le joueur 1 un domino horizontal. Un joueur qui ne peut plus jouer perd.\n",
    "\n",
    "Voici un exemple de partie (de gauche à droite) où le joueur 1 gagne :\n",
    "<center><img src=https://raw.githubusercontent.com/fortierq/tikz-pdf/main/jeux/domineering/ex.png width=600></center>\n",
    "\n",
    "Une configuration est représentée par une matrice (-1 = vide, 0 = joueur 0, 1 = joueur 1)"
   ]
  },
  {
   "attachments": {},
   "cell_type": "markdown",
   "metadata": {},
   "source": [
    "````{admonition} Question\n",
    " Écrire une fonction `grille_vide(n, p)` qui renvoie une grille de taille $n \\times p$ vide (remplie de $-1$).\n",
    "````"
   ]
  },
  {
   "cell_type": "code",
   "execution_count": 2,
   "metadata": {},
   "outputs": [
    {
     "data": {
      "text/plain": [
       "[[-1, -1, -1, -1], [-1, -1, -1, -1], [-1, -1, -1, -1]]"
      ]
     },
     "execution_count": 2,
     "metadata": {},
     "output_type": "execute_result"
    }
   ],
   "source": [
    "grille_vide(3, 4)"
   ]
  },
  {
   "attachments": {},
   "cell_type": "markdown",
   "metadata": {},
   "source": [
    "````{admonition} Question\n",
    " Écrire une fonction `coups_possibles(v, joueur)` qui prend en entrée une configuration `v` et qui renvoie la liste des positions $(i, j)$ où le joueur `joueur` peut placer son domino.\n",
    "````"
   ]
  },
  {
   "cell_type": "code",
   "execution_count": 4,
   "metadata": {},
   "outputs": [
    {
     "data": {
      "text/plain": [
       "[(0, 0), (0, 1), (0, 2), (0, 3), (1, 0), (1, 1), (1, 2), (1, 3)]"
      ]
     },
     "execution_count": 4,
     "metadata": {},
     "output_type": "execute_result"
    }
   ],
   "source": [
    "coups_possibles(grille_vide(3, 4), 0)"
   ]
  },
  {
   "attachments": {},
   "cell_type": "markdown",
   "metadata": {},
   "source": [
    "````{admonition} Question\n",
    " Écrire une fonction `strategie_aleatoire(v, joueur)` qui prend en entrée une configuration `v` et qui renvoie un coup choisi au hasard parmi les coups possibles.  \n",
    "On pourra utiliser la fonction `random.choice(L)` qui renvoie un élément au hasard dans `L` (en n'oubliant pas `import random`).\n",
    "````"
   ]
  },
  {
   "cell_type": "code",
   "execution_count": 6,
   "metadata": {},
   "outputs": [
    {
     "data": {
      "text/plain": [
       "(0, 3)"
      ]
     },
     "execution_count": 6,
     "metadata": {},
     "output_type": "execute_result"
    }
   ],
   "source": [
    "strategie_aleatoire(grille_vide(3, 4), 0) # coup aléatoire"
   ]
  },
  {
   "attachments": {},
   "cell_type": "markdown",
   "metadata": {},
   "source": [
    "````{admonition} Question\n",
    " Écrire une fonction `placer(v, i, j, joueur)` qui prend en entrée une configuration `v`, une position $(i, j)$ et un joueur `joueur` et qui modifie `v` en plaçant le domino du joueur `joueur` à la position $(i, j)$.\n",
    "````"
   ]
  },
  {
   "attachments": {},
   "cell_type": "markdown",
   "metadata": {},
   "source": [
    "````{admonition} Question\n",
    " Écrire une fonction `retirer(v, i, j, joueur)` qui prend en entrée une configuration `v`, une position $(i, j)$ et un joueur `joueur` et qui modifie `v` en retirant le domino du joueur `joueur` à la position $(i, j)$.\n",
    "````"
   ]
  },
  {
   "attachments": {},
   "cell_type": "markdown",
   "metadata": {},
   "source": [
    "````{admonition} Question\n",
    " Écrire une fonction `jeu(strategie1, strategie2, n, p)` qui prend en entrée deux stratégies et qui renvoie le joueur qui gagne.\n",
    "````"
   ]
  },
  {
   "cell_type": "code",
   "execution_count": 10,
   "metadata": {},
   "outputs": [
    {
     "data": {
      "text/plain": [
       "0"
      ]
     },
     "execution_count": 10,
     "metadata": {},
     "output_type": "execute_result"
    }
   ],
   "source": [
    "jeu(strategie_aleatoire, strategie_aleatoire, 3, 4) # 0 ou 1"
   ]
  },
  {
   "attachments": {},
   "cell_type": "markdown",
   "metadata": {},
   "source": [
    "````{admonition} Question\n",
    " Écrire une fonction `statistiques(strategie1, strategie2, n, p, nb_parties)` qui prend en entrée deux stratégies et qui renvoie le nombre de parties gagnées par chaque joueur.\n",
    "Tester avec différentes tailles initiales de la grille.\n",
    "````"
   ]
  },
  {
   "cell_type": "code",
   "execution_count": 12,
   "metadata": {},
   "outputs": [
    {
     "data": {
      "text/plain": [
       "[388, 612]"
      ]
     },
     "execution_count": 12,
     "metadata": {},
     "output_type": "execute_result"
    }
   ],
   "source": [
    "statistiques(strategie_aleatoire, strategie_aleatoire, 3, 10, 1000)"
   ]
  },
  {
   "attachments": {},
   "cell_type": "markdown",
   "metadata": {},
   "source": [
    "````{admonition} Question\n",
    " Écrire une fonction `h1(v)` renvoyant la différence entre le nombre de cases libres pour le joueur 0 et le nombre de cases libres pour le joueur 1. On renverra $\\infty$ (`float('inf')`) si le joueur 0 a gagné et $-\\infty$ (`float('-inf')`) si le joueur 1 a gagné.\n",
    "````"
   ]
  },
  {
   "cell_type": "code",
   "execution_count": 14,
   "metadata": {},
   "outputs": [
    {
     "data": {
      "text/plain": [
       "1"
      ]
     },
     "execution_count": 14,
     "metadata": {},
     "output_type": "execute_result"
    }
   ],
   "source": [
    "h1(grille_vide(3, 2))"
   ]
  },
  {
   "attachments": {},
   "cell_type": "markdown",
   "metadata": {},
   "source": [
    "L'algorithme min-max consiste à regarder, depuis la position en cours, toutes les positions atteignables après $p$ coups et conserver celle ayant la meilleure heuristique. \n",
    "\n",
    "Puis on donne une valeur à chaque sommet de l'arbre de proche en proche :  \n",
    "- Calcul de l'heuristique des sommets à profondeur $p$ et ceux sans successeurs.\n",
    "- Calcul de la valeur des sommets à profondeur $p-1$ en prenant le maximum (pour Alice) ou le minimum (pour Bob) des valeurs des successeurs.\n",
    "- ...\n",
    "- Calcul de la valeur de la racine.\n",
    "\n",
    "Ceci peut être effectué récursivement. \n",
    "\n",
    "On choisit ensuite le coup qui donne la meilleure valeur parmi les coups possibles.\n",
    "\n",
    "<center><img src=https://raw.githubusercontent.com/fortierq/tikz-pdf/main/jeux/domineering/arbre/arbre3.png width=100%></center>"
   ]
  },
  {
   "attachments": {},
   "cell_type": "markdown",
   "metadata": {},
   "source": [
    "````{admonition} Question\n",
    " Écrire une fonction `minmax(v, joueur, profondeur, h)` qui prend en entrée une configuration `v`, un joueur `joueur`, une profondeur `profondeur` et une fonction heuristique `h` et qui renvoie un couple `(valeur, coup)` où `coup` est le meilleur coup à jouer et `valeur` est sa valeur.\n",
    "````"
   ]
  },
  {
   "cell_type": "code",
   "execution_count": null,
   "metadata": {},
   "outputs": [],
   "source": [
    "def minmax(v, joueur, profondeur, h): # renvoie (valeur, coup)\n",
    "    coups = coups_possibles(v, joueur)\n",
    "    # si la profondeur est 0 ou s'il n'y a pas de coup possible, renvoyer (j(h(v)), None)\n",
    "    else:\n",
    "        if joueur == 0:\n",
    "            # stocker la meilleure valeur et le meilleur coup\n",
    "            for coup in coups:\n",
    "                # jouer en coup\n",
    "                # appel récursif pour obtenir la valeur du coup\n",
    "                # retirer le coup\n",
    "                # si la valeur du coup est meilleure que la meilleure valeur, mettre à jour la meilleure valeur et le meilleur coup\n",
    "            # renvoyer la meilleure valeur et le meilleur coup\n",
    "        else:\n",
    "            # de même pour le joueur 1"
   ]
  },
  {
   "attachments": {},
   "cell_type": "markdown",
   "metadata": {},
   "source": [
    "````{admonition} Question\n",
    " En déduire une fonction `strategie_minmax(v, joueur)` qui prend en entrée une configuration `v` et un joueur `joueur` et qui renvoie le meilleur coup à jouer selon l'algorithme min-max avec l'heuristique `h1` et, par exemple, une profondeur de 2.  \n",
    "Tester avec la fonction ci-dessous pour vérifier que la stratégie min-max est meilleure que la stratégie aléatoire.\n",
    "````"
   ]
  },
  {
   "cell_type": "code",
   "execution_count": 18,
   "metadata": {},
   "outputs": [
    {
     "data": {
      "text/plain": [
       "[10, 0]"
      ]
     },
     "execution_count": 18,
     "metadata": {},
     "output_type": "execute_result"
    }
   ],
   "source": [
    "statistiques(strategie_minmax, strategie_aleatoire, 5, 5, 10)"
   ]
  }
 ],
 "metadata": {
  "kernelspec": {
   "display_name": "Python 3",
   "language": "python",
   "name": "python3"
  },
  "language_info": {
   "codemirror_mode": {
    "name": "ipython",
    "version": 3
   },
   "file_extension": ".py",
   "mimetype": "text/x-python",
   "name": "python",
   "nbconvert_exporter": "python",
   "pygments_lexer": "ipython3",
   "version": "3.9.2"
  }
 },
 "nbformat": 4,
 "nbformat_minor": 2
}
