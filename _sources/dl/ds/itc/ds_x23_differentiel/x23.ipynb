{
 "cells": [
  {
   "cell_type": "markdown",
   "metadata": {},
   "source": [
    "# DS 1 MP* Corrigé (X-ENS 2023)"
   ]
  },
  {
   "cell_type": "markdown",
   "metadata": {},
   "source": [
    "## Partie I : Diﬀérentiels par positions ﬁxes"
   ]
  },
  {
   "cell_type": "markdown",
   "metadata": {},
   "source": [
    "### Question 1\n",
    "\n",
    "La complexité est en O($n$) où $n$ est la taille de `texte1` (égal à la taille de `texte2`)."
   ]
  },
  {
   "cell_type": "code",
   "execution_count": 1,
   "metadata": {},
   "outputs": [],
   "source": [
    "def textes_égaux(texte1, texte2):\n",
    "    if len(texte1) != len(texte2):\n",
    "        return False\n",
    "    for i in range(len(texte1)):\n",
    "        if texte1[i] != texte2[i]:\n",
    "            return False\n",
    "    return True"
   ]
  },
  {
   "cell_type": "markdown",
   "metadata": {},
   "source": [
    "### Question 2\n",
    "\n",
    "La complexité est clairement O($n$)."
   ]
  },
  {
   "cell_type": "code",
   "execution_count": 2,
   "metadata": {},
   "outputs": [],
   "source": [
    "def distance(texte1, texte2):\n",
    "    d = 0\n",
    "    for i in range(len(texte1)):\n",
    "        if texte1[i] != texte2[i]:\n",
    "            d += 1\n",
    "    return d"
   ]
  },
  {
   "cell_type": "markdown",
   "metadata": {},
   "source": [
    "### Question 3\n",
    "\n",
    "On note $n_1$ et $n_2$ les tailles de `texte1` et `texte2`. La complexité est en O($n_1+n_2$) d'après les annotations ci-dessous."
   ]
  },
  {
   "cell_type": "code",
   "execution_count": 3,
   "metadata": {},
   "outputs": [],
   "source": [
    "def aucun_caractère_commun(texte1, texte2):\n",
    "    d = {}\n",
    "    for c in texte1: # O(n1)\n",
    "        d[c] = True\n",
    "    for c in texte2: # O(n2)\n",
    "        if c in d: # O(1)\n",
    "            return False\n",
    "    return True"
   ]
  },
  {
   "cell_type": "code",
   "execution_count": 4,
   "metadata": {},
   "outputs": [],
   "source": [
    "def tranche(arg_début, arg_avant, arg_après):\n",
    "    return {'début': arg_début, 'avant': arg_avant, 'après': arg_après}\n",
    "def début(tr):\n",
    "    return tr['début']\n",
    "def après(tr):\n",
    "    return tr['après']\n",
    "def avant(tr):\n",
    "    return tr['avant']\n",
    "def fin(tr):\n",
    "    return début(tr) + len(après(tr))"
   ]
  },
  {
   "cell_type": "markdown",
   "metadata": {},
   "source": [
    "### Question 4\n",
    "\n",
    "La complexité totale de la fonction ci-dessous correspond à la somme des longueurs des tranches, car `texte1[i:j]` est en O($j-i$). La complexité est donc bien O($n$)."
   ]
  },
  {
   "cell_type": "code",
   "execution_count": 5,
   "metadata": {},
   "outputs": [],
   "source": [
    "def différentiel(texte1, texte2):\n",
    "    L, i = [], 0\n",
    "    while True:\n",
    "        d = {}\n",
    "        while i < len(texte1) and texte1[i] == texte2[i]:\n",
    "            i += 1\n",
    "        if i == len(texte1):\n",
    "            return L\n",
    "        j = i + 1\n",
    "        while j < len(texte1) and texte1[j] != texte2[j]:\n",
    "            j += 1\n",
    "        L.append(tranche(i, texte1[i:j], texte2[i:j]))\n",
    "        i = j\n",
    "    return L"
   ]
  },
  {
   "cell_type": "code",
   "execution_count": 7,
   "metadata": {},
   "outputs": [
    {
     "data": {
      "text/plain": [
       "[{'début': 3,\n",
       "  'avant': ['g', 'r', 'a', 'n', 'd'],\n",
       "  'après': ['p', 'e', 't', 'i', 't']},\n",
       " {'début': 11,\n",
       "  'avant': ['â', 't', 'e', 'a', 'u'],\n",
       "  'après': ['i', 'e', 'n', ' ', 'a']},\n",
       " {'début': 17, 'avant': ['f'], 'après': ['s']},\n",
       " {'début': 19, 'avant': ['r', 't'], 'après': ['i', 'f']}]"
      ]
     },
     "execution_count": 7,
     "metadata": {},
     "output_type": "execute_result"
    }
   ],
   "source": [
    "texte1 = list(\"Le grand château fort\")\n",
    "texte2 = list(\"Le petit chien a soif\")\n",
    "d = différentiel(texte1, texte2)\n",
    "d"
   ]
  },
  {
   "cell_type": "markdown",
   "metadata": {},
   "source": [
    "### Question 5\n",
    "\n",
    "La concaténation ci-dessous est en O($n$) (car il faut recopier la chaîne de caractères en totalité, de taille $n$).  \n",
    "Si `diff` est de taille $k$, la complexité totale est donc O($nk$)."
   ]
  },
  {
   "cell_type": "code",
   "execution_count": 33,
   "metadata": {},
   "outputs": [],
   "source": [
    "def applique(texte1, diff):\n",
    "    texte2 = texte1.copy()\n",
    "    for d in diff:\n",
    "        texte2[début(d):début(d) + len(avant(d))] = après(d)\n",
    "    return texte2"
   ]
  },
  {
   "cell_type": "code",
   "execution_count": 35,
   "metadata": {},
   "outputs": [
    {
     "data": {
      "text/plain": [
       "['L',\n",
       " 'e',\n",
       " ' ',\n",
       " 'p',\n",
       " 'e',\n",
       " 't',\n",
       " 'i',\n",
       " 't',\n",
       " ' ',\n",
       " 'c',\n",
       " 'h',\n",
       " 'i',\n",
       " 'e',\n",
       " 'n',\n",
       " ' ',\n",
       " 'a',\n",
       " ' ',\n",
       " 's',\n",
       " 'o',\n",
       " 'i',\n",
       " 'f']"
      ]
     },
     "execution_count": 35,
     "metadata": {},
     "output_type": "execute_result"
    }
   ],
   "source": [
    "applique(texte1, d)"
   ]
  },
  {
   "cell_type": "markdown",
   "metadata": {},
   "source": [
    "### Question 6\n",
    "\n",
    "La fonction suivante est clairement en O($k$)."
   ]
  },
  {
   "cell_type": "code",
   "execution_count": 36,
   "metadata": {},
   "outputs": [
    {
     "data": {
      "text/plain": [
       "[{'début': 3,\n",
       "  'avant': ['p', 'e', 't', 'i', 't'],\n",
       "  'après': ['g', 'r', 'a', 'n', 'd']},\n",
       " {'début': 11,\n",
       "  'avant': ['i', 'e', 'n', ' ', 'a'],\n",
       "  'après': ['â', 't', 'e', 'a', 'u']},\n",
       " {'début': 17, 'avant': ['s'], 'après': ['f']},\n",
       " {'début': 19, 'avant': ['i', 'f'], 'après': ['r', 't']}]"
      ]
     },
     "execution_count": 36,
     "metadata": {},
     "output_type": "execute_result"
    }
   ],
   "source": [
    "def inverse(diff):\n",
    "    diff2 = []\n",
    "    for d in diff:\n",
    "        diff2.append(tranche(début(d), après(d), avant(d)))\n",
    "    return diff2\n",
    "\n",
    "inverse(d)"
   ]
  },
  {
   "cell_type": "code",
   "execution_count": 37,
   "metadata": {},
   "outputs": [],
   "source": [
    "def versionne(texte):\n",
    "    return {'courant' : texte, 'historique' : [] }\n",
    "def courant(texte_versionné):\n",
    "    return texte_versionné['courant']\n",
    "def remplace_courant(texte_versionné, texte):\n",
    "    texte_versionné['courant'] = texte\n",
    "def historique(texte_versionné):\n",
    "    return texte_versionné['historique']"
   ]
  },
  {
   "cell_type": "markdown",
   "metadata": {},
   "source": [
    "### Question 7\n",
    "\n",
    "- `modifie(texte_versionné, texte)` utilise `différentiel` en O($n$) et des opérations en O($1$) donc est en O($n$).  \n",
    "- `annule(texte_versionné)` utilise `inverse` en O($k$), applique en O($nk$), modifie en O($n$) et des opérations en O($1$). Donc la complexité de `annule(texte_versionné)` est en O($nk$)."
   ]
  },
  {
   "cell_type": "code",
   "execution_count": 38,
   "metadata": {},
   "outputs": [],
   "source": [
    "def modifie(texte_versionné, texte):\n",
    "    historique(texte_versionné).append(différentiel(courant(texte_versionné), texte))\n",
    "    remplace_courant(texte_versionné, texte)"
   ]
  },
  {
   "cell_type": "code",
   "execution_count": 47,
   "metadata": {},
   "outputs": [],
   "source": [
    "def annule(texte_versionné):\n",
    "    if len(historique(texte_versionné)) == 0:\n",
    "        return\n",
    "    texte = applique(courant(texte_versionné), inverse(historique(texte_versionné).pop()))\n",
    "    remplace_courant(texte_versionné, texte)\n",
    "    return texte"
   ]
  },
  {
   "cell_type": "code",
   "execution_count": 49,
   "metadata": {},
   "outputs": [
    {
     "name": "stdout",
     "output_type": "stream",
     "text": [
      "['v', 'i', 't', 'a']\n",
      "['v', 'i', 's', 'a']\n",
      "['a', 'v', 'i', 's']\n",
      "{'courant': ['a', 'v', 'i', 's'], 'historique': []}\n"
     ]
    }
   ],
   "source": [
    "texte_versionné = versionne(['a', 'v', 'i', 's'])\n",
    "modifie(texte_versionné, ['v', 'i', 's', 'a'])\n",
    "modifie(texte_versionné, ['v', 'i', 't', 'a'])\n",
    "modifie(texte_versionné, ['l', 'i', 's', 'a'])\n",
    "assert courant(texte_versionné) == ['l', 'i', 's', 'a']\n",
    "assert historique(texte_versionné) == [\n",
    "différentiel(['a', 'v', 'i', 's'], ['v', 'i', 's', 'a']),\n",
    "différentiel(['v', 'i', 's', 'a'], ['v', 'i', 't', 'a']),\n",
    "différentiel(['v', 'i', 't', 'a'], ['l', 'i', 's', 'a'])\n",
    "]\n",
    "print(annule(texte_versionné))\n",
    "print(annule(texte_versionné))\n",
    "print(annule(texte_versionné))\n",
    "print(texte_versionné)"
   ]
  },
  {
   "cell_type": "markdown",
   "metadata": {},
   "source": [
    "## Partie II : Diﬀérentiels sur des positions variables"
   ]
  },
  {
   "cell_type": "code",
   "execution_count": 12,
   "metadata": {},
   "outputs": [],
   "source": [
    "def tranche(arg_début_avant, arg_avant, arg_début_après, arg_après):\n",
    "    return {'début_avant': arg_début_avant,\n",
    "    'avant': arg_avant,\n",
    "    'début_après': arg_début_après,\n",
    "    'après': arg_après}\n",
    "def début_avant(tr):\n",
    "    return tr['début_avant']\n",
    "def début_après(tr):\n",
    "    return tr['début_après']\n",
    "def après(tr):\n",
    "    return tr['après']\n",
    "def avant(tr):\n",
    "    return tr['avant']\n",
    "def fin_avant(tr):\n",
    "    return début_avant(tr) + len(avant(tr))\n",
    "def fin_après(tr):\n",
    "    return début_après(tr) + len(après(tr))"
   ]
  },
  {
   "cell_type": "markdown",
   "metadata": {},
   "source": [
    "### Question 8\n",
    "\n",
    "La complexité est clairement O($n$) avec $n$ le nombre de tranches."
   ]
  },
  {
   "cell_type": "code",
   "execution_count": 13,
   "metadata": {},
   "outputs": [],
   "source": [
    "def poids(diff):\n",
    "    s = 0\n",
    "    for d in diff:\n",
    "        s += len(avant(d)) + len(après(d))\n",
    "    return s"
   ]
  },
  {
   "cell_type": "markdown",
   "metadata": {},
   "source": [
    "### Question 9\n",
    "\n",
    "$$M[i + 1][j + 1] = \\left\\{\n",
    "\\begin{array}{ll}\n",
    "M[i][j] & \\text{si } texte1[i] = texte2[j] \\\\\n",
    "1 + \\min(M[i][j + 1], M[i + 1][j])\n",
    " & \\text{sinon}\n",
    "\\end{array}\n",
    "\\right.$$\n",
    "\n",
    "Si $texte1[i] = texte2[j]$, il suffit de faire correspondre les $i$ premiers caractères de `texte1` avec les $j$ premiers caractères de `texte2`.  \n",
    "Sinon, il y a deux possibilités :  \n",
    "- faire correspondre les $i$ premiers caractères de `texte1` avec les $j + 1$ premiers caractères de `texte2` et ajouter $texte2[j]$ à la fin $texte1$ ;\n",
    "- ou faire correspondre les $i + 1$ premiers caractères de `texte1` avec les $j$ premiers caractères de `texte2` et supprimer $texte1[i]$."
   ]
  },
  {
   "cell_type": "markdown",
   "metadata": {},
   "source": [
    "### Question 10\n",
    "\n",
    "On utilise le cas de base $M[0][j] = j$ et $M[i][0] = i$.\n"
   ]
  },
  {
   "cell_type": "code",
   "execution_count": 14,
   "metadata": {},
   "outputs": [
    {
     "data": {
      "text/plain": [
       "[[0, 1, 2, 3, 4, 5, 6, 7, 8],\n",
       " [1, 2, 1, 2, 3, 4, 5, 6, 7],\n",
       " [2, 3, 2, 1, 2, 3, 4, 5, 6],\n",
       " [3, 4, 3, 2, 1, 2, 3, 4, 5],\n",
       " [4, 5, 4, 3, 2, 3, 4, 5, 6],\n",
       " [5, 6, 5, 4, 3, 2, 3, 4, 5],\n",
       " [6, 7, 6, 5, 4, 3, 4, 5, 6],\n",
       " [7, 8, 7, 6, 5, 4, 5, 6, 7]]"
      ]
     },
     "execution_count": 14,
     "metadata": {},
     "output_type": "execute_result"
    }
   ],
   "source": [
    "def levenshtein(texte1, texte2):\n",
    "    n1, n2 = len(texte1), len(texte2)\n",
    "    M = [[0]*(n2 + 1) for _ in range(n1 + 1)]\n",
    "    for i in range(n1 + 1):\n",
    "        M[i][0] = i\n",
    "    for j in range(n2 + 1):\n",
    "        M[0][j] = j\n",
    "    for i in range(n1):\n",
    "        for j in range(n2):\n",
    "            if texte1[i] == texte2[j]:\n",
    "                M[i + 1][j + 1] = M[i][j]\n",
    "            else:\n",
    "                M[i + 1][j + 1] = 1 + min(M[i][j + 1], M[i + 1][j])\n",
    "    return M\n",
    "\n",
    "levenshtein(['A','B','C','D','C','E','F'],  ['U','A','B','C','C','X','Y','Z'])"
   ]
  },
  {
   "cell_type": "markdown",
   "metadata": {},
   "source": [
    "### Question 11\n",
    "\n",
    "On parcourt la matrice comme sur la figure 3, en commencant par la case en bas à droite. À chaque fois que l'on va en haut, une lettre est supprimée de $texte1$ donc il faut la rajouter à `avant`. De même à chaque fois que l'on va à gauche, une lettre est insérée dans $texte2$ donc il faut la rajouter à `après`. Quand deux lettres sont égales, on ajoute la tranche trouvée et on calcule la tranche suivante."
   ]
  },
  {
   "cell_type": "code",
   "execution_count": 15,
   "metadata": {},
   "outputs": [],
   "source": [
    "def différentiel(texte1, texte2, M):\n",
    "    L, i, j = [], len(texte1), len(texte2)\n",
    "    avant, après = [], []\n",
    "    while i > 0 or j > 0:\n",
    "        if i > 0 and j > 0 and texte1[i - 1] == texte2[j - 1]:\n",
    "            if len(avant) > 0 or len(après) > 0:\n",
    "                L.append(tranche(i, avant, j, après))\n",
    "                avant, après = [], []\n",
    "            i, j = i - 1, j - 1\n",
    "        else:\n",
    "            if i > 0 and (j == 0 or M[i][j - 1] > M[i - 1][j]):\n",
    "                avant = [texte1[i - 1]] + avant\n",
    "                i -= 1\n",
    "            else:\n",
    "                après = [texte2[j - 1]] + après\n",
    "                j -= 1\n",
    "    if len(avant) > 0 or len(après) > 0:\n",
    "        L.append(tranche(i, avant, j, après))\n",
    "    return L[::-1]"
   ]
  },
  {
   "cell_type": "markdown",
   "metadata": {},
   "source": [
    "### Question 12\n",
    "\n",
    "On parcourt `diff1` et `diff2` en passant à chaque itération la tranche qui se termine en premier. On parcourt donc les tranches par ordre croissant de leur indice de fin."
   ]
  },
  {
   "cell_type": "code",
   "execution_count": 16,
   "metadata": {},
   "outputs": [],
   "source": [
    "def conflit(diff1, diff2):\n",
    "    i, j = 0, 0\n",
    "    while i < len(diff1) and j < len(diff2):\n",
    "        if fin_avant(diff1[i]) <= début_avant(diff2[j]):\n",
    "            i += 1\n",
    "        elif fin_avant(diff2[j]) <= début_avant(diff1[i]):\n",
    "            j += 1\n",
    "        else:\n",
    "            return True\n",
    "    return False"
   ]
  },
  {
   "cell_type": "code",
   "execution_count": 17,
   "metadata": {},
   "outputs": [
    {
     "name": "stdout",
     "output_type": "stream",
     "text": [
      "[{'début_avant': 9, 'avant': [], 'début_après': 9, 'après': [' ', 't', 'r', 'è', 's']}]\n",
      "[{'début_avant': 5, 'avant': ['a', 't'], 'début_après': 5, 'après': ['i', 'e', 'n']}]\n"
     ]
    }
   ],
   "source": [
    "texte = ['l', 'e', ' ', 'c', 'h', 'a', 't', ' ', 'a', ' ', 's', 'o', 'i', 'f']\n",
    "texte1 = ['l', 'e', ' ', 'c', 'h', 'a', 't', ' ', 'a', ' ', 't', 'r', 'è', 's',\n",
    "' ', 's', 'o', 'i', 'f']\n",
    "texte2 = ['l', 'e', ' ', 'c', 'h', 'i', 'e', 'n', ' ', 'a', ' ', 's', 'o', 'i', 'f']\n",
    "diff1 = différentiel(texte, texte1, levenshtein(texte, texte1))\n",
    "print(diff1)\n",
    "diff2 = différentiel(texte, texte2, levenshtein(texte, texte2))\n",
    "print(diff2)\n",
    "assert diff2 == [tranche(5, ['a', 't'], 5, ['i', 'e', 'n'])]\n",
    "assert not conflit(diff1, diff2)"
   ]
  },
  {
   "cell_type": "markdown",
   "metadata": {},
   "source": [
    "### Question 13"
   ]
  },
  {
   "cell_type": "code",
   "execution_count": 18,
   "metadata": {},
   "outputs": [],
   "source": [
    "def fusionne(diff1, diff2):\n",
    "    diff = []\n",
    "    i, j = 0, 0\n",
    "    while i < len(diff1) and j < len(diff2):\n",
    "        if fin_avant(diff1[i]) <= début_avant(diff2[j]):\n",
    "            diff.append(diff1[i])\n",
    "            i += 1\n",
    "        else:\n",
    "            diff.append(diff2[j])\n",
    "            j += 1\n",
    "    for k in range(i, len(diff1)):\n",
    "        diff.append(diff1[k])\n",
    "    for k in range(j, len(diff2)):\n",
    "        diff.append(diff2[k])\n",
    "    return diff"
   ]
  },
  {
   "cell_type": "code",
   "execution_count": 26,
   "metadata": {},
   "outputs": [],
   "source": [
    "def applique(texte1, diff):\n",
    "    texte2 = texte1\n",
    "    d = 0\n",
    "    for t in diff:\n",
    "        texte2 = texte2[:début_avant(t) + d] + après(t) + texte2[fin_avant(t) + d:]\n",
    "        d += len(après(t)) - len(avant(t))\n",
    "    return texte2"
   ]
  },
  {
   "cell_type": "code",
   "execution_count": 28,
   "metadata": {},
   "outputs": [
    {
     "name": "stdout",
     "output_type": "stream",
     "text": [
      "['l', 'e', ' ', 'c', 'h', 'i', 'e', 'n', ' ', 'a', ' ', 't', 'r', 'è', 's', ' ', 's', 'o', 'i', 'f']\n"
     ]
    }
   ],
   "source": [
    "print(applique(texte, fusionne(diff1, diff2)))"
   ]
  },
  {
   "cell_type": "markdown",
   "metadata": {},
   "source": [
    "### Question 14"
   ]
  },
  {
   "cell_type": "code",
   "execution_count": 22,
   "metadata": {},
   "outputs": [],
   "source": [
    "def successeurs(texte1, texte2, sommet):\n",
    "    x, y = sommet\n",
    "    succ = [(x + 1, y, 1), (x, y + 1, 1)]\n",
    "    if texte[sommet[0]] == texte2[sommet[1]]:\n",
    "        succ.append((x + 1, y + 1, 0))\n",
    "    return succ"
   ]
  },
  {
   "cell_type": "markdown",
   "metadata": {},
   "source": [
    "### Question 15\n",
    "\n",
    "Propriété de l'algorithme de Dijkstra : à chaque fois qu'un sommet `v` est extrait de la file, `dist[v]` contient la distance entre `entrée` et `v` dans le graphe.  \n",
    "`dist_final` contient la distance de `entrée` à chaque sommet du graphe (`dist_final[v]` contient la distance de `entrée` à `v`). L'ensemble des clés de `dist_final` est l'ensemble des sommets visités du graphe."
   ]
  },
  {
   "cell_type": "markdown",
   "metadata": {},
   "source": [
    "### Question 16\n",
    "\n",
    "Soient $n_1$ et $n_2$ les tailles de `texte1` et `texte2`.  \n",
    "Chaque sommet est extrait au plus une fois de la file, donc il y a $n_1 n_2$ itérations du `while`.  \n",
    "Chacune de ces itérations est en O($\\log(n_1 n_2)$) car il y a au plus $3n_1 n_2$ arcs donc au plus $3n_1 n_2$ éléments dans la file et que les fonctions `extraire_min` et `ajoute` sont en complexité logarithmique.  \n",
    "Donc la complexité de l'algorithme de Dijkstra est O($n_1 n_2 \\log(n_1 n_2)$).\n",
    "\n",
    "La complexité est donc moins intéressante que celle de l'algorithme de programmation dynamique (en O($n_1 n_2$)). Cependant, si le sommet `sortie` peut être visité avant la fin de l'algorithme de Dijkstra, ce qui peut diminuer sa complexité."
   ]
  },
  {
   "cell_type": "markdown",
   "metadata": {},
   "source": [
    "### Question 17\n",
    "\n",
    "On peut utiliser $h((i, j)) = |i - j|$ comme heuristique. $h$ est admissible car s'il y a une différence de taille entre les deux textes alors il faut au moins $|i - j|$ opérations pour les rendre identiques."
   ]
  },
  {
   "cell_type": "code",
   "execution_count": 29,
   "metadata": {},
   "outputs": [
    {
     "data": {
      "text/plain": [
       "[[0, 1, 2], [1, 2, 3], [2, 1, 2], [3, 2, 3]]"
      ]
     },
     "execution_count": 29,
     "metadata": {},
     "output_type": "execute_result"
    }
   ],
   "source": [
    "levenshtein(['A', 'B', 'C'], ['B', 'X'])"
   ]
  }
 ],
 "metadata": {
  "kernelspec": {
   "display_name": "Python 3",
   "language": "python",
   "name": "python3"
  },
  "language_info": {
   "codemirror_mode": {
    "name": "ipython",
    "version": 3
   },
   "file_extension": ".py",
   "mimetype": "text/x-python",
   "name": "python",
   "nbconvert_exporter": "python",
   "pygments_lexer": "ipython3",
   "version": "3.9.2"
  }
 },
 "nbformat": 4,
 "nbformat_minor": 2
}
