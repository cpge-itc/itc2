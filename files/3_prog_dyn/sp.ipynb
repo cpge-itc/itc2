{
 "cells": [
  {
   "cell_type": "markdown",
   "metadata": {},
   "source": [
    "# Application aux plus courts chemins\n",
    "\n",
    "<iframe src=https://mozilla.github.io/pdf.js/web/viewer.html?file=https://raw.githubusercontent.com/cpge-itc/itc2/main/files/3_prog_dyn/sp.pdf?token=GHSAT0AAAAAABX6XFRWYXFHKWW5O7OTWZXYYYJED7Q#zoom=page-fit&pagemode=none height=500 width=100% allowfullscreen></iframe>"
   ]
  },
  {
   "cell_type": "markdown",
   "metadata": {},
   "source": [
    "## Graphe pondéré\n",
    "\n",
    "On utilisera le graphe suivant dans les exemples :\n",
    "<center><img src=https://raw.githubusercontent.com/cpge-itc/itc2/main/files/3_prog_dyn/img/warshall_ex.png width=300></center>\n",
    "\n",
    "$$M = \n",
    "\\begin{pmatrix}\n",
    "0 & 3 & 8 & \\infty & -4\\\\\n",
    "\\infty & 0 & \\infty & 1 & 7\\\\\n",
    "\\infty & 4 & 0 & \\infty & \\infty\\\\\n",
    "2 & \\infty & -5 & 0 & \\infty\\\\\n",
    "\\infty & \\infty & \\infty & 6 & 0\\\\\n",
    "\\end{pmatrix} \n",
    "$$"
   ]
  },
  {
   "cell_type": "code",
   "execution_count": 2,
   "metadata": {},
   "outputs": [
    {
     "data": {
      "text/plain": [
       "[[0, 3, 8, inf, -4],\n",
       " [inf, 0, inf, 1, 7],\n",
       " [inf, 4, 0, inf, inf],\n",
       " [2, inf, -5, 0, inf],\n",
       " [inf, inf, inf, 6, 0]]"
      ]
     },
     "execution_count": 2,
     "metadata": {},
     "output_type": "execute_result"
    }
   ],
   "source": [
    "g = [\n",
    "    [0, 3, 8, float(\"inf\"), -4],\n",
    "    [float(\"inf\"), 0, float(\"inf\"), 1, 7],\n",
    "    [float(\"inf\"), 4, 0, float(\"inf\"), float(\"inf\")],\n",
    "    [2, float(\"inf\"), -5, 0, float(\"inf\")],\n",
    "    [float(\"inf\"), float(\"inf\"), float(\"inf\"), 6, 0]\n",
    "]\n",
    "\n",
    "g"
   ]
  },
  {
   "cell_type": "markdown",
   "metadata": {},
   "source": [
    "## Bellman-Ford"
   ]
  },
  {
   "cell_type": "code",
   "execution_count": 3,
   "metadata": {},
   "outputs": [],
   "source": [
    "def bellman(g, r):\n",
    "    n = len(g)\n",
    "    d = [float(\"inf\")]*n\n",
    "    d[r] = 0\n",
    "    for k in range(n - 2):\n",
    "        for u in range(n):\n",
    "            for v in range(len(g[u])):\n",
    "                d[v] = min(d[v], d[u] + g[u][v])\n",
    "    return d "
   ]
  },
  {
   "cell_type": "code",
   "execution_count": 4,
   "metadata": {},
   "outputs": [
    {
     "data": {
      "text/plain": [
       "[0, 1, -3, 2, -4]"
      ]
     },
     "execution_count": 4,
     "metadata": {},
     "output_type": "execute_result"
    }
   ],
   "source": [
    "bellman(g, 0)"
   ]
  },
  {
   "cell_type": "markdown",
   "metadata": {},
   "source": [
    "## Floyd-Warshall"
   ]
  },
  {
   "cell_type": "code",
   "execution_count": 12,
   "metadata": {},
   "outputs": [
    {
     "data": {
      "text/plain": [
       "[[0, 1, -3, 2, -4],\n",
       " [3, 0, -4, 1, -1],\n",
       " [7, 4, 0, 5, 3],\n",
       " [2, -1, -5, 0, -2],\n",
       " [8, 5, 1, 6, 0]]"
      ]
     },
     "execution_count": 12,
     "metadata": {},
     "output_type": "execute_result"
    }
   ],
   "source": [
    "import copy\n",
    "\n",
    "def floyd_warshall(g):\n",
    "    n = len(g)\n",
    "    d = copy.deepcopy(g)\n",
    "    for k in range(n):\n",
    "        for u in range(n):\n",
    "            for v in range(n):\n",
    "                d[u][v] = min(d[u][v], d[u][k] + d[k][v])\n",
    "    return d\n",
    "\n",
    "floyd_warshall(g)"
   ]
  },
  {
   "cell_type": "markdown",
   "metadata": {},
   "source": [
    "## Graphe acyclique\n",
    "\n",
    "<center><img src=https://raw.githubusercontent.com/fortierq/tikz/master/graph/examples/weighted/directed/g1/g1.png width=300></center>"
   ]
  },
  {
   "cell_type": "code",
   "execution_count": 14,
   "metadata": {},
   "outputs": [],
   "source": [
    "# on utilise une liste d'adjacence ici, pour avoir une complexité linéaire\n",
    "G = [\n",
    "    [(1, 0), (3, 5)],\n",
    "    [(2, 1), (5, 4), (4, 3)],\n",
    "    [],\n",
    "    [],\n",
    "    [(3, 1)],\n",
    "    [(2, -1), (4, -3)]\n",
    "]"
   ]
  },
  {
   "cell_type": "code",
   "execution_count": 15,
   "metadata": {},
   "outputs": [],
   "source": [
    "def dfs_postfixe(G, s):\n",
    "    \"\"\"Renvoie un tri topologique de G, avec un dfs partant de s.\"\"\"\n",
    "    seen = [False]*len(G)\n",
    "    L = []\n",
    "    def aux(G, u):\n",
    "        if not seen[u]:\n",
    "            seen[u] = True\n",
    "            for v, w in G[u]:\n",
    "                aux(G, v)\n",
    "            L.append(u)\n",
    "    aux(G, s)\n",
    "    return L[::-1] # inverse la liste"
   ]
  },
  {
   "cell_type": "code",
   "execution_count": 16,
   "metadata": {},
   "outputs": [
    {
     "data": {
      "text/plain": [
       "[0, 1, 5, 4, 3, 2]"
      ]
     },
     "execution_count": 16,
     "metadata": {},
     "output_type": "execute_result"
    }
   ],
   "source": [
    "dfs_postfixe(G, 0)"
   ]
  },
  {
   "cell_type": "code",
   "execution_count": 21,
   "metadata": {},
   "outputs": [],
   "source": [
    "def distances_acyclic(G, s):\n",
    "    \"\"\"Renvoie la liste des distances depuis s dans G.\"\"\"\n",
    "    n = len(G)\n",
    "    d = [float('inf')]*n\n",
    "    d[s] = 0\n",
    "    for u in dfs_postfixe(G, s):\n",
    "        for v, w in G[u]:\n",
    "            d[v] = min(d[v], d[u] + w)\n",
    "    return d"
   ]
  },
  {
   "cell_type": "code",
   "execution_count": 22,
   "metadata": {},
   "outputs": [
    {
     "data": {
      "text/plain": [
       "[0, 0, 1, 2, 1, 4]"
      ]
     },
     "execution_count": 22,
     "metadata": {},
     "output_type": "execute_result"
    }
   ],
   "source": [
    "distances_acyclic(G, 0)"
   ]
  }
 ],
 "metadata": {
  "kernelspec": {
   "display_name": "Python 3.9.2 64-bit",
   "language": "python",
   "name": "python3"
  },
  "language_info": {
   "codemirror_mode": {
    "name": "ipython",
    "version": 3
   },
   "file_extension": ".py",
   "mimetype": "text/x-python",
   "name": "python",
   "nbconvert_exporter": "python",
   "pygments_lexer": "ipython3",
   "version": "3.9.2"
  },
  "vscode": {
   "interpreter": {
    "hash": "31f2aee4e71d21fbe5cf8b01ff0e069b9275f58929596ceb00d14d90e3e16cd6"
   }
  }
 },
 "nbformat": 4,
 "nbformat_minor": 2
}
