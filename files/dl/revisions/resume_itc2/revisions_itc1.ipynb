{
 "cells": [
  {
   "cell_type": "markdown",
   "metadata": {},
   "source": [
    "# TP : révisions d'informatique commune 1ère année"
   ]
  },
  {
   "cell_type": "markdown",
   "metadata": {},
   "source": [
    "## Représentation des nombres"
   ]
  },
  {
   "cell_type": "markdown",
   "metadata": {},
   "source": [
    "**Exercice** : Ecrire une fonction `to_base10(L, b)` qui renvoie l'entier (en base 10) qui s'écrit en base $b$ avec les chiffres de la liste `L`.  \n",
    "Par exemple, `to_base10([0, 0, 1, 1], 2)` doit renvoyer $2^2 + 2^3 = 12$."
   ]
  },
  {
   "cell_type": "code",
   "execution_count": 3,
   "metadata": {},
   "outputs": [
    {
     "data": {
      "text/plain": [
       "12"
      ]
     },
     "execution_count": 3,
     "metadata": {},
     "output_type": "execute_result"
    }
   ],
   "source": [
    "to_base10([0, 0, 1, 1], 2)"
   ]
  },
  {
   "cell_type": "markdown",
   "metadata": {},
   "source": [
    "**Exercice** : Ecrire une fonction `from_base10(n, b)` qui renvoie la liste des chiffres de l'entier `n` en base `b`."
   ]
  },
  {
   "cell_type": "code",
   "execution_count": 5,
   "metadata": {},
   "outputs": [
    {
     "data": {
      "text/plain": [
       "[0, 0, 1, 1]"
      ]
     },
     "execution_count": 5,
     "metadata": {},
     "output_type": "execute_result"
    }
   ],
   "source": [
    "from_base10(12, 2)"
   ]
  },
  {
   "cell_type": "markdown",
   "metadata": {},
   "source": [
    "**Exercice** : Quelle valeur donne `0.1 + 0.1 + 0.1` ? Expliquer pourquoi."
   ]
  },
  {
   "cell_type": "markdown",
   "metadata": {},
   "source": [
    "**Exercice** : Quelle valeur donne `2.0**53 + 1.0 - 2.0**53` ? `2.0**52 + 1.0 - 2.0**52` ? Expliquer."
   ]
  },
  {
   "cell_type": "markdown",
   "metadata": {},
   "source": [
    "## Dichotomie"
   ]
  },
  {
   "cell_type": "markdown",
   "metadata": {},
   "source": [
    "**Exercice** : Ecrire une fonction `dichotomie(L, e)` qui renvoie `True` si `e` est dans la liste triée `L` et `False` sinon, en complexité $O(\\log n)$. Justifier la complexité."
   ]
  },
  {
   "cell_type": "code",
   "execution_count": null,
   "metadata": {},
   "outputs": [],
   "source": [
    "def dichotomie(e, L):\n",
    "        i, j = 0, len(L) - 1  # i et j sont les indices de L entre lesquels on cherche e\n",
    "        while ...: # tant qu'il reste au moins 1 élément entre les indices i et j\n",
    "                m = ... # milieu de i et j\n",
    "                if e < L[m]:\n",
    "                        ... # regarder dans la partie gauche\n",
    "                elif e > L[m]:\n",
    "                        ... # regarder dans la partie droite\n",
    "                else:\n",
    "                        ... # on a trouvé e\n",
    "        ... # e n'a pas été trouvé"
   ]
  },
  {
   "cell_type": "code",
   "execution_count": 8,
   "metadata": {},
   "outputs": [
    {
     "data": {
      "text/plain": [
       "True"
      ]
     },
     "execution_count": 8,
     "metadata": {},
     "output_type": "execute_result"
    }
   ],
   "source": [
    "dichotomie([1, 2, 3, 4, 5, 6, 7, 8, 9], 5) and not dichotomie([1, 2, 3, 4, 5, 6, 7, 8, 9], 10)"
   ]
  },
  {
   "cell_type": "markdown",
   "metadata": {},
   "source": [
    "**Exercice** : Donner un invariant de boucle permettant de prouver la correction de la fonction `dichotomie`."
   ]
  },
  {
   "cell_type": "markdown",
   "metadata": {},
   "source": [
    "## Graphes"
   ]
  },
  {
   "cell_type": "markdown",
   "metadata": {},
   "source": [
    "**Exercice** : Ecrire une fonction `mat_to_adj(M)` qui convertit une matrice d'adjacence `M` en liste d'adjacence."
   ]
  },
  {
   "cell_type": "markdown",
   "metadata": {},
   "source": [
    "**Exercice** : Ecrire une fonction `dfs(G, s)` qui renvoie la liste des sommets visités par un parcours en profondeur du graphe `G` depuis le sommet `s`. `G` est représenté par une liste d'adjacence."
   ]
  },
  {
   "cell_type": "code",
   "execution_count": 9,
   "metadata": {},
   "outputs": [
    {
     "ename": "IndentationError",
     "evalue": "expected an indented block (3468891791.py, line 9)",
     "output_type": "error",
     "traceback": [
      "\u001b[0;36m  Cell \u001b[0;32mIn [9], line 9\u001b[0;36m\u001b[0m\n\u001b[0;31m    aux(s)\u001b[0m\n\u001b[0m    ^\u001b[0m\n\u001b[0;31mIndentationError\u001b[0m\u001b[0;31m:\u001b[0m expected an indented block\n"
     ]
    }
   ],
   "source": [
    "def dfs(G, s):\n",
    "    # définir une liste de booléens pour savoir si un sommet a été visité\n",
    "    def aux(u): # fonction récursive\n",
    "        # si u n'a pas été visité :\n",
    "            # afficher u\n",
    "            # marquer u comme visité\n",
    "            # pour chaque voisin v de u\n",
    "                # appeler aux(v)\n",
    "    aux(s)"
   ]
  },
  {
   "cell_type": "code",
   "execution_count": 14,
   "metadata": {},
   "outputs": [
    {
     "name": "stdout",
     "output_type": "stream",
     "text": [
      "0\n",
      "1\n",
      "2\n",
      "4\n"
     ]
    }
   ],
   "source": [
    "dfs([[1, 4], [0, 2], [], [0, 1], [], []], 0)"
   ]
  },
  {
   "cell_type": "markdown",
   "metadata": {},
   "source": [
    "**Exercice** : Expliquer l'intérêt et le fonctionnement d'un parcours en largeur."
   ]
  },
  {
   "cell_type": "markdown",
   "metadata": {},
   "source": [
    "## Dijkstra\n",
    "\n",
    "On rappelle qu'une file de priorité (min) est une structure de donnée permettant de récupérer efficacement l'élément de plus petite priorité. \n",
    "On définit le type suivant de file de priorité :"
   ]
  },
  {
   "cell_type": "code",
   "execution_count": 17,
   "metadata": {},
   "outputs": [],
   "source": [
    "class PriorityQueue:\n",
    "    def __init__(self) -> None:\n",
    "        self.d = dict()\n",
    "\n",
    "    def update(self, element, priority):\n",
    "        self.d[element] = priority\n",
    "\n",
    "    def add(self, element, priority):\n",
    "        self.d[element] = priority\n",
    "\n",
    "    def take_min(self):\n",
    "        k_min = None\n",
    "        for k in self.d:\n",
    "            if k_min is None or self.d[k] < self.d[k_min]:\n",
    "                k_min = k\n",
    "        self.d.pop(k_min)\n",
    "        return k_min\n",
    "\n",
    "    def is_empty(self):\n",
    "        return len(self.d) == 0\n",
    "\n",
    "    def __contains__(self, element):\n",
    "        return element in self.d"
   ]
  },
  {
   "cell_type": "markdown",
   "metadata": {},
   "source": [
    "Il n'est pas nécessaire de comprendre ce code, juste de savoir l'utiliser :"
   ]
  },
  {
   "cell_type": "code",
   "execution_count": 20,
   "metadata": {},
   "outputs": [
    {
     "data": {
      "text/plain": [
       "2"
      ]
     },
     "execution_count": 20,
     "metadata": {},
     "output_type": "execute_result"
    }
   ],
   "source": [
    "q = PriorityQueue() # file de priorité vide\n",
    "q.add(0, 6) # ajoute l'élément 0 avec une priorité de 6\n",
    "q.add(1, 3)\n",
    "q.add(2, 5)\n",
    "q.take_min() # renvoie l'élément de priorité min, ici 1\n",
    "q.update(0, 2) # met à jour la priorité de l'élément 0 à 2\n",
    "q.take_min()\n",
    "q.add(3, 7)\n",
    "q.take_min()"
   ]
  },
  {
   "cell_type": "markdown",
   "metadata": {},
   "source": [
    "**Exercice** : Rappeler à quoi sert l'algorithme de Dijkstra et quelle condition le graphe doit vérifier pour que l'algorithme fonctionne."
   ]
  },
  {
   "cell_type": "markdown",
   "metadata": {},
   "source": [
    "**Exercice** : Compléter la fonction suivante pour implémenter l'algorithme de Dijkstra permettant de trouver les distances de $s$ aux autres sommets de $G$. $G$ est représenté par une matrice d'adjacence pondérée (`G[i][j]` est le poids de l'arête entre $i$ et $j$, `float('inf')` s'il n'y a pas d'arête).  \n",
    "Tester sur un graphe de votre choix."
   ]
  },
  {
   "cell_type": "code",
   "execution_count": 21,
   "metadata": {},
   "outputs": [],
   "source": [
    "def dijkstra(G, s):\n",
    "    n = ... # nombre de sommets de G\n",
    "    dist = ... # créer une liste de taille n remplie de float(\"inf\")\n",
    "    dist[s] = 0\n",
    "    q = PriorityQueue()\n",
    "    # ajouter chaque sommet v de G à q, avec comme priorité dist[v]\n",
    "    while ...: # tant que q n'est pas vide\n",
    "        u = ... # extraire de q le sommet de priorité minimum\n",
    "        for v in range(n): # pour chaque voisin de u\n",
    "            d = dist[u] + G[u][v]\n",
    "            if v in q and ...: # si d < dist[v]\n",
    "                ... # mettre à jour dist[v] et la priorité de v\n",
    "    return dist"
   ]
  },
  {
   "cell_type": "markdown",
   "metadata": {},
   "source": [
    "**Exercice** : Résoudre [cet exercice](https://leetcode.com/problems/minimum-path-sum/description/)."
   ]
  },
  {
   "cell_type": "markdown",
   "metadata": {},
   "source": [
    "## A*\n",
    "\n",
    "l'algorithme A* permet de trouver un plus court chemin d'un sommet $s$ à un sommet $t$ fixé dans un graphe $G$ (contrairement à Dijkstra, qui trouve le plus court chemin de $s$ à tous les sommets). Il est plus rapide que Dijkstra si une bonne heuristique est utilisée.\n",
    "\n",
    "Principe de l'algorithme A* :\n",
    "1. Définir une fonction $h$ telle que $h(v)$ soit une estimation de la distance de $v$ à $t$.\n",
    "2. Modifier l'algorithme de Dijkstra en utilisant `dist[u] + G[u][v] + h(v)` comme priorité, au lieu de `dist[u] + G[u][v]`."
   ]
  },
  {
   "cell_type": "markdown",
   "metadata": {},
   "source": [
    "**Exercice** : Modifier la fonction `dijkstra` pour implémenter l'algorithme A*."
   ]
  },
  {
   "cell_type": "markdown",
   "metadata": {},
   "source": [
    "**Exercice** : Si les sommets du graphes sont des points du plan $\\mathbb{R}^2$, quelle heuristique $h$ serait-il raisonnable d'utiliser pour trouver le plus court chemin entre deux points ? Plusieurs réponses sont possibles."
   ]
  }
 ],
 "metadata": {
  "kernelspec": {
   "display_name": "Python 3",
   "language": "python",
   "name": "python3"
  },
  "language_info": {
   "codemirror_mode": {
    "name": "ipython",
    "version": 3
   },
   "file_extension": ".py",
   "mimetype": "text/x-python",
   "name": "python",
   "nbconvert_exporter": "python",
   "pygments_lexer": "ipython3",
   "version": "3.9.2"
  }
 },
 "nbformat": 4,
 "nbformat_minor": 2
}
