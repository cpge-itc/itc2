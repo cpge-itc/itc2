{
 "cells": [
  {
   "cell_type": "markdown",
   "metadata": {},
   "source": [
    "# TP : Révisions de 1ère année\n",
    "\n",
    "Pour programmer, vous pouvez soit utiliser Pyzo, soit [Basthon](https://notebook.basthon.fr) en cliquant sur la \"fusée\" en haut à droite de chaque TP.\n",
    "\n",
    "Commandes Basthon :\n",
    "\n",
    "- Ctrl + Entrée : exécuter la cellule\n",
    "- Shift + Entrée : exécuter la cellule puis passer à la suivante\n",
    "- Entrée : passer en mode édition\n",
    "- Échap : sortir du mode édition\n",
    "\n",
    "Les commandes suivantes sont valables uniquement hors du mode édition :\n",
    "\n",
    "- A : créer une nouvelle cellule (en haut)\n",
    "- B : créer une nouvelle cellule (en bas)\n",
    "- D D : supprimer la cellule"
   ]
  },
  {
   "cell_type": "markdown",
   "metadata": {},
   "source": [
    "## Bases de Python"
   ]
  },
  {
   "cell_type": "markdown",
   "metadata": {},
   "source": [
    "**Exercice** : Calculer $u_{10}$, où $u_n$ est définie par $u_0 = 42$ et $u_{n+1} = \\sqrt{u_n} + 3u_n$.  \n",
    "Il faut trouver 2787204.895558157."
   ]
  },
  {
   "cell_type": "markdown",
   "metadata": {},
   "source": [
    "**Exercice** : Écrire une fonction `appartient` telle que `appartient(x, L)` renvoie `True` si `x` appartient à la liste `L`, `False` sinon."
   ]
  },
  {
   "cell_type": "code",
   "execution_count": 3,
   "metadata": {},
   "outputs": [
    {
     "name": "stdout",
     "output_type": "stream",
     "text": [
      "True\n",
      "False\n"
     ]
    }
   ],
   "source": [
    "print(appartient(3, [1, 5, 3, 4, 1]))\n",
    "print(appartient(3, [1, 5, 4, 2]))"
   ]
  },
  {
   "cell_type": "markdown",
   "metadata": {},
   "source": [
    "**Exercice** : Écrire une fonction pour déterminer si une liste est triée par ordre croissant."
   ]
  },
  {
   "cell_type": "code",
   "execution_count": 5,
   "metadata": {},
   "outputs": [
    {
     "name": "stdout",
     "output_type": "stream",
     "text": [
      "True\n",
      "False\n"
     ]
    }
   ],
   "source": [
    "print(croissant([1, 2, 3, 4, 5]))\n",
    "print(croissant([1, 2, 3, 5, 4]))"
   ]
  },
  {
   "cell_type": "markdown",
   "metadata": {},
   "source": [
    "## Dichotomie\n",
    "\n",
    "La méthode par dichotomie consiste à divise à chaque étape la taille du problème par 2.  \n",
    "L'exemple le plus classique est la recherche par dichotomie dans une liste **triée** : on souhaite savoir si un élément $e$ appartient à une liste **triée** `L`.  "
   ]
  },
  {
   "cell_type": "markdown",
   "metadata": {},
   "source": [
    "Considérons par exemple `L` = $[-2, 1, 2, 4, 6, 7, 8, 9, 11, 12, 14, 15, 18, 22, 54]$ et $e$ = $14$.  \n",
    "\n",
    "Au lieu de commencer par regarder le 1er élément de `L`, on va regarder l'élément du milieu (ici $9$):\n",
    "\n",
    "$$\n",
    "    [-2, 1, 2, 4, 6, 7, 8, \\underline{\\mathbf{9}}, 11, 12, 14, 15, 18, 22, 54]\n",
    "$$\n",
    "\n",
    "Comme $9 < 14$ et que la liste est triée par ordre croissant, on en déduit que $e$, s'il est dans `L`, est forcément dans la partie droite :\n",
    "\n",
    "$$\n",
    "    [-2, 1, 2, 4, 6, 7, 8, {9}, \\boxed{11, 12, 14, {15}, 18, 22, 54}]\n",
    "$$\n",
    "\n",
    "On se restreint donc par la suite à la partie de `L` qui est encadrée. On compare $e$ au milieu de cette partie, c'est-à-dire $15$ :\n",
    "\n",
    "$$\n",
    "    [-2, 1, 2, 4, 6, 7, 8, {9}, \\boxed{11, 12, 14, \\underline{\\textbf{15}}, 18, 22, 54}]\n",
    "$$\n",
    "\n",
    "Comme $e < 15$, on peut cette fois se restreinte à la partie gauche. On cherche donc maintenant $e$ dans la zone suivante :\n",
    "\n",
    "$$\n",
    "    [-2, 1, 2, 4, 6, 7, 8, {9}, \\boxed{11, {12}, 14}, {15}, 18, 22, 54]\n",
    "$$\n",
    "\n",
    "On compare encore une fois $e$ au milieu :\n",
    "\n",
    "$$\n",
    "    [-2, 1, 2, 4, 6, 7, 8, {9}, \\boxed{11, \\underline{\\textbf{12}}, 14}, {15}, 18, 22, 54]\n",
    "$$\n",
    "\n",
    "Comme $e > 12$, on regarde à droite :\n",
    "\n",
    "$$\n",
    "    [-2, 1, 2, 4, 6, 7, 8, {9}, 11, {12}, \\boxed{\\underline{\\textbf{14}}}, {15}, 18, 22, 54]\n",
    "$$\n",
    "\n",
    "On a trouvé $e$ !"
   ]
  },
  {
   "cell_type": "markdown",
   "metadata": {},
   "source": [
    "**Exercice** : Compléter le code suivant permettant de rechercher un élément dans une liste triée, par dichotomie.\n",
    "```python\n",
    "def dichotomie(e, L):\n",
    "    i, j = 0, len(L) - 1  # i et j sont les indices de L entre lesquels on cherche e\n",
    "    while ...: # tant qu'il reste au moins 1 élément entre les indices i et j\n",
    "        m = ... # milieu de i et j\n",
    "        if e < L[m]:\n",
    "            ... # regarder dans la partie gauche\n",
    "        elif e > L[m]:\n",
    "            ... # regarder dans la partie droite\n",
    "        else:\n",
    "            ... # on a trouvé e\n",
    "    ... # e n'a pas été trouvé\n",
    "```\n",
    "Puis tester votre fonction avec le jeu de tests suivant (`assert` déclenche une erreur si son argument est `False`) :  \n",
    "```python\n",
    "L1, L2, L3 = [0, 2], [0, 2, 5], [-2, 1, 2, 4, 6, 7, 8, 9, 11, 12, 14, 15, 18, 22, 54]\n",
    "assert (dichotomie(0, L1) and not dichotomie(1, L1))\n",
    "assert (dichotomie(5, L2) and not dichotomie(7, L2))\n",
    "assert (dichotomie(14, L3) and not dichotomie(-4, L3))\n",
    "```"
   ]
  },
  {
   "cell_type": "markdown",
   "metadata": {},
   "source": [
    "## Graphes\n",
    "\n",
    "[Si besoin, vous pouvez revoir ce cours (Graphe : Définitions et Parcours de graphe)](https://cpge-itc.github.io/itc1/5_graph/1_definition/1_graph/).\n",
    "\n",
    "### Représentation par matrice d'adjacence"
   ]
  },
  {
   "cell_type": "markdown",
   "metadata": {},
   "source": [
    "**Exercice** : Définir une fonction `make_matrix` telle que `make_matrix(n, p)` renvoie une matrice $n\\times p$ remplie de $0$, sous forme de liste de listes."
   ]
  },
  {
   "cell_type": "markdown",
   "metadata": {},
   "source": [
    "**Exercice** : Définir dans une variable `G` la matrice d'adjacence du graphe suivant (on pourra éventuellement utiliser les fonctions précédentes) :\n",
    "<center><img src=https://github.com/cpge-itc/itc1/raw/4be1ee8d9679ffae521c506ad54acb9e6099c614/files/5_graph/tp/tp2/g.png width=200></center>"
   ]
  },
  {
   "cell_type": "markdown",
   "metadata": {},
   "source": [
    "**Exercice** : Définir une fonction `voisins` telle que `voisins(G, v)` renvoie la liste des voisins du sommet `v`.  \n",
    "Vérifier que les voisins du sommet $2$ dans le graphe ci-dessus sont les sommets $1$, $4$, $5$."
   ]
  },
  {
   "cell_type": "code",
   "execution_count": 10,
   "metadata": {},
   "outputs": [
    {
     "data": {
      "text/plain": [
       "[1, 4, 5]"
      ]
     },
     "execution_count": 10,
     "metadata": {},
     "output_type": "execute_result"
    }
   ],
   "source": [
    "voisins(G, 2)"
   ]
  },
  {
   "cell_type": "markdown",
   "metadata": {},
   "source": [
    "**Exercice** : En déduire une fonction `deg` telle que `deg(G, v)` renvoie le degré du sommet `v`."
   ]
  },
  {
   "cell_type": "code",
   "execution_count": 12,
   "metadata": {},
   "outputs": [
    {
     "data": {
      "text/plain": [
       "3"
      ]
     },
     "execution_count": 12,
     "metadata": {},
     "output_type": "execute_result"
    }
   ],
   "source": [
    "deg(G, 2)"
   ]
  },
  {
   "cell_type": "markdown",
   "metadata": {},
   "source": [
    "**Exercice** : Écrire une fonction `n_aretes` pour calculer le nombre d'arêtes d'un graphe donné par matrice d'adjacence. Tester avec le graphe `G` précédent. On pourra soit réutiliser `deg`, soit deux boucles `for` pour parcourir les éléments de la matrice."
   ]
  },
  {
   "cell_type": "code",
   "execution_count": 14,
   "metadata": {},
   "outputs": [
    {
     "data": {
      "text/plain": [
       "8"
      ]
     },
     "execution_count": 14,
     "metadata": {},
     "output_type": "execute_result"
    }
   ],
   "source": [
    "n_aretes(G)"
   ]
  },
  {
   "cell_type": "markdown",
   "metadata": {},
   "source": [
    "### Représentation par liste d'adjacence"
   ]
  },
  {
   "cell_type": "markdown",
   "metadata": {},
   "source": [
    "**Exercice** : Écrire une fonction `mat_to_list` telle que `mat_to_list(G)` renvoie la liste d'adjacence du graphe `G` donné par matrice d'adjacence. Calculer la représentation par liste d'adjacence `G_list` du graphe `G` précédent.\n",
    "\n",
    "<center><img src=https://github.com/cpge-itc/itc1/raw/4be1ee8d9679ffae521c506ad54acb9e6099c614/files/5_graph/tp/tp2/g.png width=200></center>"
   ]
  },
  {
   "cell_type": "code",
   "execution_count": 16,
   "metadata": {},
   "outputs": [
    {
     "data": {
      "text/plain": [
       "[[6], [2, 3, 4], [1, 4, 5], [1, 4], [1, 2, 3, 5], [2, 4], [0]]"
      ]
     },
     "execution_count": 16,
     "metadata": {},
     "output_type": "execute_result"
    }
   ],
   "source": [
    "G_list = mat_to_list(G)\n",
    "G_list"
   ]
  },
  {
   "cell_type": "markdown",
   "metadata": {},
   "source": [
    "### Parcours en profondeur"
   ]
  },
  {
   "cell_type": "markdown",
   "metadata": {},
   "source": [
    "**Exercice** : Écrire une fonction `dfs(G, s)` renvoyant la liste des sommets de `G` (défini par liste d'adjacence) suivant un parcours en profondeur depuis le sommet `s`. Vérifier sur le graphe `G_list` précédent.  \n",
    "On pourra compléter le code ci-dessous. Ne regarder le cours que si cela est vraiment nécessaire."
   ]
  },
  {
   "cell_type": "code",
   "execution_count": null,
   "metadata": {},
   "outputs": [],
   "source": [
    "def dfs(G, s):\n",
    "    # définir une liste de booléens pour savoir si un sommet a été visité\n",
    "    def aux(u): # fonction récursive\n",
    "        # si u n'a pas été visité :\n",
    "            # afficher u\n",
    "            # marquer u comme visité\n",
    "            # pour chaque voisin v de u\n",
    "                # appeler aux(v)\n",
    "    aux(s)"
   ]
  },
  {
   "cell_type": "code",
   "execution_count": 19,
   "metadata": {},
   "outputs": [
    {
     "name": "stdout",
     "output_type": "stream",
     "text": [
      "0\n",
      "6\n"
     ]
    }
   ],
   "source": [
    "dfs(G_list, 0)"
   ]
  },
  {
   "cell_type": "code",
   "execution_count": 20,
   "metadata": {},
   "outputs": [
    {
     "name": "stdout",
     "output_type": "stream",
     "text": [
      "2\n",
      "1\n",
      "3\n",
      "4\n",
      "5\n"
     ]
    }
   ],
   "source": [
    "dfs(G_list, 2)"
   ]
  },
  {
   "cell_type": "markdown",
   "metadata": {},
   "source": [
    "**Exercice** : En utilisant un parcours en profondeur, écrire une fonction `connexe(G)` qui renvoie `True` si le graphe `G` est connexe, `False` sinon.  \n",
    "Vérifier sur `G_list` (non connexe) et sur un graphe connexe de votre choix."
   ]
  },
  {
   "cell_type": "code",
   "execution_count": 22,
   "metadata": {},
   "outputs": [
    {
     "data": {
      "text/plain": [
       "False"
      ]
     },
     "execution_count": 22,
     "metadata": {},
     "output_type": "execute_result"
    }
   ],
   "source": [
    "connexe(G_list)"
   ]
  },
  {
   "cell_type": "markdown",
   "metadata": {},
   "source": [
    "### Parcours en largeur"
   ]
  },
  {
   "cell_type": "markdown",
   "metadata": {},
   "source": [
    "On rappelle l'utilisation d'une file en Python, avec la classe `deque` :"
   ]
  },
  {
   "cell_type": "code",
   "execution_count": 23,
   "metadata": {},
   "outputs": [
    {
     "data": {
      "text/plain": [
       "7"
      ]
     },
     "execution_count": 23,
     "metadata": {},
     "output_type": "execute_result"
    }
   ],
   "source": [
    "from collections import deque\n",
    "\n",
    "q = deque() # file vide\n",
    "q.appendleft(4) # ajoute 4 au début\n",
    "q.appendleft(7)\n",
    "q.pop() # supprime et renvoie le dernier élément (4)\n",
    "q.appendleft(-5)\n",
    "q.pop() # supprime et renvoie le dernier élément (7)"
   ]
  },
  {
   "cell_type": "markdown",
   "metadata": {},
   "source": [
    "**Exercice** : Écrire une fonction `bfs(G, s)` affichant les sommets du graphe `G` lors d'un parcours en largeur depuis le sommet `s`. Vérifier sur le graphe `G_list` précédent.  \n",
    "\n",
    "<center><img src=https://github.com/cpge-itc/itc1/raw/4be1ee8d9679ffae521c506ad54acb9e6099c614/files/5_graph/tp/tp2/g.png width=200></center>"
   ]
  },
  {
   "cell_type": "code",
   "execution_count": null,
   "metadata": {},
   "outputs": [],
   "source": [
    "from collections import deque\n",
    "\n",
    "def bfs(G, s):\n",
    "    # définir une file q contenant s\n",
    "    # définir une liste visited contenant n False, où n est le nombre de sommets\n",
    "    # tant que q est non vide\n",
    "        # extraire le dernier élément de q dans une variable u\n",
    "        # si u n'a pas été visité:\n",
    "            # afficher u\n",
    "            # mettre True dans visited[u]\n",
    "            # pour chaque voisin v de u\n",
    "                # ajouter v au début de q "
   ]
  },
  {
   "cell_type": "code",
   "execution_count": 26,
   "metadata": {},
   "outputs": [
    {
     "name": "stdout",
     "output_type": "stream",
     "text": [
      "2\n",
      "1\n",
      "4\n",
      "5\n",
      "3\n"
     ]
    }
   ],
   "source": [
    "bfs(G_list, 2)"
   ]
  },
  {
   "cell_type": "markdown",
   "metadata": {},
   "source": [
    "**Exercice** : Écrire une fonction `distances(G, s)` qui renvoie une liste `dist` telle que `dist[v]` soit la distance (en nombre d'arêtes) du sommet `s` au sommet `v`. Vérifier sur le graphe `G_list` précédent.  \n",
    "\n",
    "<center><img src=https://github.com/cpge-itc/itc1/raw/4be1ee8d9679ffae521c506ad54acb9e6099c614/files/5_graph/tp/tp2/g.png width=200></center>"
   ]
  },
  {
   "cell_type": "code",
   "execution_count": 28,
   "metadata": {},
   "outputs": [
    {
     "data": {
      "text/plain": [
       "[inf, 1, 0, 3, 2, 3, inf]"
      ]
     },
     "execution_count": 28,
     "metadata": {},
     "output_type": "execute_result"
    }
   ],
   "source": [
    "distances(G_list, 2)"
   ]
  }
 ],
 "metadata": {
  "kernelspec": {
   "display_name": "Python 3.10.4 ('itc-M7YM_fFd-py3.10')",
   "language": "python",
   "name": "python3"
  },
  "language_info": {
   "codemirror_mode": {
    "name": "ipython",
    "version": 3
   },
   "file_extension": ".py",
   "mimetype": "text/x-python",
   "name": "python",
   "nbconvert_exporter": "python",
   "pygments_lexer": "ipython3",
   "version": "3.9.2"
  },
  "vscode": {
   "interpreter": {
    "hash": "738094b875a04dcd3d0cc180b5278ebaa618b793820fb2e8c746c5a2a37e7311"
   }
  }
 },
 "nbformat": 4,
 "nbformat_minor": 2
}
