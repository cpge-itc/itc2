{
 "cells": [
  {
   "attachments": {},
   "cell_type": "markdown",
   "metadata": {},
   "source": [
    "# Algorithme min-max"
   ]
  },
  {
   "attachments": {},
   "cell_type": "markdown",
   "metadata": {},
   "source": [
    "## Implémentation"
   ]
  },
  {
   "cell_type": "code",
   "execution_count": 18,
   "metadata": {},
   "outputs": [],
   "source": [
    "def minmax(s, h, v, p, joueur):\n",
    "    succ = [minmax(s, h, w, p - 1, 1 - joueur) for w in s(v, joueur)]\n",
    "    if succ == [] or p == 0:\n",
    "        return h(v)\n",
    "    if joueur == 0:\n",
    "        return max(succ)\n",
    "    else:\n",
    "        return min(succ)"
   ]
  },
  {
   "attachments": {},
   "cell_type": "markdown",
   "metadata": {},
   "source": [
    "## Application au jeu du domineering\n",
    "\n",
    "<center><img src=https://raw.githubusercontent.com/fortierq/tikz-pdf/main/jeux/domineering/arbre/arbre.png width=700></center>"
   ]
  },
  {
   "cell_type": "code",
   "execution_count": 19,
   "metadata": {},
   "outputs": [
    {
     "data": {
      "text/plain": [
       "array([[-1.,  0., -1., -1.],\n",
       "       [-1.,  0.,  1.,  1.],\n",
       "       [ 1.,  1., -1., -1.],\n",
       "       [-1., -1., -1., -1.]])"
      ]
     },
     "execution_count": 19,
     "metadata": {},
     "output_type": "execute_result"
    }
   ],
   "source": [
    "import numpy as np\n",
    "\n",
    "v = -np.ones((4, 4))\n",
    "v[0][1] = v[1][1] = 0\n",
    "v[1][2] = v[1][3] = v[2][0] = v[2][1] = 1\n",
    "v # représentation du plateau initial"
   ]
  },
  {
   "attachments": {},
   "cell_type": "markdown",
   "metadata": {},
   "source": [
    "### Heuristique"
   ]
  },
  {
   "cell_type": "code",
   "execution_count": 20,
   "metadata": {},
   "outputs": [
    {
     "data": {
      "text/plain": [
       "-2"
      ]
     },
     "execution_count": 20,
     "metadata": {},
     "output_type": "execute_result"
    }
   ],
   "source": [
    "def h(v):\n",
    "    n0, n1 = 0, 0 # nombre de possibilités pour les deux joueurs\n",
    "    for i in range(len(v)):\n",
    "        for j in range(len(v[0])):\n",
    "            if i + 1 < len(v) and v[i][j] == v[i + 1][j] == -1:\n",
    "                n0 += 1\n",
    "            if j + 1 < len(v[0]) and v[i][j] == v[i][j + 1] == -1:\n",
    "                n1 += 1\n",
    "    if n0 == 0:\n",
    "        return -float('inf')\n",
    "    if n1 == 0:\n",
    "        return float('inf')\n",
    "    return n0 - n1\n",
    "\n",
    "h(v) # test"
   ]
  },
  {
   "attachments": {},
   "cell_type": "markdown",
   "metadata": {},
   "source": [
    "### Successeurs"
   ]
  },
  {
   "cell_type": "code",
   "execution_count": 22,
   "metadata": {},
   "outputs": [],
   "source": [
    "import copy\n",
    "\n",
    "def s(v, joueur):\n",
    "    succ = []\n",
    "    for i in range(4):\n",
    "        for j in range(4):\n",
    "            if v[i][j] == -1:\n",
    "                w = copy.deepcopy(v)\n",
    "                if joueur == 0 and i < 3 and v[i + 1][j] == -1:\n",
    "                    w[i][j] = w[i + 1][j] = joueur\n",
    "                    succ.append(w)\n",
    "                if joueur == 1 and j < 3 and v[i][j + 1] == -1:\n",
    "                    w[i][j] = w[i][j + 1] = joueur\n",
    "                    succ.append(w)\n",
    "    return succ"
   ]
  },
  {
   "cell_type": "code",
   "execution_count": 23,
   "metadata": {},
   "outputs": [
    {
     "data": {
      "text/plain": [
       "[array([[ 0.,  0., -1., -1.],\n",
       "        [ 0.,  0.,  1.,  1.],\n",
       "        [ 1.,  1., -1., -1.],\n",
       "        [-1., -1., -1., -1.]]),\n",
       " array([[-1.,  0., -1., -1.],\n",
       "        [-1.,  0.,  1.,  1.],\n",
       "        [ 1.,  1.,  0., -1.],\n",
       "        [-1., -1.,  0., -1.]]),\n",
       " array([[-1.,  0., -1., -1.],\n",
       "        [-1.,  0.,  1.,  1.],\n",
       "        [ 1.,  1., -1.,  0.],\n",
       "        [-1., -1., -1.,  0.]])]"
      ]
     },
     "execution_count": 23,
     "metadata": {},
     "output_type": "execute_result"
    }
   ],
   "source": [
    "s(v, 0)"
   ]
  },
  {
   "attachments": {},
   "cell_type": "markdown",
   "metadata": {},
   "source": [
    "### Test"
   ]
  },
  {
   "cell_type": "code",
   "execution_count": 24,
   "metadata": {},
   "outputs": [
    {
     "data": {
      "text/plain": [
       "1"
      ]
     },
     "execution_count": 24,
     "metadata": {},
     "output_type": "execute_result"
    }
   ],
   "source": [
    "minmax(s, h, v, 2, 0) # test"
   ]
  },
  {
   "attachments": {},
   "cell_type": "markdown",
   "metadata": {},
   "source": [
    "On retrouve donc bien le bon résultat :\n",
    "\n",
    "<center><img src=https://raw.githubusercontent.com/fortierq/tikz-pdf/main/jeux/domineering/arbre/arbre2.png width=700></center>"
   ]
  },
  {
   "attachments": {},
   "cell_type": "markdown",
   "metadata": {},
   "source": [
    "## Calcul du coup suivant"
   ]
  },
  {
   "cell_type": "code",
   "execution_count": 25,
   "metadata": {},
   "outputs": [],
   "source": [
    "def minmax(s, h, v, p, joueur): # renvoie (coup à jouer, valeur de la position v)\n",
    "    succ = s(v, joueur)\n",
    "    if succ == [] or p == 0:\n",
    "        return v, h(v)\n",
    "    if joueur == 0:\n",
    "        hmax = None\n",
    "        for u in succ:\n",
    "            _, hu = minmax(s, h, u, p - 1, 1 - joueur)\n",
    "            if hmax is None or hu > hmax:\n",
    "                umax, hmax = u, hu\n",
    "        return umax, hmax\n",
    "    else:\n",
    "        hmin = None\n",
    "        for u in succ:\n",
    "            _, hu = minmax(s, h, u, p - 1, 1 - joueur)\n",
    "            if hmin is None or hu < hmin:\n",
    "                umin, hmin = u, hu\n",
    "        return umin, hmin"
   ]
  },
  {
   "attachments": {},
   "cell_type": "markdown",
   "metadata": {},
   "source": [
    "## Affichage des coups choisis par min-max"
   ]
  },
  {
   "cell_type": "code",
   "execution_count": 42,
   "metadata": {},
   "outputs": [],
   "source": [
    "import matplotlib.pyplot as plt\n",
    "from matplotlib.patches import Rectangle\n",
    "\n",
    "def affiche(v):\n",
    "    n = len(v)\n",
    "    ax = plt.axes(xlim=(0, n), ylim=(0, n))\n",
    "    ax.set_aspect('equal', 'box')\n",
    "    plt.xticks(range(5))\n",
    "    plt.yticks(range(5))\n",
    "    plt.grid()\n",
    "    for i in range(n):\n",
    "        for j in range(n):\n",
    "            if v[i][j] == 0:\n",
    "                ax.add_patch(Rectangle((j, n - 1 - i), 1, 1, facecolor='red'))\n",
    "            if v[i][j] == 1:\n",
    "                ax.add_patch(Rectangle((j, n - 1 - i), 1, 1, facecolor='blue'))\n",
    "    plt.show()"
   ]
  },
  {
   "cell_type": "code",
   "execution_count": 43,
   "metadata": {},
   "outputs": [
    {
     "data": {
      "text/plain": [
       "array([[-1.,  0., -1., -1.],\n",
       "       [-1.,  0.,  1.,  1.],\n",
       "       [ 1.,  1., -1., -1.],\n",
       "       [-1., -1., -1., -1.]])"
      ]
     },
     "execution_count": 43,
     "metadata": {},
     "output_type": "execute_result"
    }
   ],
   "source": [
    "v"
   ]
  },
  {
   "cell_type": "code",
   "execution_count": 45,
   "metadata": {},
   "outputs": [
    {
     "data": {
      "image/png": "[encoded data removed]",
      "text/plain": [
       "<Figure size 640x480 with 1 Axes>"
      ]
     },
     "metadata": {},
     "output_type": "display_data"
    },
    {
     "data": {
      "image/png": "[encoded data removed]",
      "text/plain": [
       "<Figure size 640x480 with 1 Axes>"
      ]
     },
     "metadata": {},
     "output_type": "display_data"
    },
    {
     "data": {
      "image/png": "[encoded data removed]",
      "text/plain": [
       "<Figure size 640x480 with 1 Axes>"
      ]
     },
     "metadata": {},
     "output_type": "display_data"
    },
    {
     "data": {
      "image/png": "[encoded data removed]",
      "text/plain": [
       "<Figure size 640x480 with 1 Axes>"
      ]
     },
     "metadata": {},
     "output_type": "display_data"
    },
    {
     "data": {
      "image/png": "[encoded data removed]",
      "text/plain": [
       "<Figure size 640x480 with 1 Axes>"
      ]
     },
     "metadata": {},
     "output_type": "display_data"
    },
    {
     "data": {
      "image/png": "[encoded data removed]",
      "text/plain": [
       "<Figure size 640x480 with 1 Axes>"
      ]
     },
     "metadata": {},
     "output_type": "display_data"
    },
    {
     "name": "stdout",
     "output_type": "stream",
     "text": [
      "Joueur 0 a gagné\n"
     ]
    }
   ],
   "source": [
    "def jeu(s, h, v, p, joueur):\n",
    "    affiche(v)\n",
    "    if s(v, joueur) == []:\n",
    "        print(f\"Joueur {1 - joueur} a gagné\")\n",
    "        return\n",
    "    u, hu = minmax(s, h, v, p, joueur)\n",
    "    jeu(s, h, u, p, 1 - joueur)\n",
    "\n",
    "# g = -np.ones((4, 4))\n",
    "jeu(s, h, v, 3, 0)"
   ]
  }
 ],
 "metadata": {
  "kernelspec": {
   "display_name": "Python 3",
   "language": "python",
   "name": "python3"
  },
  "language_info": {
   "codemirror_mode": {
    "name": "ipython",
    "version": 3
   },
   "file_extension": ".py",
   "mimetype": "text/x-python",
   "name": "python",
   "nbconvert_exporter": "python",
   "pygments_lexer": "ipython3",
   "version": "3.9.2"
  }
 },
 "nbformat": 4,
 "nbformat_minor": 2
}
